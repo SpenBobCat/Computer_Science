{
  "nbformat": 4,
  "nbformat_minor": 0,
  "metadata": {
    "colab": {
      "provenance": [],
      "authorship_tag": "ABX9TyNQeaFNmh5xkRTupG8PG1hV",
      "include_colab_link": true
    },
    "kernelspec": {
      "name": "python3",
      "display_name": "Python 3"
    },
    "language_info": {
      "name": "python"
    }
  },
  "cells": [
    {
      "cell_type": "markdown",
      "metadata": {
        "id": "view-in-github",
        "colab_type": "text"
      },
      "source": [
        "<a href=\"https://colab.research.google.com/github/SpenBobCat/Computer_Science/blob/main/Chapter_1_Built_In_Data_Types.ipynb\" target=\"_parent\"><img src=\"https://colab.research.google.com/assets/colab-badge.svg\" alt=\"Open In Colab\"/></a>"
      ]
    },
    {
      "cell_type": "markdown",
      "source": [
        "# **Computer Science**\n",
        "\n",
        "**1.1 Elements of Programming**\n",
        "\n",
        "By: Michael Spencer"
      ],
      "metadata": {
        "id": "1vAMyTauxWsj"
      }
    },
    {
      "cell_type": "markdown",
      "source": [
        "# **Chapter 1 Exercises:**\n",
        "\n",
        "1.2 - Built-In Data Types"
      ],
      "metadata": {
        "id": "ej6k9gMxybhE"
      }
    },
    {
      "cell_type": "markdown",
      "source": [
        "# **1.2.1** \n",
        "\n",
        "Suppose that a and b are int variables. What does the following sequence of statements do?\n",
        "\n",
        "int t = a; b = t; a = b;"
      ],
      "metadata": {
        "id": "rmmbiQcV2_ea"
      }
    },
    {
      "cell_type": "markdown",
      "source": [
        "The sequence of statements swaps the values of variables a and b using a temporary variable t. Here's a step-by-step breakdown of what happens:\n",
        "\n",
        "int t = a;: The value of variable a is assigned to the temporary variable t. At this point, t holds the initial value of a.\n",
        "\n",
        "b = t;: The value of t (initial value of a) is assigned to variable b. Now, both b and t hold the initial value of a.\n",
        "\n",
        "a = b;: The value of b (which originally held the initial value of a) is assigned to variable a. Now, both a and b have swapped values, and the original value of a is stored in b.\n",
        "\n",
        "After executing these statements, the values of a and b will be swapped."
      ],
      "metadata": {
        "id": "X88BzPr73RZC"
      }
    },
    {
      "cell_type": "markdown",
      "source": [
        "# **1.2.2**\n",
        "\n",
        "Write a program that uses Math.sin() and Math.cos() to check that the value of ![1-2-2.PNG](data:image/png;base64,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)  is approximately 1 for any ![1-2-2-A.PNG](data:image/png;base64,iVBORw0KGgoAAAANSUhEUgAAABQAAAAYCAYAAAD6S912AAAAAXNSR0IArs4c6QAAAARnQU1BAACxjwv8YQUAAAAJcEhZcwAADsMAAA7DAcdvqGQAAAJeSURBVEhLzZTvS1NRGMf7T/bj3hlOTWUZjSQrQ4xRUwtmZLUk04iiMRCy9SKLfickrQiGGTgsJHuhyTZComVRWFQyIphvkjHUEMlad9w7vp27nfCeu3vXiIg+cF7c7+F8OOc8z7lr8Jf5x0JxBQvJJQgZ+l0E2kIpgad9HWhpPoKe0x607XKh534M3+h0ITSEy5g614jKLT5El3OJGB/A/nUbcDgYh5iLdMkTpl6dRwPHo+VmHBLNQPYWPmlDSeUhDH9eTbVghZlFPOqsAm/eigvTaRrKZPBl2I1yA48dV95BOaOGFS6NoLPMCI5vw9ACWwlhyofNJiNK6i/ibQEjIxQiXtQYidB6FGMpGlLEmWtwcGSOa8LtuP6xFUIJs/4mrDUYwVecQOgHjSnSpxtwykJjNbwhgab5KIQCXvhqYSFCztqK64/DCIdWR+ieB/VmMmewYN/gPLlVbRjhE+968LKQ2wjnATfa3Yrh2oYq+TpIYXb7lR3Awgijp+zZHRY8Mtnh3sBcMTsUMXO1MXuHXPkxjKuLEuvDzqzQiq7RFZrmoxACXx92oEIWWtx4QF/JL9Kve3N3aN6OywX6hhFKs7ewhyeLeBcG5lR9ONkNO+lD3uZF5DsNNWCEED+i32EBZ9qEM8+VrZFB8m4rSg0m1BwfJ69dH1ZIFiaCB0k11ZVMIeKxZZ9k70v9HpRRCQnpGPzNZShtuIQ3tNKZ5Ai6qnnUeiaw+Jt/Y76QICXCOOuww9k9hMlnY+h316GuPYAPRfwQNYVZxHm8nwgicGcQo9E49BuFRV/4h/zvQuAnJlWu+rl9qR0AAAAASUVORK5CYII=) entered as a command-line argument. Just print the value. Why are the values not always exactly 1?"
      ],
      "metadata": {
        "id": "kJsk_apz3ir1"
      }
    },
    {
      "cell_type": "markdown",
      "source": [
        "Java"
      ],
      "metadata": {
        "id": "MvIRQ9wG53Rp"
      }
    },
    {
      "cell_type": "code",
      "execution_count": null,
      "metadata": {
        "id": "EK310Pm_xUNl"
      },
      "outputs": [],
      "source": [
        "public class TrigonometryCheck {\n",
        "    public static void main(String[] args) {\n",
        "        if (args.length < 1) {\n",
        "            System.out.println(\"Please enter a value for theta as a command-line argument.\");\n",
        "            return;\n",
        "        }\n",
        "\n",
        "        double theta = Double.parseDouble(args[0]);\n",
        "        double cosSquared = Math.cos(theta) * Math.cos(theta);\n",
        "        double sinSquared = Math.sin(theta) * Math.sin(theta);\n",
        "        double sum = cosSquared + sinSquared;\n",
        "\n",
        "        System.out.println(\"cos^2(theta) + sin^2(theta) = \" + sum);\n",
        "    }\n",
        "}\n"
      ]
    },
    {
      "cell_type": "markdown",
      "source": [
        "In this program, the value of theta is entered as a command-line argument. The program calculates cos^2(theta) by using Math.cos(theta) twice and multiplying the results. Similarly, it calculates sin^2(theta) by using Math.sin(theta) twice and multiplying the results. Then, it calculates the sum of cosSquared and sinSquared and prints the result.\n",
        "\n",
        "Now, regarding why the values are not always exactly 1, it is primarily due to the limited precision of floating-point arithmetic. Floating-point numbers can only represent a finite number of decimal places, and there can be small rounding errors in calculations. These rounding errors accumulate, resulting in tiny deviations from the exact value of 1.\n",
        "\n",
        "Furthermore, trigonometric functions like sin() and cos() involve approximations and mathematical series expansions to compute their values. These approximations introduce additional small errors that contribute to the deviation from 1.\n",
        "\n",
        "Overall, the deviations from 1 are negligible for most practical purposes, but they are inherent to the limitations of representing real numbers in a computer's finite memory."
      ],
      "metadata": {
        "id": "dAHkvsh457rD"
      }
    },
    {
      "cell_type": "markdown",
      "source": [
        "Python"
      ],
      "metadata": {
        "id": "C1R_hBvl6ESz"
      }
    },
    {
      "cell_type": "code",
      "source": [
        "import math\n",
        "\n",
        "theta = input(\"Enter a value for theta: \")\n",
        "theta = float(theta)\n",
        "cos_squared = math.cos(theta) ** 2\n",
        "sin_squared = math.sin(theta) ** 2\n",
        "sum = cos_squared + sin_squared\n",
        "\n",
        "print(\"cos^2(theta) + sin^2(theta) =\", sum)\n"
      ],
      "metadata": {
        "colab": {
          "base_uri": "https://localhost:8080/"
        },
        "id": "3rGa40_F513h",
        "outputId": "4201883e-0e08-45a9-a235-2a60d2cc5502"
      },
      "execution_count": null,
      "outputs": [
        {
          "output_type": "stream",
          "name": "stdout",
          "text": [
            "Enter a value for theta: 36\n",
            "cos^2(theta) + sin^2(theta) = 1.0\n"
          ]
        }
      ]
    },
    {
      "cell_type": "markdown",
      "source": [
        "In Python, we use the math module to access the cos() and sin() functions, and the ** operator for exponentiation. The sys.argv list holds the command-line arguments, and we check if at least one argument (the value of theta) is provided. Then, we perform the calculations and print the result.\n",
        "\n",
        "Note that Python does not require a main() function like Java, and we use sys.exit(1) to exit the program if no argument is provided, similar to the return statement in Java."
      ],
      "metadata": {
        "id": "835b4oVZ6JfD"
      }
    },
    {
      "cell_type": "markdown",
      "source": [
        "# **1.2.3** \n",
        "\n",
        "Suppose that a and b are boolean variables. Show that the expression: \n",
        "\n",
        "(!(a && b) && (a || b)) || ((a && b) || !(a || b))\n",
        "\n",
        "evaluates to true"
      ],
      "metadata": {
        "id": "P13aMGxd6PGy"
      }
    },
    {
      "cell_type": "markdown",
      "source": [
        "We can show that the expression evaluates to True in Python by assigning values to a and b, and then evaluating the expression using Python's boolean operators. \n",
        "\n",
        "Here's an example:"
      ],
      "metadata": {
        "id": "t7OPeIc57axG"
      }
    },
    {
      "cell_type": "code",
      "source": [
        "a = True\n",
        "b = False\n",
        "\n",
        "result = (not (a and b) and (a or b)) or ((a and b) or not (a or b))\n",
        "print(result)\n"
      ],
      "metadata": {
        "colab": {
          "base_uri": "https://localhost:8080/"
        },
        "id": "k979r53p76jV",
        "outputId": "3fd6b2f6-5bfc-4288-a075-812c68ccd739"
      },
      "execution_count": null,
      "outputs": [
        {
          "output_type": "stream",
          "name": "stdout",
          "text": [
            "True\n"
          ]
        }
      ]
    },
    {
      "cell_type": "markdown",
      "source": [
        "When we run this code, the output is True, which means that the expression evaluated to True for the given values of \"a\" and \"b\". You can try different values of \"a\" and \"b\" and verify that the expression always evaluates to \"True\"."
      ],
      "metadata": {
        "id": "6ZZ2jxVV7-6u"
      }
    },
    {
      "cell_type": "markdown",
      "source": [
        "# **1.2.4** \n",
        "\n",
        "Suppose that a and b are int variables. Using Python Simplify the following expression:\n",
        "\n",
        "(!(a < b) && !(a > b))"
      ],
      "metadata": {
        "id": "_omiZLDH8d8f"
      }
    },
    {
      "cell_type": "markdown",
      "source": [
        "The expression (!(a < b) && !(a > b)) can be simplified to a == b. This simplified expression evaluates to True if and only if a and b are equal.\n",
        "\n",
        "Here's the code in Python that demonstrates the simplified expression:"
      ],
      "metadata": {
        "id": "e1b7tAUb9JPS"
      }
    },
    {
      "cell_type": "code",
      "source": [
        "a = 5\n",
        "b = 3\n",
        "\n",
        "result = a == b\n",
        "print(result)\n"
      ],
      "metadata": {
        "colab": {
          "base_uri": "https://localhost:8080/"
        },
        "id": "F5sSk04D9KpF",
        "outputId": "9474105c-bf30-4c4a-f5b0-7d23a13bb5a0"
      },
      "execution_count": null,
      "outputs": [
        {
          "output_type": "stream",
          "name": "stdout",
          "text": [
            "False\n"
          ]
        }
      ]
    },
    {
      "cell_type": "markdown",
      "source": [
        "In this code, we assign example values of 5 and 3 to the variables a and b. Then, we evaluate the expression a == b and assign the result to the variable result. Finally, we print the value of result, which will be False in this case.\n",
        "\n",
        "You can modify the values of a and b to test different scenarios and observe the output. If a and b are equal, the output will be True, and if they are not equal, the output will be False."
      ],
      "metadata": {
        "id": "qDYYbAOa9Xoc"
      }
    },
    {
      "cell_type": "markdown",
      "source": [
        "The expression (!(a < b) && !(a > b)) can be simplified to a == b. In other words, the expression evaluates to True if and only if a and b are equal.\n",
        "\n",
        "Here's the equivalent code in Java:"
      ],
      "metadata": {
        "id": "rRXVXxza9Z3c"
      }
    },
    {
      "cell_type": "code",
      "source": [
        "public class ComparisonCheck {\n",
        "    public static void main(String[] args) {\n",
        "        int a = 5;\n",
        "        int b = 3;\n",
        "        \n",
        "        boolean result = a == b;\n",
        "        System.out.println(result);\n",
        "    }\n",
        "}\n"
      ],
      "metadata": {
        "id": "B_7T45y99f5r"
      },
      "execution_count": null,
      "outputs": []
    },
    {
      "cell_type": "markdown",
      "source": [
        "In this code, we declare and initialize int variables a and b with example values of 5 and 3. Then, we evaluate the expression a == b and assign the result to the boolean variable result. Finally, we print the value of result, which will be false in this case.\n",
        "\n",
        "You can modify the values of a and b to test different scenarios and observe the output. If a and b are equal, the output will be true, and if they are not equal, the output will be false."
      ],
      "metadata": {
        "id": "LkJwmp5l9iLb"
      }
    },
    {
      "cell_type": "markdown",
      "source": [
        "# **1.2.5**\n",
        "\n",
        "The exclusive or operator ^ for boolean operands is defined to be true if they are different, false if they are the same. Give a truth table for this function."
      ],
      "metadata": {
        "id": "As65gj-z9mE6"
      }
    },
    {
      "cell_type": "markdown",
      "source": [
        "Here's a truth table for the exclusive OR (XOR) operator (^) with boolean operands:"
      ],
      "metadata": {
        "id": "MgCZk45x-ALf"
      }
    },
    {
      "cell_type": "code",
      "source": [
        "|   A   |   B   | A ^ B |\n",
        "|-------|-------|-------|\n",
        "| False | False | False |\n",
        "| False | True  | True  |\n",
        "| True  | False | True  |\n",
        "| True  | True  | False |\n"
      ],
      "metadata": {
        "id": "etK0uHb3-BeO"
      },
      "execution_count": null,
      "outputs": []
    },
    {
      "cell_type": "markdown",
      "source": [
        "In the table, A and B represent the boolean operands, and A ^ B represents the result of the exclusive OR operation between A and B.\n",
        "\n",
        "The XOR operator returns True (or 1) if the operands have different truth values, and False (or 0) if the operands have the same truth value."
      ],
      "metadata": {
        "id": "l042JpcM-EGx"
      }
    },
    {
      "cell_type": "markdown",
      "source": [
        "# **1.2.6**\n",
        "\n",
        "Why does 10/3 give 3 and not 3.333333333?"
      ],
      "metadata": {
        "id": "hA18KnZ--Jqd"
      }
    },
    {
      "cell_type": "markdown",
      "source": [
        "The expression 10 / 3 in many programming languages, including Python and Java, performs integer division when the operands are integers. Integer division truncates the decimal portion of the result and returns only the whole number part.\n",
        "\n",
        "In Python, to perform floating-point division and get a decimal result, you can use the division operator / with at least one of the operands as a float. Here's an example:"
      ],
      "metadata": {
        "id": "MTqKow_S-kb2"
      }
    },
    {
      "cell_type": "code",
      "source": [
        "result = 10 / 3.0\n",
        "print(result)\n"
      ],
      "metadata": {
        "colab": {
          "base_uri": "https://localhost:8080/"
        },
        "id": "RFJRfpI7-rxp",
        "outputId": "17a047b3-009b-43d3-a528-1f7a2e9af1a4"
      },
      "execution_count": null,
      "outputs": [
        {
          "output_type": "stream",
          "name": "stdout",
          "text": [
            "3.3333333333333335\n"
          ]
        }
      ]
    },
    {
      "cell_type": "markdown",
      "source": [
        "This will output 3.3333333333333335, which is the result of floating-point division with the operands 10 and 3.0. By including the .0 after 3, we explicitly make it a float value, which causes the division to produce a float result.\n",
        "\n",
        "Similarly, in Java, you can achieve the same result by using a floating-point number as one of the operands:"
      ],
      "metadata": {
        "id": "5Jb2ROKU-ubW"
      }
    },
    {
      "cell_type": "code",
      "source": [
        "double result = 10.0 / 3;\n",
        "System.out.println(result);\n"
      ],
      "metadata": {
        "id": "lRNoufBw-0cv"
      },
      "execution_count": null,
      "outputs": []
    },
    {
      "cell_type": "markdown",
      "source": [
        "This will output 3.3333333333333335 as well.\n",
        "\n",
        "It's important to note that the exact decimal representation of the result may not be always displayed due to the limited precision of floating-point numbers in computer systems. The displayed value is typically rounded to a certain number of decimal places for readability."
      ],
      "metadata": {
        "id": "3rl7qqX8-29A"
      }
    },
    {
      "cell_type": "markdown",
      "source": [
        "Since both 10 and 3 are integer literals, Java sees no need for type conversion and uses integer division. You should write 10.0/3.0 if you mean the numbers to be double literals. If you write 10/3.0 or 10.0/3, Java does implicit conversion to get the same result."
      ],
      "metadata": {
        "id": "M3fnQ-Ml-8V3"
      }
    },
    {
      "cell_type": "markdown",
      "source": [
        "# **1.2.7**\n",
        "\n",
        "What does each of the following print?\n",
        "\n",
        "a. System.out.println(2 + \"bc\");\n",
        "\n",
        "b. System.out.println(2 + 3 + \"bc\");\n",
        "\n",
        "c. System.out.println((2+3) + \"bc\");\n",
        "\n",
        "d. System.out.println(\"bc\" + (2+3));\n",
        "\n",
        "e. System.out.println(\"bc\" + 2 + 3);\n",
        "\n",
        "Explain each outcome."
      ],
      "metadata": {
        "id": "6ad9CFCV_DUl"
      }
    },
    {
      "cell_type": "markdown",
      "source": [
        "Let's go through each statement and explain what will be printed:\n",
        "\n",
        "a. System.out.println(2 + \"bc\");\n",
        "Output: 2bc\n",
        "Explanation: The + operator is used for both addition and string concatenation in Java. In this case, the expression 2 + \"bc\" performs string concatenation because one of the operands is a string. The integer 2 is converted to a string and then concatenated with the string \"bc\", resulting in the output 2bc.\n",
        "\n",
        "b. System.out.println(2 + 3 + \"bc\");\n",
        "Output: 5bc\n",
        "Explanation: The expression is evaluated from left to right. The first addition operation 2 + 3 performs integer addition and yields 5. Then, the result 5 is concatenated with the string \"bc\", resulting in the output 5bc.\n",
        "\n",
        "c. System.out.println((2+3) + \"bc\");\n",
        "Output: 5bc\n",
        "Explanation: The parentheses (2+3) ensure that the addition operation (2+3) is performed first, resulting in 5. Then, the result 5 is concatenated with the string \"bc\", resulting in the output 5bc.\n",
        "\n",
        "d. System.out.println(\"bc\" + (2+3));\n",
        "Output: bc5\n",
        "Explanation: The string \"bc\" is concatenated with the result of the addition operation (2+3), which is 5. Therefore, the output is bc5.\n",
        "\n",
        "e. System.out.println(\"bc\" + 2 + 3);\n",
        "Output: bc23\n",
        "Explanation: The + operator performs string concatenation when at least one operand is a string. In this case, the string \"bc\" is concatenated with the string representation of 2, resulting in \"bc2\". Then, the string \"bc2\" is further concatenated with the string representation of 3, resulting in the output bc23.\n",
        "\n",
        "In summary, the output of each statement depends on whether the + operator is used for addition or string concatenation based on the operands' types."
      ],
      "metadata": {
        "id": "tEf9uBXVCcmR"
      }
    },
    {
      "cell_type": "markdown",
      "source": [
        "# **1.2.8**\n",
        "\n",
        "Explain how to use Program 1.2.3 to find the square root of a number.\n",
        "\n",
        "**Program 1.2.3 Quadratic formula:**\n",
        "\n",
        "```\n",
        "# public class Quadratic\n",
        "{\n",
        " public static void main(String[] args)\n",
        " {\n",
        " double b = Double.parseDouble(args[0]);\n",
        " double c = Double.parseDouble(args[1]);\n",
        " double discriminant = b*b - 4.0*c;\n",
        " double d = Math.sqrt(discriminant);\n",
        " System.out.println((-b + d) / 2.0);\n",
        " System.out.println((-b - d) / 2.0);\n",
        " }\n",
        "}\n",
        "```\n",
        "![image.png](data:image/png;base64,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)\n",
        "\n"
      ],
      "metadata": {
        "id": "E1S341qJCpab"
      }
    },
    {
      "cell_type": "markdown",
      "source": [
        "# **1.2.9**\n",
        "\n",
        "What does each of the following print?\n",
        "\n",
        "a. System.out.println('b');\n",
        "\n",
        "b. System.out.println('b' + 'c');\n",
        "\n",
        "c. System.out.println((char) ('a' + 4));\n",
        "\n",
        "Explain each outcome."
      ],
      "metadata": {
        "id": "V7MwXRQ-8yjR"
      }
    },
    {
      "cell_type": "markdown",
      "source": [
        "Let's go through each statement and explain what will be printed:\n",
        "\n",
        "a. System.out.println('b');\n",
        "Output: b\n",
        "Explanation: The statement prints the character literal 'b' as is. It simply outputs the character b to the console.\n",
        "\n",
        "b. System.out.println('b' + 'c');\n",
        "Output: 197\n",
        "Explanation: The expression 'b' + 'c' performs character addition due to the presence of the + operator. In Java, character addition converts the characters to their corresponding ASCII values and performs the addition. The ASCII value of 'b' is 98, and the ASCII value of 'c' is 99. Thus, the expression evaluates to 98 + 99 = 197, and the output is 197.\n",
        "\n",
        "c. System.out.println((char) ('a' + 4));\n",
        "Output: e\n",
        "Explanation: The expression ('a' + 4) adds the character 'a' (with an ASCII value of 97) and the integer 4. The result is 101. The (char) cast is used to convert the resulting ASCII value back into a character. In this case, the ASCII value 101 corresponds to the character 'e'. Therefore, the output is e.\n",
        "\n",
        "In summary, when a character is printed directly, it is displayed as is. When characters are involved in an addition operation, their ASCII values are used, and the result is either the numeric sum or the character corresponding to the resulting ASCII value when explicitly cast back to a character."
      ],
      "metadata": {
        "id": "BWW2ECsI94Vj"
      }
    },
    {
      "cell_type": "markdown",
      "source": [
        "# **1.2.10**\n",
        "\n",
        "Suppose that a variable a is declared as int a = 2147483647 (or equivalently, Integer.MAX_VALUE). What does each of the following print?\n",
        "\n",
        "a. System.out.println(a);\n",
        "\n",
        "b. System.out.println(a+1);\n",
        "\n",
        "c. System.out.println(2-a);\n",
        "\n",
        "d. System.out.println(-2-a);\n",
        "\n",
        "e. System.out.println(2*a);\n",
        "\n",
        "f. System.out.println(4*a);\n",
        "\n",
        "Explain each outcome."
      ],
      "metadata": {
        "id": "wKC5kUwM-MO9"
      }
    },
    {
      "cell_type": "markdown",
      "source": [
        "Let's go through each statement and explain what will be printed:\n",
        "\n",
        "a. System.out.println(a);\n",
        "Output: 2147483647\n",
        "Explanation: The statement prints the value of the variable a as is. Since a is assigned the value 2147483647, the output will be 2147483647.\n",
        "\n",
        "b. System.out.println(a+1);\n",
        "Output: -2147483648\n",
        "Explanation: The expression a+1 performs an addition operation between the value of a and 1. When the value 2147483647 (the maximum value for int) is incremented by 1, it exceeds the maximum limit and wraps around to the minimum value -2147483648. Therefore, the output is -2147483648.\n",
        "\n",
        "c. System.out.println(2-a);\n",
        "Output: -2147483645\n",
        "Explanation: The expression 2-a performs a subtraction operation between the value 2 and the value of a. Subtracting 2147483647 from 2 results in -2147483645.\n",
        "\n",
        "d. System.out.println(-2-a);\n",
        "Output: -2147483649\n",
        "Explanation: The expression -2-a performs a subtraction operation between the value -2 and the value of a. Subtracting 2147483647 from -2 results in -2147483649.\n",
        "\n",
        "e. System.out.println(2*a);\n",
        "Output: -2\n",
        "Explanation: The expression 2*a performs a multiplication operation between the value 2 and the value of a. Since a has the value 2147483647, multiplying it by 2 results in -2. The result is within the range of int, so the output is -2.\n",
        "\n",
        "f. System.out.println(4*a);\n",
        "Output: -4\n",
        "Explanation: The expression 4*a performs a multiplication operation between the value 4 and the value of a. Multiplying 2147483647 by 4 results in -4. The result is within the range of int, so the output is -4.\n",
        "\n",
        "In summary, when performing arithmetic operations with the maximum value of int (2147483647), overflow or wraparound can occur, resulting in unexpected values. It's important to be aware of the range limitations of integer types when working with large values."
      ],
      "metadata": {
        "id": "QnuOj-kY-ric"
      }
    },
    {
      "cell_type": "markdown",
      "source": [
        "# **1.2.11**\n",
        "\n",
        "Suppose that a variable a is declared as double a = 3.14159. What does each of the following print?\n",
        "\n",
        "a. System.out.println(a);\n",
        "\n",
        "b. System.out.println(a+1);\n",
        "\n",
        "c. System.out.println(8/(int) a);\n",
        "\n",
        "d. System.out.println(8/a);\n",
        "\n",
        "e. System.out.println((int) (8/a));\n",
        "\n",
        "Explain each outcome."
      ],
      "metadata": {
        "id": "x9NV3p4r_C9V"
      }
    },
    {
      "cell_type": "markdown",
      "source": [
        "Let's go through each statement and explain what will be printed:\n",
        "\n",
        "a. System.out.println(a);\n",
        "Output: 3.14159\n",
        "Explanation: The statement prints the value of the variable a as is. Since a is assigned the value 3.14159, the output will be 3.14159.\n",
        "\n",
        "b. System.out.println(a+1);\n",
        "Output: 4.14159\n",
        "Explanation: The expression a+1 performs an addition operation between the value of a and 1. Adding 1 to 3.14159 results in 4.14159. Therefore, the output is 4.14159.\n",
        "\n",
        "c. System.out.println(8/(int) a);\n",
        "Output: 2\n",
        "Explanation: The expression 8/(int) a divides the value 8 by the integer cast of a. Since a is 3.14159 and explicitly cast to int, the result is the integer division of 8 by 3, which is 2. Therefore, the output is 2.\n",
        "\n",
        "d. System.out.println(8/a);\n",
        "Output: 2.5464812403919\n",
        "Explanation: The expression 8/a performs a division operation between the value 8 and a. Dividing 8 by 3.14159 results in approximately 2.5464812403919. Therefore, the output is 2.5464812403919.\n",
        "\n",
        "e. System.out.println((int) (8/a));\n",
        "Output: 2\n",
        "Explanation: The expression (int) (8/a) performs the division operation 8/a and then explicitly casts the result to an integer. Dividing 8 by 3.14159 results in approximately 2.5464812403919, and when explicitly cast to an integer, the decimal part is truncated, resulting in 2. Therefore, the output is 2.\n",
        "\n",
        "In summary, the output depends on the specific arithmetic operation being performed and the data types involved. The division operation between double and int results in different behaviors, with the decimal parts either being truncated or preserved."
      ],
      "metadata": {
        "id": "1KafYRpB_2eP"
      }
    },
    {
      "cell_type": "markdown",
      "source": [
        "# **1.2.12**\n",
        "\n",
        "Describe what happens if you write sqrt instead of Math.sqrt in Program 1.2.3.\n",
        "\n",
        "```\n",
        "public class Quadratic\n",
        "{\n",
        " public static void main(String[] args)\n",
        " {\n",
        " double b = Double.parseDouble(args[0]);\n",
        " double c = Double.parseDouble(args[1]);\n",
        " double discriminant = b*b - 4.0*c;\n",
        " double d = Math.sqrt(discriminant);\n",
        " System.out.println((-b + d) / 2.0);\n",
        " System.out.println((-b - d) / 2.0);\n",
        " }\n",
        "}\n",
        "```\n",
        "\n"
      ],
      "metadata": {
        "id": "aVxLBrFd8NSu"
      }
    },
    {
      "cell_type": "markdown",
      "source": [
        "If you write sqrt instead of Math.sqrt in the given program, it will result in a compilation error. The compiler will not recognize the symbol sqrt because it is not a valid method in the default Java library.\n",
        "\n",
        "The Math.sqrt() method is a static method provided by the Math class in Java. It is used to calculate the square root of a given number. By calling Math.sqrt(), you are invoking the square root function from the Math class and providing the value discriminant as the argument.\n",
        "\n",
        "If you write sqrt instead of Math.sqrt, the compiler will not find a matching method and will generate an error similar to: \"cannot find symbol: method sqrt(double)\".\n",
        "\n",
        "To fix the error, you need to use the correct method name Math.sqrt() to ensure the program compiles and runs successfully."
      ],
      "metadata": {
        "id": "EOuKgLGmDzah"
      }
    },
    {
      "cell_type": "markdown",
      "source": [
        "# **1.2.13**\n",
        "\n",
        "Evaluate the expression (Math.sqrt(2) * Math.sqrt(2) == 2)."
      ],
      "metadata": {
        "id": "qwiJ-tgCD2Ji"
      }
    },
    {
      "cell_type": "markdown",
      "source": [
        "\n",
        "The expression (Math.sqrt(2) * Math.sqrt(2) == 2) evaluates to true.\n",
        "\n",
        "When evaluating the expression step by step:\n",
        "\n",
        "Math.sqrt(2) calculates the square root of 2, which is approximately 1.4142135623730951.\n",
        "\n",
        "Multiplying Math.sqrt(2) by itself gives 1.4142135623730951 * 1.4142135623730951, which equals 1.9999999999999996 (due to rounding errors in floating-point arithmetic).\n",
        "\n",
        "Comparing the result to 2 using the equality operator == evaluates to false because the values are not exactly equal.\n",
        "\n",
        "Therefore, the expression (Math.sqrt(2) * Math.sqrt(2) == 2) evaluates to false when considering the exact equality.\n",
        "\n",
        "However, it's important to note that floating-point arithmetic can introduce rounding errors due to the limitations of representing real numbers on computers. Comparing floating-point values for exact equality is generally not recommended. Instead, it's often better to use a small tolerance or range to check if two floating-point values are approximately equal."
      ],
      "metadata": {
        "id": "Hi6kn73oEMPr"
      }
    },
    {
      "cell_type": "markdown",
      "source": [
        "# **1.2.14**\n",
        "\n",
        "Write a program that takes two positive integers as command-line\n",
        "arguments and prints true if either evenly divides the other."
      ],
      "metadata": {
        "id": "wHPdDACdEPu7"
      }
    },
    {
      "cell_type": "markdown",
      "source": [
        "Here's an example of a program in Python that takes two positive integers as command-line arguments and prints True if either number evenly divides the other, and False otherwise:"
      ],
      "metadata": {
        "id": "LfUScWjxEeEb"
      }
    },
    {
      "cell_type": "code",
      "source": [
        "import sys\n",
        "\n",
        "if len(sys.argv) < 3:\n",
        "    print(\"Please provide two positive integers as command-line arguments.\")\n",
        "    sys.exit(1)\n",
        "\n",
        "# Extract the command-line arguments and convert them to integers\n",
        "num1 = int(sys.argv[1])\n",
        "num2 = int(sys.argv[2])\n",
        "\n",
        "# Check if either number evenly divides the other\n",
        "if num1 % num2 == 0 or num2 % num1 == 0:\n",
        "    print(True)\n",
        "else:\n",
        "    print(False)\n"
      ],
      "metadata": {
        "id": "5fIXsO5WEvgG"
      },
      "execution_count": null,
      "outputs": []
    },
    {
      "cell_type": "markdown",
      "source": [
        "# **1.2.15**\n",
        "\n",
        "Write a program that takes three positive integers as command-line\n",
        "arguments and prints false if any one of them is greater than or equal to the sum of the other two and true otherwise. (Note: This computation tests whether the three numbers could be the lengths of the sides of some triangle.) "
      ],
      "metadata": {
        "id": "SNqiZwVKEycl"
      }
    },
    {
      "cell_type": "markdown",
      "source": [
        "Python:"
      ],
      "metadata": {
        "id": "qeZy9FzqZ1pb"
      }
    },
    {
      "cell_type": "code",
      "source": [
        "import sys\n",
        "\n",
        "def is_triangle(a, b, c):\n",
        "    if a >= b + c or b >= a + c or c >= a + b:\n",
        "        return False\n",
        "    else:\n",
        "        return True\n",
        "\n",
        "if __name__ == \"__main__\":\n",
        "    if len(sys.argv) != 4:\n",
        "        print(\"Usage: python triangle_check.py <integer1> <integer2> <integer3>\")\n",
        "    else:\n",
        "        try:\n",
        "            num1 = int(sys.argv[1])\n",
        "            num2 = int(sys.argv[2])\n",
        "            num3 = int(sys.argv[3])\n",
        "\n",
        "            if num1 <= 0 or num2 <= 0 or num3 <= 0:\n",
        "                print(\"Error: All numbers must be positive integers.\")\n",
        "            else:\n",
        "                result = is_triangle(num1, num2, num3)\n",
        "                print(result)\n",
        "        except ValueError:\n",
        "            print(\"Error: All arguments must be integers.\")\n"
      ],
      "metadata": {
        "id": "1963QORwZxFt"
      },
      "execution_count": null,
      "outputs": []
    },
    {
      "cell_type": "markdown",
      "source": [
        "1. The code starts by importing the sys module, which provides access to system-specific parameters and functions in Python.\n",
        "\n",
        "2. Next, a function is_triangle(a, b, c) is defined. This function takes three arguments, a, b, and c, which represent the lengths of the sides of a triangle. It checks if any of the sides are greater than or equal to the sum of the other two sides. If this condition is true for any of the sides, it means the lengths cannot form a triangle, and the function returns False. Otherwise, it returns True.\n",
        "\n",
        "3. The code then checks if the script is being run as the main program by using the if __name__ == \"__main__\": condition. This ensures that the following code block is only executed if the script is executed directly and not imported as a module.\n",
        "\n",
        "4. Inside the if __name__ == \"__main__\": block, the code checks if the command-line arguments are provided correctly. It verifies that the length of sys.argv (the list of command-line arguments) is 4, including the script name itself.\n",
        "\n",
        "5. If the correct number of command-line arguments is not provided, it prints a usage message indicating how to use the script with the required arguments.\n",
        "\n",
        "6. If the correct number of arguments is provided, the code attempts to convert the command-line arguments (sys.argv[1], sys.argv[2], and sys.argv[3]) to integers and assigns them to the variables num1, num2, and num3, respectively.\n",
        "\n",
        "7. It then checks if any of the input numbers are non-positive (less than or equal to zero). If any of them are non-positive, it prints an error message indicating that all numbers must be positive integers.\n",
        "\n",
        "8. If all the input numbers are positive, it calls the is_triangle() function with num1, num2, and num3 as arguments and assigns the result to the variable result.\n",
        "\n",
        "9. Finally, it prints the value of result, which indicates whether the given numbers could form the sides of a triangle or not.\n",
        "\n",
        "10. If any conversion error occurs during the attempt to convert the command-line arguments to integers (in the try block), it catches the ValueError exception and prints an error message indicating that all arguments must be integers."
      ],
      "metadata": {
        "id": "5T-PuKHjHNHw"
      }
    },
    {
      "cell_type": "markdown",
      "source": [
        "Java:"
      ],
      "metadata": {
        "id": "cCMvqi4XaSzy"
      }
    },
    {
      "cell_type": "code",
      "source": [
        "public class TriangleCheck {\n",
        "    public static boolean isTriangle(int a, int b, int c) {\n",
        "        if (a >= b + c || b >= a + c || c >= a + b) {\n",
        "            return false;\n",
        "        } else {\n",
        "            return true;\n",
        "        }\n",
        "    }\n",
        "\n",
        "    public static void main(String[] args) {\n",
        "        if (args.length != 3) {\n",
        "            System.out.println(\"Usage: java TriangleCheck <integer1> <integer2> <integer3>\");\n",
        "        } else {\n",
        "            try {\n",
        "                int num1 = Integer.parseInt(args[0]);\n",
        "                int num2 = Integer.parseInt(args[1]);\n",
        "                int num3 = Integer.parseInt(args[2]);\n",
        "\n",
        "                if (num1 <= 0 || num2 <= 0 || num3 <= 0) {\n",
        "                    System.out.println(\"Error: All numbers must be positive integers.\");\n",
        "                } else {\n",
        "                    boolean result = isTriangle(num1, num2, num3);\n",
        "                    System.out.println(result);\n",
        "                }\n",
        "            } catch (NumberFormatException e) {\n",
        "                System.out.println(\"Error: All arguments must be integers.\");\n",
        "            }\n",
        "        }\n",
        "    }\n",
        "}\n"
      ],
      "metadata": {
        "id": "zlayBVJiaU7y"
      },
      "execution_count": null,
      "outputs": []
    },
    {
      "cell_type": "markdown",
      "source": [
        "1. The code defines a public class named TriangleCheck.\n",
        "\n",
        "2. Inside the class, there is a public static method named isTriangle that takes three integer parameters a, b, and c. This method checks if any of the sides are greater than or equal to the sum of the other two sides, just like in the Python version. If this condition is true for any of the sides, it returns false. Otherwise, it returns true.\n",
        "\n",
        "3. The class also contains a main method, which serves as the entry point for the program.\n",
        "\n",
        "4. Inside the main method, the code checks if the number of command-line arguments (args.length) is not equal to 3. If the number of arguments is incorrect, it prints a usage message indicating how to use the program with the required arguments.\n",
        "\n",
        "5. If the correct number of arguments is provided, the code attempts to parse the command-line arguments (args[0], args[1], and args[2]) as integers using the Integer.parseInt() method and assigns them to the variables num1, num2, and num3, respectively.\n",
        "\n",
        "6. It then checks if any of the input numbers are non-positive (less than or equal to zero). If any of them are non-positive, it prints an error message indicating that all numbers must be positive integers.\n",
        "\n",
        "7. If all the input numbers are positive, it calls the isTriangle method with num1, num2, and num3 as arguments and assigns the result to the boolean variable result.\n",
        "\n",
        "Finally, it prints the value of result, which indicates whether the given numbers could form the sides of a triangle or not.\n",
        "\n",
        "8. If an exception occurs during the parsing of integers (in the try block), specifically a NumberFormatException, it catches the exception and prints an error message indicating that all arguments must be integers."
      ],
      "metadata": {
        "id": "8S7LxOntaaDT"
      }
    },
    {
      "cell_type": "markdown",
      "source": [
        "# **1.2.16**\n",
        "\n",
        "A physics student gets unexpected results when using the code\n",
        "double force = G * mass1 * mass2 / r * r; to compute values according to the formula F = Gm_1m_2 / r^2. Explain the problem\n",
        "and correct the code."
      ],
      "metadata": {
        "id": "gwYJklsza1FW"
      }
    },
    {
      "cell_type": "markdown",
      "source": [
        "The problem in the code double force = G * mass1 * mass2 / r * r; lies in the order of operations and the absence of parentheses.\n",
        "\n",
        "In the formula F = Gm_1m_2 / r^2, the division should be performed before multiplying by G. Additionally, the term r * r should be enclosed in parentheses to correctly represent the square of r.\n",
        "\n",
        "To correct the code, you should modify it as follows:"
      ],
      "metadata": {
        "id": "3AgcGwoVbsrH"
      }
    },
    {
      "cell_type": "code",
      "source": [
        "# double force = G * mass1 * mass2 / (r * r);"
      ],
      "metadata": {
        "id": "tnHf3rAYbu3h"
      },
      "execution_count": null,
      "outputs": []
    },
    {
      "cell_type": "markdown",
      "source": [
        "In this corrected code, the division is performed first, calculating the reciprocal of r^2, and then the multiplication by G, mass1, and mass2 is carried out.\n",
        "\n",
        "This modification ensures that the calculations follow the intended order of operations and correctly compute the force using the gravitational formula F = Gm_1m_2 / r^2.\n",
        "\n",
        "Remember to replace G, mass1, mass2, and r with the appropriate variable or constant values from your program or equations."
      ],
      "metadata": {
        "id": "9vJ5d33cbzJQ"
      }
    },
    {
      "cell_type": "markdown",
      "source": [
        "# **1.2.17**\n",
        "\n",
        "Give the value of the variable a after the execution of each of the following sequences of statements:\n",
        "\n",
        "int a = 1; \n",
        "a = a + a; \n",
        "a = a + a; \n",
        "a = a + a;\n",
        "\n",
        "boolean a = true;\n",
        "a = !a;\n",
        "a = !a;\n",
        "a = !a;\n",
        "\n",
        "int a = 2;\n",
        "a = a * a;\n",
        "a = a * a;\n",
        "a = a * a;\n"
      ],
      "metadata": {
        "id": "nymQY56Ecr63"
      }
    },
    {
      "cell_type": "markdown",
      "source": [
        "Let's go through each sequence of statements and determine the value of the variable a after the execution:\n",
        "\n",
        "1. Sequence: int a = 1; a = a + a; a = a + a; a = a + a;\n",
        "\n",
        "- After the first line: a = 1\n",
        "- After the second line: a = 1 + 1 = 2\n",
        "- After the third line: a = 2 + 2 = 4\n",
        "- After the fourth line: a = 4 + 4 = 8\n",
        "\n",
        "So, the final value of a is 8.\n",
        "\n",
        "2. Sequence: boolean a = true; a = !a; a = !a; a = !a;\n",
        "\n",
        "- After the first line: a = true\n",
        "- After the second line: a = !true = false\n",
        "- After the third line: a = !false = true\n",
        "- After the fourth line: a = !true = false\n",
        "\n",
        "Therefore, the final value of a is false.\n",
        "\n",
        "3. Sequence: int a = 2; a = a * a; a = a * a; a = a * a;\n",
        "\n",
        "- After the first line: a = 2\n",
        "- After the second line: a = 2 * 2 = 4\n",
        "- After the third line: a = 4 * 4 = 16\n",
        "- After the fourth line: a = 16 * 16 = 256\n",
        "\n",
        "Hence, the final value of a is 256.\n",
        "\n",
        "To summarize:\n",
        "\n",
        "a = 8\n",
        "a = false\n",
        "a = 256"
      ],
      "metadata": {
        "id": "Mdtz7uUueTUn"
      }
    },
    {
      "cell_type": "markdown",
      "source": [
        "# **1.2.18**\n",
        "\n",
        "Write a program that takes two integer command-line arguments x and y and prints the Euclidean distance from the point (x, y) to the origin (0, 0)."
      ],
      "metadata": {
        "id": "aZ6tQwetevRR"
      }
    },
    {
      "cell_type": "markdown",
      "source": [
        "Python:"
      ],
      "metadata": {
        "id": "VxcW-mCZfEDc"
      }
    },
    {
      "cell_type": "code",
      "source": [
        "import sys\n",
        "import math\n",
        "\n",
        "if __name__ == \"__main__\":\n",
        "    if len(sys.argv) != 3:\n",
        "        print(\"Usage: python euclidean_distance.py <x> <y>\")\n",
        "    else:\n",
        "        try:\n",
        "            x = int(sys.argv[1])\n",
        "            y = int(sys.argv[2])\n",
        "\n",
        "            distance = math.sqrt(x**2 + y**2)\n",
        "            print(distance)\n",
        "        except ValueError:\n",
        "            print(\"Error: Both arguments must be integers.\")\n"
      ],
      "metadata": {
        "id": "rQgq_mTPfEbk"
      },
      "execution_count": null,
      "outputs": []
    },
    {
      "cell_type": "markdown",
      "source": [
        "Java:"
      ],
      "metadata": {
        "id": "BhKiniZDfT32"
      }
    },
    {
      "cell_type": "code",
      "source": [
        "public class EuclideanDistance {\n",
        "    public static void main(String[] args) {\n",
        "        if (args.length != 2) {\n",
        "            System.out.println(\"Usage: java EuclideanDistance <x> <y>\");\n",
        "        } else {\n",
        "            try {\n",
        "                int x = Integer.parseInt(args[0]);\n",
        "                int y = Integer.parseInt(args[1]);\n",
        "\n",
        "                double distance = Math.sqrt(x * x + y * y);\n",
        "                System.out.println(distance);\n",
        "            } catch (NumberFormatException e) {\n",
        "                System.out.println(\"Error: Both arguments must be integers.\");\n",
        "            }\n",
        "        }\n",
        "    }\n",
        "}\n"
      ],
      "metadata": {
        "id": "_2pnnTKbfV5m"
      },
      "execution_count": null,
      "outputs": []
    },
    {
      "cell_type": "markdown",
      "source": [
        "# **1.2.19**\n",
        "\n",
        "Write a program that takes two integer command-line arguments a and b and prints a random integer between a and b, inclusive."
      ],
      "metadata": {
        "id": "IRryzOJ9fTmH"
      }
    },
    {
      "cell_type": "markdown",
      "source": [
        "Python:"
      ],
      "metadata": {
        "id": "h89XG1H_gf8b"
      }
    },
    {
      "cell_type": "code",
      "source": [
        "import sys\n",
        "import random\n",
        "\n",
        "if __name__ == \"__main__\":\n",
        "    if len(sys.argv) != 3:\n",
        "        print(\"Usage: python random_integer.py <a> <b>\")\n",
        "    else:\n",
        "        try:\n",
        "            a = int(sys.argv[1])\n",
        "            b = int(sys.argv[2])\n",
        "\n",
        "            if a > b:\n",
        "                a, b = b, a  # Swap a and b if a is greater than b\n",
        "\n",
        "            random_integer = random.randint(a, b)\n",
        "            print(random_integer)\n",
        "        except ValueError:\n",
        "            print(\"Error: Both arguments must be integers.\")\n"
      ],
      "metadata": {
        "id": "ceNnJ1G_gD-O"
      },
      "execution_count": null,
      "outputs": []
    },
    {
      "cell_type": "markdown",
      "source": [
        "Java:"
      ],
      "metadata": {
        "id": "lJ8NueUQgkox"
      }
    },
    {
      "cell_type": "code",
      "source": [
        "import java.util.Random;\n",
        "\n",
        "public class RandomInteger {\n",
        "    public static void main(String[] args) {\n",
        "        if (args.length != 2) {\n",
        "            System.out.println(\"Usage: java RandomInteger <a> <b>\");\n",
        "        } else {\n",
        "            try {\n",
        "                int a = Integer.parseInt(args[0]);\n",
        "                int b = Integer.parseInt(args[1]);\n",
        "\n",
        "                if (a > b) {\n",
        "                    int temp = a;\n",
        "                    a = b;\n",
        "                    b = temp;  // Swap a and b if a is greater than b\n",
        "                }\n",
        "\n",
        "                Random random = new Random();\n",
        "                int randomInteger = random.nextInt(b - a + 1) + a;\n",
        "                System.out.println(randomInteger);\n",
        "            } catch (NumberFormatException e) {\n",
        "                System.out.println(\"Error: Both arguments must be integers.\");\n",
        "            }\n",
        "        }\n",
        "    }\n",
        "}\n"
      ],
      "metadata": {
        "id": "e_UqeOh7gmBz"
      },
      "execution_count": null,
      "outputs": []
    },
    {
      "cell_type": "markdown",
      "source": [
        "# **1.2.20**\n",
        "\n",
        "Write a program that prints the sum of two random integers between 1 and 6 (such as you might get when rolling dice)."
      ],
      "metadata": {
        "id": "6gqL01uNgpyq"
      }
    },
    {
      "cell_type": "markdown",
      "source": [
        "Python:"
      ],
      "metadata": {
        "id": "_hhd9DjXg2Ws"
      }
    },
    {
      "cell_type": "code",
      "source": [
        "import random\n",
        "\n",
        "# Generate two random integers between 1 and 6 (inclusive)\n",
        "dice1 = random.randint(1, 6)\n",
        "dice2 = random.randint(1, 6)\n",
        "\n",
        "# Calculate the sum\n",
        "sum_of_dice = dice1 + dice2\n",
        "\n",
        "# Print the sum\n",
        "print(\"Sum of dice:\", sum_of_dice)\n"
      ],
      "metadata": {
        "id": "i8naHUhtg4GM"
      },
      "execution_count": null,
      "outputs": []
    },
    {
      "cell_type": "markdown",
      "source": [
        "Java:"
      ],
      "metadata": {
        "id": "1e4jA9ntg4r0"
      }
    },
    {
      "cell_type": "code",
      "source": [
        "import java.util.Random;\n",
        "\n",
        "public class SumOfDice {\n",
        "    public static void main(String[] args) {\n",
        "        // Create a Random object\n",
        "        Random random = new Random();\n",
        "\n",
        "        // Generate two random integers between 1 and 6 (inclusive)\n",
        "        int dice1 = random.nextInt(6) + 1;\n",
        "        int dice2 = random.nextInt(6) + 1;\n",
        "\n",
        "        // Calculate the sum\n",
        "        int sumOfDice = dice1 + dice2;\n",
        "\n",
        "        // Print the sum\n",
        "        System.out.println(\"Sum of dice: \" + sumOfDice);\n",
        "    }\n",
        "}\n"
      ],
      "metadata": {
        "id": "VAVJ3E6Jg6bc"
      },
      "execution_count": null,
      "outputs": []
    },
    {
      "cell_type": "markdown",
      "source": [
        "# **1.2.21**\n",
        "\n",
        "Write a program that takes a double command-line argument t and prints the value of **sin(2t) + sin(3t)**"
      ],
      "metadata": {
        "id": "dwvZjmYPg8fI"
      }
    },
    {
      "cell_type": "markdown",
      "source": [
        "Python:"
      ],
      "metadata": {
        "id": "mLPsRzoVhcvx"
      }
    },
    {
      "cell_type": "code",
      "source": [
        "import sys\n",
        "import math\n",
        "\n",
        "if __name__ == \"__main__\":\n",
        "    if len(sys.argv) != 2:\n",
        "        print(\"Usage: python sin_sum.py <t>\")\n",
        "    else:\n",
        "        try:\n",
        "            t = float(sys.argv[1])\n",
        "\n",
        "            result = math.sin(2*t) + math.sin(3*t)\n",
        "            print(result)\n",
        "        except ValueError:\n",
        "            print(\"Error: The argument must be a valid double.\")\n"
      ],
      "metadata": {
        "id": "Z1vGk3d4hcGR"
      },
      "execution_count": null,
      "outputs": []
    },
    {
      "cell_type": "markdown",
      "source": [
        "Java:"
      ],
      "metadata": {
        "id": "pp_8WGbiheq5"
      }
    },
    {
      "cell_type": "code",
      "source": [
        "public class SinSum {\n",
        "    public static void main(String[] args) {\n",
        "        if (args.length != 1) {\n",
        "            System.out.println(\"Usage: java SinSum <t>\");\n",
        "        } else {\n",
        "            try {\n",
        "                double t = Double.parseDouble(args[0]);\n",
        "\n",
        "                double result = Math.sin(2 * t) + Math.sin(3 * t);\n",
        "                System.out.println(result);\n",
        "            } catch (NumberFormatException e) {\n",
        "                System.out.println(\"Error: The argument must be a valid double.\");\n",
        "            }\n",
        "        }\n",
        "    }\n",
        "}\n"
      ],
      "metadata": {
        "id": "jxjW6HNBhfM6"
      },
      "execution_count": null,
      "outputs": []
    },
    {
      "cell_type": "markdown",
      "source": [
        "# **1.2.22**\n",
        "\n",
        "Write a program that takes three double command-line arguments x_0, v_0,and t and prints the value of \n",
        "\n",
        "![image.png](data:image/png;base64,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)\n",
        "\n",
        "where g is the constant 9.80665. (Note: This value is the displacement in meters after t seconds when an object is thrown\n",
        "straight up from initial position x_0 at velocity v_0 meters per second.)"
      ],
      "metadata": {
        "id": "OZM9CaNHh_Zm"
      }
    },
    {
      "cell_type": "markdown",
      "source": [
        "Python:"
      ],
      "metadata": {
        "id": "muQL3ijLjHHA"
      }
    },
    {
      "cell_type": "code",
      "source": [
        "import sys\n",
        "\n",
        "def calculate_displacement(x_0, v_0, t):\n",
        "    g = 9.80665\n",
        "    displacement = x_0 + v_0 * t - 0.5 * g * t**2\n",
        "    return displacement\n",
        "\n",
        "if __name__ == \"__main__\":\n",
        "    if len(sys.argv) != 4:\n",
        "        print(\"Usage: python program.py x_0 v_0 t\")\n",
        "    else:\n",
        "        x_0 = float(sys.argv[1])\n",
        "        v_0 = float(sys.argv[2])\n",
        "        t = float(sys.argv[3])\n",
        "        result = calculate_displacement(x_0, v_0, t)\n",
        "        print(\"Displacement:\", result)\n"
      ],
      "metadata": {
        "id": "qJCC9Z1HjGYg"
      },
      "execution_count": null,
      "outputs": []
    },
    {
      "cell_type": "markdown",
      "source": [
        "Java:"
      ],
      "metadata": {
        "id": "dG3bgRCfjt0_"
      }
    },
    {
      "cell_type": "code",
      "source": [
        "public class DisplacementCalculator {\n",
        "    public static void main(String[] args) {\n",
        "        if (args.length != 3) {\n",
        "            System.out.println(\"Usage: java DisplacementCalculator x_0 v_0 t\");\n",
        "        } else {\n",
        "            double x_0 = Double.parseDouble(args[0]);\n",
        "            double v_0 = Double.parseDouble(args[1]);\n",
        "            double t = Double.parseDouble(args[2]);\n",
        "            double result = calculateDisplacement(x_0, v_0, t);\n",
        "            System.out.println(\"Displacement: \" + result);\n",
        "        }\n",
        "    }\n",
        "    \n",
        "    public static double calculateDisplacement(double x_0, double v_0, double t) {\n",
        "        double g = 9.80665;\n",
        "        double displacement = x_0 + v_0 * t - 0.5 * g * Math.pow(t, 2);\n",
        "        return displacement;\n",
        "    }\n",
        "}\n"
      ],
      "metadata": {
        "id": "F-kMjX_ijuY-"
      },
      "execution_count": null,
      "outputs": []
    },
    {
      "cell_type": "markdown",
      "source": [
        "# **1.2.23**\n",
        "\n",
        "Write a program that takes two integer command-line arguments m and\n",
        "d and prints true if day d of month m is between 3/20 and 6/20, false otherwise."
      ],
      "metadata": {
        "id": "XY6nZr5QkMB5"
      }
    },
    {
      "cell_type": "markdown",
      "source": [
        "Python:"
      ],
      "metadata": {
        "id": "005DZkV5kigu"
      }
    },
    {
      "cell_type": "code",
      "source": [
        "import sys\n",
        "\n",
        "def is_between_dates(m, d):\n",
        "    if m < 3 or (m == 3 and d < 20):\n",
        "        return False\n",
        "    elif m > 6 or (m == 6 and d > 20):\n",
        "        return False\n",
        "    else:\n",
        "        return True\n",
        "\n",
        "if __name__ == \"__main__\":\n",
        "    if len(sys.argv) < 3:\n",
        "        print(\"Please provide values for month (m) and day (d) as command-line arguments.\")\n",
        "        sys.exit(1)\n",
        "\n",
        "    m = int(sys.argv[1])\n",
        "    d = int(sys.argv[2])\n",
        "\n",
        "    result = is_between_dates(m, d)\n",
        "    print(result)\n"
      ],
      "metadata": {
        "id": "DsPO3cO-kjxl"
      },
      "execution_count": null,
      "outputs": []
    },
    {
      "cell_type": "markdown",
      "source": [
        "Java:"
      ],
      "metadata": {
        "id": "LX2BxfN1kkKG"
      }
    },
    {
      "cell_type": "code",
      "source": [
        "public class DateChecker {\n",
        "    public static boolean isBetweenDates(int m, int d) {\n",
        "        if (m < 3 || (m == 3 && d < 20)) {\n",
        "            return false;\n",
        "        } else if (m > 6 || (m == 6 && d > 20)) {\n",
        "            return false;\n",
        "        } else {\n",
        "            return true;\n",
        "        }\n",
        "    }\n",
        "\n",
        "    public static void main(String[] args) {\n",
        "        if (args.length < 2) {\n",
        "            System.out.println(\"Please provide values for month (m) and day (d) as command-line arguments.\");\n",
        "            System.exit(1);\n",
        "        }\n",
        "\n",
        "        int m = Integer.parseInt(args[0]);\n",
        "        int d = Integer.parseInt(args[1]);\n",
        "\n",
        "        boolean result = isBetweenDates(m, d);\n",
        "        System.out.println(result);\n",
        "    }\n",
        "}\n"
      ],
      "metadata": {
        "id": "MQmX-ShWklVW"
      },
      "execution_count": null,
      "outputs": []
    },
    {
      "cell_type": "markdown",
      "source": [
        "# **1.2.24**\n",
        "\n",
        "Continuously compounded interest. Write a program that calculates and prints the amount of money you would have after t years if you invested P dollars at an annual interest rate r (compounded continuously). The desired value is given by the formula:\n",
        "\n",
        "![image.png](data:image/png;base64,iVBORw0KGgoAAAANSUhEUgAAACQAAAAcCAYAAAAJKR1YAAAEKUlEQVRYhe2WfUzUdRzHX+cdFE9OOkAO46GDCAhNE1nJdKiNac2s+TTNLRvRPy3XXA8LU3NNt7JNmxQY6tKpM3v22TBxUWQgBIFeQHiG4A856QSuu+OePv0hycFx6pgt/uD912+f7+/z+7y+3897n+9PJSLCCNKY/xtgsEaBbqcRB6TpfxTs7QaqqkrYvW4bpzuDSF3xKrkZWrC2U/9rI44HZrFocQ6TIu/574jERyYpXTNTEuPnyXtnzf1h559y7PXZkvjoK7Kvocc3bbjydEnjiTJp6vWIiIhvy8SBrdsB6nj0McFeZxnLnBULSew8xtYd5ZjuyrBwohzfyHP7Fe4NUAFDechpwmjohCg9cdoArwUVgQlpZAa7+ausFqPtzonEUs/+VXPJLjhD3e6XyZz6NiUtFzj+8Ra27Cyhx1LBwa07KTHavD3Ul9zVRuMlJ+qsBHRBqqErdFmwugTwsz7ggwrlX1fS4bbBD9/y/bIFbFgfzsSYVKJXmjlXeJLlRfmszgoHfE5IcCqXMDjVRKTGoR1UT7pMtPaCOjOdxLC+VLGiVB+mcG0eT03JZP6q7fyo9PYnqXRkrZhJ1LUeAjKWkvtMDvOenka0RoWnrYlq62QyksfefH0QkJuuViMtjCVZH0XQgDUHrWdPU+6O48klj3O/CsRygS83FlCqmU7eu0UcKFqK/dBm3txTg9U7tecyhroUlsyfRJiqv1ZnUx0X0ieSpFX7A7LTbryIk2hS48K9GiK4lFMUvP8zybnreCNnAiqXkUP5aylLX8ySSVo0qAm5T0voEJtxtzVRqU4jLd472k3juRpCpqcS50UxEEi6aW24AuoowoMEF4LLomA48yn5LxZhf6mQ4rdmo9O4UL4rYmPlYyzPSbhhRDFTc/QUntzNbHo2wWszLjoa6jGm6Zng7UlPB39UWZk63szJD/dSYXYDDDK17TJ1lSbQLyDm7wq+KG6k3RFGbHIKL+w8QEp08I1CjgaObD+Gfc42UoIFu1LN0b3HuTp5A/ueSCR0gPeu01ClMH1eOuO94+LGYbPRXG0madMy0kL72jZgRrUclJX6BJm4plS6/E8y6a39SHLiH5RZqz+QT7YWy+dlv4vJ5r4rc3LA1WG7colGdzCJSTpC8ad/ja9j0fznycuO8PvmcOTlISedLRe5RgTpCdpb3LourncoOO8qxpBAFloMF3ETS9IE/+cDGsZF6QhAoeJ8G46bccFl/o1Dn1UM/1pxtfUDibmWk4eb7yBLQ8SUbOZqPTTv2s6eX5pRjOf56ZtCtpzwMGPhNCLvYID7SrBW7Ue9/rXcd2rKSzmyq5DiynYEM1ftgYQGagiNiGRsoG/zVGHxPPJwCKaao3xVaqDDOY6HsheydEY8QWOGRQOo0IQEohIZ/cm/pUaBbqdRoNtpxAH9A61RetcqIT+aAAAAAElFTkSuQmCC)"
      ],
      "metadata": {
        "id": "bQC8Bt_bk4Vy"
      }
    },
    {
      "cell_type": "markdown",
      "source": [
        "Python:"
      ],
      "metadata": {
        "id": "_B0ALpXhlb8V"
      }
    },
    {
      "cell_type": "code",
      "source": [
        "import sys\n",
        "import math\n",
        "\n",
        "def calculate_amount(P, r, t):\n",
        "    amount = P * math.exp(r * t)\n",
        "    return amount\n",
        "\n",
        "if __name__ == \"__main__\":\n",
        "    if len(sys.argv) < 4:\n",
        "        print(\"Please provide values for P (principal), r (interest rate), and t (years) as command-line arguments.\")\n",
        "        sys.exit(1)\n",
        "\n",
        "    P = float(sys.argv[1])\n",
        "    r = float(sys.argv[2])\n",
        "    t = float(sys.argv[3])\n",
        "\n",
        "    result = calculate_amount(P, r, t)\n",
        "    print(result)\n"
      ],
      "metadata": {
        "id": "VkVkx2rMlcXt"
      },
      "execution_count": null,
      "outputs": []
    },
    {
      "cell_type": "markdown",
      "source": [
        "Java:"
      ],
      "metadata": {
        "id": "r_x1NSaMlcud"
      }
    },
    {
      "cell_type": "code",
      "source": [
        "public class ContinuousInterest {\n",
        "    public static double calculateAmount(double P, double r, double t) {\n",
        "        double amount = P * Math.exp(r * t);\n",
        "        return amount;\n",
        "    }\n",
        "\n",
        "    public static void main(String[] args) {\n",
        "        if (args.length < 3) {\n",
        "            System.out.println(\"Please provide values for P (principal), r (interest rate), and t (years) as command-line arguments.\");\n",
        "            System.exit(1);\n",
        "        }\n",
        "\n",
        "        double P = Double.parseDouble(args[0]);\n",
        "        double r = Double.parseDouble(args[1]);\n",
        "        double t = Double.parseDouble(args[2]);\n",
        "\n",
        "        double result = calculateAmount(P, r, t);\n",
        "        System.out.println(result);\n",
        "    }\n",
        "}\n"
      ],
      "metadata": {
        "id": "KPO7O3tCldHl"
      },
      "execution_count": null,
      "outputs": []
    },
    {
      "cell_type": "markdown",
      "source": [
        "# **1.2.25**\n",
        "\n",
        "Wind chill. Given the temperature T (in degrees Fahrenheit) and the wind speed v (in miles per hour), the National Weather Service defines the effective temperature (the wind chill) as follows:\n",
        "\n",
        "![image.png](data:image/png;base64,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)\n",
        "\n",
        "Write a program that takes two double command-line arguments temperature and velocity and prints the wind chill. Use Math.pow(a, b) to compute a^b. Note: The formula is not valid if T is larger than 50 in absolute value or if v is larger than 120 or less than 3 (you may assume that the values you get are in that range)."
      ],
      "metadata": {
        "id": "HrUCyl59ldad"
      }
    },
    {
      "cell_type": "markdown",
      "source": [
        "To compute the wind chill temperature, you can use the following formula:\n",
        "\n",
        "wind_chill = 35.74 + 0.6215 * T - 35.75 * v^0.16 + 0.4275 * T * v^0.16\n",
        "\n",
        "Where:\n",
        "\n",
        "- 'T' is the temperature in degrees Fahrenheit\n",
        "- 'v' is the wind speed in miles per hour\n",
        "\n",
        "You can plug in the values of T and v into the formula to calculate the wind chill temperature.\n",
        "\n",
        "Here's an example calculation:\n",
        "\n",
        "If the temperature is 20 degrees Fahrenheit and the wind speed is 10 miles per hour, you can substitute T = 20 and v = 10 into the formula:\n",
        "\n",
        "wind_chill = 35.74 + 0.6215 * 20 - 35.75 * 10^0.16 + 0.4275 * 20 * 10^0.16\n",
        "\n",
        "           = 35.74 + 12.43 - 35.75 * 1.58489319246 + 0.4275 * 20 * 1.58489319246\n",
        "           ≈ 23.471\n"
      ],
      "metadata": {
        "id": "83ac8FConNvl"
      }
    },
    {
      "cell_type": "markdown",
      "source": [
        "Python:"
      ],
      "metadata": {
        "id": "sNiOyO7rnnXx"
      }
    },
    {
      "cell_type": "code",
      "source": [
        "import math\n",
        "\n",
        "t = float(input(\"Enter the temperature: \"))\n",
        "v = float(input(\"Enter the velocity: \"))\n",
        "\n",
        "if abs(t) > 50 or v > 120 or v < 3:\n",
        "    print(\"Invalid input\")\n",
        "else:\n",
        "    w = 35.74 + 0.6215 * t + (0.4275 * t - 35.75) * math.pow(v, 0.16)\n",
        "    print(\"Wind chill:\", w)\n"
      ],
      "metadata": {
        "id": "saoxF1LSno0g"
      },
      "execution_count": null,
      "outputs": []
    },
    {
      "cell_type": "markdown",
      "source": [
        "Java:"
      ],
      "metadata": {
        "id": "xhRZOsjLnpOJ"
      }
    },
    {
      "cell_type": "code",
      "source": [
        "public class WindChill {\n",
        "    public static void main(String[] args) {\n",
        "        double t = Double.parseDouble(args[0]);\n",
        "        double v = Double.parseDouble(args[1]);\n",
        "\n",
        "        if (Math.abs(t) > 50 || v > 120 || v < 3) {\n",
        "            System.out.println(\"Invalid input\");\n",
        "        } else {\n",
        "            double w = 35.74 + 0.6215*t + (0.4275*t - 35.75)*Math.pow(v, 0.16);\n",
        "            System.out.println(\"Wind chill: \" + w);\n",
        "        }\n",
        "    }\n",
        "}\n"
      ],
      "metadata": {
        "id": "py6KJGEznqvw"
      },
      "execution_count": null,
      "outputs": []
    },
    {
      "cell_type": "markdown",
      "source": [
        "# **1.2.26**\n",
        "\n",
        "Polar coordinates. Write a program that converts from Cartesian\n",
        "to polar coordinates. Your program should accept two double commandline arguments x and y and print the polar coordinates:\n",
        "\n",
        "r and ![image.png](data:image/png;base64,iVBORw0KGgoAAAANSUhEUgAAABYAAAAWCAYAAADEtGw7AAACPUlEQVRIibWVTUiUURiFn5lxBhoLRyLzD8wRUaKF2AghaZRiRVqLXBTtsxaBYLRrE0ERSC2SFkYELaKiCEd3FsQQWIhoaYY/GUrjNGaifmrjOJ4W6jiGmZ80B+7i3vfycLjvvedaJIk4yBoPKEDC2mkEo6+Vx09a6ZhyUXikmrPH8thu2QJZUf2S//UNVXouqrE9oNngezWeL1fltVb5w4syqyh40d+s2sK9qrjbqdDSikJdDarIKlVty4jMopfP2KD7xQO845mUebJxAGDBkbefsqRhvLeb6J431+Ml8PwgvpcfgWzcGdtWq45U3AVJ0P8K3+cZ82B968HXHwYc2BNiOmWxYbdbgT583d8x49kKYs7/hd4Ntxn0DgSYMwFOgAhTY0EMALzUHfBStx56eIwpwLl5x7Gqor6tn4GvQ8vDR315sgmfa8BWnK7kfzpxpro27TYKTtydSfqG2+ykZ6WQaA4MtoxcipwABjNzkdWqQsxMh4E0inJTsJkFsyMHT8lOIEBwIrxajUwS7DPAVoAnz2UCuwK2pFF86jB2/HQOjkfvqwKDdE6A/cRRilNX8kosjPq4d6WO688/Yfztckcf92yHGqr2Kf9Si4KLkhRWsOWy8t1n1NA1GZMCE3p387hysvYox31Bz4ZDG4eQtKDpnkeq8ZzTnbZRzQbf6FZVuWoeftD0mgRa0M/2+6o5dFDVV5s1NL9+PFmk2B8kgjH0lqanzfh+7KKk8jQnS91byuM/wP9Pcfua4gb+DeiVuk1H1Hx0AAAAAElFTkSuQmCC)\n",
        "\n",
        "Use the method Math.atan2(y, x) to compute the arctangent value of y/x that is in the range from:\n",
        "\n",
        " ![image.png](data:image/png;base64,iVBORw0KGgoAAAANSUhEUgAAAE4AAAAWCAYAAABud6qHAAAE50lEQVRYhe2Ye0yTVxjGf6V2IAGlG+JEDCBTopMtuGgcblKdl/jHtrgsczFGmYrTzLkxTVyyqTE6F82CM9nmxpZN41wWXWQ3L5n3SxeEVCfhUqRQLdRCC1LoRUr79ewPCrRMtNxCl/AkTU7e7z3vec5zvvf93lOZEEIwjF4jbKgJ/F8R+sJ5jFz89ACXWrxDzSQAoS2caOBa7kbePlxHqNWTEBeuEa1aizTUPB4AWWh+HDxY1Hl88oOaSs01KlrGk66ajFIG8mlZ7H5vNkoZgIRdr+b3o2fREo2iQU9DRBovLXmVhenxRMgGj+HACSeaKT++j227fuRGU5DviHIjR4tymD6ih+feCg4teY2dla/zXcF2VKP8E8SF6cI+1u2DnG9yUI0L77StXXOC8du+4rMVaUQ9VDwJe/mv7P14Dz9pLMFxZgobjh8dqFR1Yzq1m5WbDgUvWr8gYdPksW7NceJXLSNzXLjPHs441So2LYvg7PYNbD1V+9DaKEyn2bp8Sy9E84Mmd7FISUzq5S9dZOfXiE54SkXegkyR/cV5obd5hBBe0VqwR8zJ1Qh3p5NbmPI3B857FCStOPjKVJEyZZu40Cx12b1GcfLdWSJl4jpxzODqNskrHAV7RUZikpi89IiolkQPcIqyvDfFjNVfigvVLcIrhBCtBWLP7Fyhcfu5mfJF9up8Yeo2e8T0nJPocvpy6v4nV4o6Yjlb1qpIUsgANxZDNY4AL4lWpxWDowUJkPdnQdst/j5bB+FxxI7unucyRk58mhkK+FNzA23jGySPeUAtEGZKr0aQ/WEWquTIdpPFQJkD5vu73XdiMzhokuBJP9IDkqqCOOZ+sIhURUdBaUZ3s7ybl5t79Ubu3jF3E7T38NbfpsTZ83NZeCTRCsBtwmz19EA6jNi5WSxOjeyIik1XwvVublJTPZW1tdQ7AvvIAREuLCGTlaoJXcGcVRSeM+K424it08tKTWkdzsJKjP0sg7KYOBIVgMtMQ3MPwgBEppA49rEeSE9AlZVJQifpFrTXinDazTTaOgh6aDDosTq1VBpdgdP7t4UHQ7pTzHmThLvJQedyLiMVRU1QpeX2vf4pJ3tiMjOfGw2SjuIq638+AKLZQq0L5DOnkRId5Balu9w8pwO3A6erI6ITQ0UFoKdEbw1wHwTh3JhKNOgAtEYsPo2ExUBZMyCVU1Fzv5chndx3+aVKWBILVr9MLHpO5xdRF6CchLWqnHKms2b9XBKC7OWEqRT1LTdQg9Hc5jM2YSirByyoK0z4v9uDIJwLc62hfehow+3blGSupaR9RJs7yHtn2FimZCSC+wwHj6jRm6q5fvoqulY5Y+Zv5vsdi+C3XD7/o5pW3zrCXszPBzTM2rmD9TNjCbYH7uLnos3j4yc1UlvcDIC3zR1wg+mp9ewH5IyMim4fpY5F6Tsa+ZgE0uRwRYpBOUoRZKwYZryzl1223Xx9OJf9vMWKpQtJiZABo5m6MpcT6X/xy7H9vH8lltTYNkz2eF746Fuyn4nr1eZkI6OIBazyeOKUPn5yJQnPKuGinbjHowPiDcqVS9gruXy+CkXabJ5Pjvaduou665cotCUzb86kR3T0QwDRQuXlK+hGTOXFjGQfP4Gn7h/OFNp5al4Gk6K6+pEQvauGPkL735EQxrBwfcSwcH3EsHB9xL/56r/nvXwQkAAAAABJRU5ErkJggg==)"
      ],
      "metadata": {
        "id": "f9Oeg7HenrIo"
      }
    },
    {
      "cell_type": "markdown",
      "source": [
        "Python:"
      ],
      "metadata": {
        "id": "8Ep_eLBYqPiY"
      }
    },
    {
      "cell_type": "code",
      "source": [
        "import sys\n",
        "import math\n",
        "\n",
        "x = float(sys.argv[1])\n",
        "y = float(sys.argv[2])\n",
        "\n",
        "r = math.sqrt(x**2 + y**2)\n",
        "theta = math.atan2(y, x)\n",
        "\n",
        "print(\"Polar coordinates:\")\n",
        "print(\"r =\", r)\n",
        "print(\"θ =\", theta)\n"
      ],
      "metadata": {
        "id": "Pynd3AvPqSvY"
      },
      "execution_count": null,
      "outputs": []
    },
    {
      "cell_type": "markdown",
      "source": [
        "Java:"
      ],
      "metadata": {
        "id": "omcMdy5MqQ3_"
      }
    },
    {
      "cell_type": "code",
      "source": [
        "public class CartesianToPolar {\n",
        "    public static void main(String[] args) {\n",
        "        double x = Double.parseDouble(args[0]);\n",
        "        double y = Double.parseDouble(args[1]);\n",
        "\n",
        "        double r = Math.sqrt(x * x + y * y);\n",
        "        double theta = Math.atan2(y, x);\n",
        "\n",
        "        System.out.println(\"Polar coordinates:\");\n",
        "        System.out.println(\"r = \" + r);\n",
        "        System.out.println(\"θ = \" + theta);\n",
        "    }\n",
        "}\n"
      ],
      "metadata": {
        "id": "pHVNT3r1qQMI"
      },
      "execution_count": null,
      "outputs": []
    },
    {
      "cell_type": "markdown",
      "source": [
        "# **1.2.27**\n",
        "\n",
        "Gaussian random numbers. Write a program RandomGaussian\n",
        "that prints a random number r drawn from the Gaussian distribution. One way to do so is to use the Box–Muller formula:\n",
        "\n",
        "![image.png](data:image/png;base64,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)\n",
        "\n",
        "where u and v are real numbers between 0 and 1 generated by the Math.random() method."
      ],
      "metadata": {
        "id": "ex6j44PLqk28"
      }
    },
    {
      "cell_type": "markdown",
      "source": [
        "Python:"
      ],
      "metadata": {
        "id": "yh79NpdBrgmy"
      }
    },
    {
      "cell_type": "code",
      "source": [
        "import math\n",
        "import random\n",
        "\n",
        "def random_gaussian(mean, std_dev):\n",
        "    # Generate two independent random numbers between 0 and 1\n",
        "    u1 = random.random()\n",
        "    u2 = random.random()\n",
        "\n",
        "    # Apply Box-Muller transform to generate standard normal variables\n",
        "    z1 = math.sqrt(-2 * math.log(u1)) * math.cos(2 * math.pi * u2)\n",
        "    z2 = math.sqrt(-2 * math.log(u1)) * math.sin(2 * math.pi * u2)\n",
        "\n",
        "    # Scale and shift the generated random variables\n",
        "    x1 = mean + std_dev * z1\n",
        "    x2 = mean + std_dev * z2\n",
        "\n",
        "    # Return one of the generated values\n",
        "    return x1 if random.choice([True, False]) else x2\n",
        "\n",
        "# Example usage\n",
        "mean = 0  # Mean of the Gaussian distribution\n",
        "std_dev = 1  # Standard deviation of the Gaussian distribution\n",
        "\n",
        "# Generate and print a random number from the Gaussian distribution\n",
        "random_number = random_gaussian(mean, std_dev)\n",
        "print(random_number)\n"
      ],
      "metadata": {
        "id": "d_MqFiyarhSi"
      },
      "execution_count": null,
      "outputs": []
    },
    {
      "cell_type": "markdown",
      "source": [
        "Java:  "
      ],
      "metadata": {
        "id": "wIswABgGrhli"
      }
    },
    {
      "cell_type": "code",
      "source": [
        "import java.util.Random;\n",
        "\n",
        "public class GaussianRandomGenerator {\n",
        "    public static double randomGaussian(double mean, double stdDev) {\n",
        "        Random random = new Random();\n",
        "\n",
        "        // Generate two independent random numbers between 0 and 1\n",
        "        double u1 = random.nextDouble();\n",
        "        double u2 = random.nextDouble();\n",
        "\n",
        "        // Apply Box-Muller transform to generate standard normal variables\n",
        "        double z1 = Math.sqrt(-2 * Math.log(u1)) * Math.cos(2 * Math.PI * u2);\n",
        "        double z2 = Math.sqrt(-2 * Math.log(u1)) * Math.sin(2 * Math.PI * u2);\n",
        "\n",
        "        // Scale and shift the generated random variables\n",
        "        double x1 = mean + stdDev * z1;\n",
        "        double x2 = mean + stdDev * z2;\n",
        "\n",
        "        // Return one of the generated values\n",
        "        return random.nextBoolean() ? x1 : x2;\n",
        "    }\n",
        "\n",
        "    public static void main(String[] args) {\n",
        "        double mean = 0;  // Mean of the Gaussian distribution\n",
        "        double stdDev = 1;  // Standard deviation of the Gaussian distribution\n",
        "\n",
        "        // Generate and print a random number from the Gaussian distribution\n",
        "        double randomNumber = randomGaussian(mean, stdDev);\n",
        "        System.out.println(randomNumber);\n",
        "    }\n",
        "}\n"
      ],
      "metadata": {
        "id": "isA0xywvrh5E"
      },
      "execution_count": null,
      "outputs": []
    },
    {
      "cell_type": "markdown",
      "source": [
        "# **1.2.28**\n",
        "\n",
        "Order check. Write a Java program that takes three double command-line\n",
        "arguments x, y, and z and prints true if the values are strictly ascending or descending\n",
        "( x < y < z or x > y > z ), and false otherwise."
      ],
      "metadata": {
        "id": "sD7lBU28riMa"
      }
    },
    {
      "cell_type": "code",
      "source": [
        "public class OrderCheck {\n",
        "    public static void main(String[] args) {\n",
        "        if (args.length != 3) {\n",
        "            System.out.println(\"Please provide three double command-line arguments.\");\n",
        "            return;\n",
        "        }\n",
        "\n",
        "        double x = Double.parseDouble(args[0]);\n",
        "        double y = Double.parseDouble(args[1]);\n",
        "        double z = Double.parseDouble(args[2]);\n",
        "\n",
        "        boolean isAscending = x < y && y < z;\n",
        "        boolean isDescending = x > y && y > z;\n",
        "\n",
        "        boolean isOrdered = isAscending || isDescending;\n",
        "\n",
        "        System.out.println(isOrdered);\n",
        "    }\n",
        "}\n"
      ],
      "metadata": {
        "id": "LfHDxhNJsxKQ"
      },
      "execution_count": null,
      "outputs": []
    },
    {
      "cell_type": "markdown",
      "source": [
        "# **1.2.29**\n",
        "\n",
        "Day of the week. Write a program that takes a date as input and prints the day of the week that date falls on. Your program should accept three int commandline arguments: m (month), d (day), and y (year). For m, use 1 for January, 2 for February, and so forth. For output, print 0 for Sunday, 1 for Monday, 2 for Tuesday, and so forth. Use the following formulas, for the Gregorian calendar:\n",
        "\n",
        "![image.png](data:image/png;base64,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)\n",
        "\n",
        "Example: On which day of the week did February 14, 2000 fall?\n",
        "\n",
        "![image.png](data:image/png;base64,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)\n"
      ],
      "metadata": {
        "id": "nUYMBOuOs20W"
      }
    },
    {
      "cell_type": "code",
      "source": [
        "import sys\n",
        "\n",
        "def day_of_week(m, d, y):\n",
        "    if m < 3:\n",
        "        m += 12\n",
        "        y -= 1\n",
        "    q = d\n",
        "    m = m\n",
        "    k = y % 100\n",
        "    j = y // 100\n",
        "    h = (q + 13*(m+1)//5 + k + k//4 + j//4 + 5*j) % 7\n",
        "\n",
        "    # Map the result to the corresponding day of the week\n",
        "    days = [\"Sunday\", \"Monday\", \"Tuesday\", \"Wednesday\", \"Thursday\", \"Friday\", \"Saturday\"]\n",
        "    return days[h]\n",
        "\n",
        "# Read the command-line arguments\n",
        "m = int(sys.argv[1])\n",
        "d = int(sys.argv[2])\n",
        "y = int(sys.argv[3])\n",
        "\n",
        "# Calculate the day of the week\n",
        "result = day_of_week(m, d, y)\n",
        "\n",
        "# Print the result\n",
        "print(result)\n"
      ],
      "metadata": {
        "id": "cg8SkFfAu2p0"
      },
      "execution_count": null,
      "outputs": []
    },
    {
      "cell_type": "markdown",
      "source": [
        "# **1.2.30**\n",
        "\n",
        "**Uniform random numbers**. Write a program that prints five uniform random numbers between 0 and 1, their average value, and their minimum and maximum values. Use **Math.random(), Math.min(), and Math.max()**."
      ],
      "metadata": {
        "id": "vaNuDfCCuJeS"
      }
    },
    {
      "cell_type": "code",
      "source": [
        "import java.util.Arrays;\n",
        "\n",
        "public class RandomNumbers {\n",
        "    public static void main(String[] args) {\n",
        "        double[] numbers = new double[5];\n",
        "\n",
        "        // Generate random numbers\n",
        "        for (int i = 0; i < numbers.length; i++) {\n",
        "            numbers[i] = Math.random();\n",
        "        }\n",
        "\n",
        "        // Calculate average\n",
        "        double sum = 0;\n",
        "        for (double number : numbers) {\n",
        "            sum += number;\n",
        "        }\n",
        "        double average = sum / numbers.length;\n",
        "\n",
        "        // Find minimum and maximum values\n",
        "        double minimum = Arrays.stream(numbers).min().orElse(0);\n",
        "        double maximum = Arrays.stream(numbers).max().orElse(0);\n",
        "\n",
        "        // Print the random numbers, average, minimum, and maximum values\n",
        "        System.out.println(\"Random Numbers: \" + Arrays.toString(numbers));\n",
        "        System.out.println(\"Average: \" + average);\n",
        "        System.out.println(\"Minimum: \" + minimum);\n",
        "        System.out.println(\"Maximum: \" + maximum);\n",
        "    }\n",
        "}\n"
      ],
      "metadata": {
        "id": "UHugZ_oBvwBw"
      },
      "execution_count": null,
      "outputs": []
    },
    {
      "cell_type": "markdown",
      "source": [
        "# **1.2.31**\n",
        "\n",
        "**Mercator projection**. The Mercator projection is a conformal (anglepreserving) projection that maps latitude ![image.png](data:image/png;base64,iVBORw0KGgoAAAANSUhEUgAAABYAAAAWCAYAAADEtGw7AAACVUlEQVRIidWVTUiUURSGn29mtJTSTOxHCiYdBf9AW0UmSrqoRZSVaIYgGEWb3FhStFLsZ5FTRCJmiJUEuYqmqLCycmM1wSgVOUnYDA46Wun4k37fzGmRQz/4KYSz6N3de9/z3nMO7z1XEREhBDCEQjSEwoGgsKB5X9FaeZQzXUMIM3g6L1CcZcFi3oQlMY/y83dxTvgX19Q8dF+tBpGAqIMdUrurRGqfuEUVEdEcciU7URITcqXs1FmxnquWspxUSS5qFIdPE31MSl9LuSRbKgVR+6X98BbZWvNCxgJz56pdrJlJUlD/WqaCMapLHp0ulANtTvHrCgdEHe6Rjs4+Mfidj2l+GMmO7WlEKb/XFEdW+kYigkvTBgqOHWKN7SWfdX2kYIrLID83CYP3Qy8fWcbKiLC/SNHEx0b+GRazDrN7iC+LtVobx2AMD8PIAE/tA6iL8MXTjyN+LauNugw0z3MuVRRiiE3KIJUp3jY2cOvdGLpVam46mm4wmJNGvKLDES9dDbVcfrYek8GcTVFeLL2d96k5OIKzsoK9uWEIoBBgwt2Lo6ebB9eauP29hOs30wnXrWmSEdcoEIUiEhDNdYeqPVXYRvWbZ0wppa7+BPtSotFLGKb51H6S4uM2lJ+zQtC8Pdxra6G51cb7r8ELjKxKyWd3cSll+7dhXqHb3F/QhnnT3gTz2lG1izVzp1jtvgUew8KYf1bMTuPT/MyqgcUz1IFp3t1xLy6fFzzjQNTSCQd83/CisnxqZs4dSySsxGzmyMU6SPi3bIGgK5Ye/9sPEkLhHxJZjmEPAI5vAAAAAElFTkSuQmCC) and longitude ![image.png](data:image/png;base64,iVBORw0KGgoAAAANSUhEUgAAABYAAAAWCAYAAADEtGw7AAACA0lEQVRIib3V3UuTYRjH8e8ac2VIHUQmKBtsbqOIaRiDbBNCinYQRCikByGdREEeFQR1UB71B0jQSZMlTEEXRjWr5Usr6AUlc2406UCG5IyVFJOep+3qpFcbtme6fmc33Hz4cXHfXDoREUqQDaVA/wcsKLEAF67c5Pm7L+sjy4/kPsir7nax7TktPdGPkpO1hT9Oy1NyvcUpNu9VeZxS1xGWr5IeuSwuk0Vc54clVWzt3OJKWESUGfG1OsVi8kpXJFXcSLLxPLAoMh/sFIfJLLZWn7xRtNCqpCLd0nmyLR8sIun7cs5qFoupWS6NLGhvnY1LnnecJf1ylJAKMEvftXvMqto/59+wzPGod5gKrxePAbLP+ghOLK0VFtR4GP/oZg60nOL40Wogxo3epyxqLL0CXmJyaJCovo4Gh53GY0eoBNQ7txlLKsXDkn7BQE8MGlw4d5RRXn+Q9loDZMfxhxKoxcEKyfAgtzIGrM111OiAMgeHOzzoyRDtHyOuFD6PX7CaIOQfJ0sNjTur0ANgxOw+xD49kHhAePqTVljITNzFN5WB8v24d2/5eUFX3cSJNivwmkAgwnx6kuDDOXKrqpXfYUnxZGCIBUDvrsde8duEdNtpOnuRjl2beN9/Bs/eLmY2GtGt2ncrOpECV5N8Jjn9luUqO7XbjP+8XjisMSVbTd8Awb5wV5sACEwAAAAASUVORK5CYII=)  to rectangular coordinates (x, y). It is widely used—for example, in nautical charts and in the maps that you print from the web. The projection is defined by the equations:\n",
        "\n",
        "![image.png](data:image/png;base64,iVBORw0KGgoAAAANSUhEUgAAAGoAAAAaCAYAAABfA8lWAAAEvElEQVRoge2YbWxTVRiAn65DPjKCkw2cEFropLABYYoCZbAoMKYJEyofkSAOQiB+kI6IgpAYSTCwSFgCGGUqDJQZBNwyZCBzMsaAoKHotg4K4r4YxS2A0rHSru3rD4ejfMmg3e3MnuT+ub059zl933Pe9x6ViAgdBD0hSgt0cH8Ef6Bc5WQt+5Btx224lXb5LwLoGvyBekRP8qwI9s6awVtbS2kI5o06kK7SLrCLJWOODBwwVVYdvihepXXuSWBcg39FARDG4GkpzHyshC2LN/JDfTBvgoFxbSeBAlX4SF59cyzq+h2s/vQYV4J4CwyEa3OgPDSc2cOqGcmk5lS0FEL5i1O7P2D6uNl8VFircDHvRvSkl3i+UxPVmZvJPduoqM298b9rCHhoKM/hi/xKnNcq2LelgDMuARxU7FrLpureDIuswFx5lbslhtuczghtf6Jbe83P4WIrZFVRBoxTngDPYT758nhwryp/u4rrnBQWVkmTuORCtkkGaYzy8a9XxWHJklXbSsTu9UpTQ4M4gqCCey8dkHcHa0Wn0YpuQIpkWq8prXRX/O2qEmk5mZD6PBYbUjk1L5XkUB3GxYlEhaoeMhX8hYuanSYmrHOSNKiMvQcv0/v17eQvHUm3VoziNqczyrieP1v7+gnpFH8+hcfb0NUH3zSolbxFo0QXbZKcC66HygC/4yqTjMkxMnRFvlQcWC5DNVrRRS+RvLompc1uJwCuoT5RU0UwZOxw1Lk11NY7IarTfQU78FkqNJrzyCzpimGeHs2Y7syO2kGGrYBvCmtImt6fYFn3AXP1CZujVLYueUVeGPCkJG78RZwPm1n+wntRDrwTLzrNXNn++3URsUvJRuM/+//kz6TcFQQF9AYBcm35jpIrmDOLiExdycKJj3Iu5whWV3C0VXK+iKzd52HgaOL6dQbCiH3xZZ5VAyX7OHjqmtKK/9J6Vye24g3MnWEibY2JmSkbKLY5bxs3pLbqEm6c2Aq/5sfoqST16Y8hOYFOZ/MpKLMDHuwni/j5iqcNpnknGjm9P5vDHgiLj0GjbhbXjsY4NhwoJbvAikMhO19a7+qtzmXFgjImpqWxdFkaaxLLeGN5LjVe35FDphpNrFz9HiuPxvLa+ChUhBLxzESSe1rI2rSd77Iz2XlVR1y4uq1m60tjKXs2/wT0Y/I4fUvXpOrH+JQpRNBERda3FF6wcTL70G0TDG5XB9bvd1E0NAGDtgvQBe3oBGIP7mK/1Tf1QgzdqzjdOAaTKZ7I5iqnijQw/+0kQqylVEcmMSehD75dR1vh4fKRXL6yeUA9nBH6R2/6TU14wkLWzo9DXZ/FIkMi71ugi2JdxQO4Uoel2EpYrIZeN/773hpiuls5Ulbne8Dg30qqBG6x11jEfKZegrBRv4VbXJtOSPpwrTy97kSL+53uya3tebtETVjfGOKU1rgvHty13Zye/y9R96TvsB647Q5cN+65HNjdPRjStyc3dwUdgVISVS9i4/U0WKqoay5I8kcV5XY9Y4b08vkw7giUonRFP2ka40oPcbTyOnCdymOHsDw3jSR9V58nfQ5lO1ACJ7biDJav/41BT4H5dDSLVi8gPqqzz1MdgWondGx97YS/AaDHo/yHxYxrAAAAAElFTkSuQmCC)\n",
        "\n",
        "and\n",
        "\n",
        "![image.png](data:image/png;base64,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)\n",
        "\n",
        ", where ![image.png](data:image/png;base64,iVBORw0KGgoAAAANSUhEUgAAABgAAAAaCAYAAACtv5zzAAACy0lEQVRIib2WWUiUYRSGn2kKFwwLyzDEEU2nHHMpCVxQbF9oDyORUgi9EukuooKiqCAK8qKQMNGaC7MMo7LI3MbCSENtLDXMDSfH0ItJR50ZTzfuDWTO1Hv3v/zf/3znfOf9+BUiIvxDLfqXH//PgLFmtKcvk19rwOpMgkzJKqaGO5IUECcZeY1iGheniNmPJtHnHJfggINyqfq7OIPBXGN84I2ciwqUwKiz8spocT5AZEha76VKsCpIEi9WyYCDZdiZInfW7NjP5iUWuvJyKWkbduiM7Y6pwieGQwdWg62a2wW1DDoQRbsAGWjg9bNewMYPbb5DVdgBjNFT9pgnnonsSVwJtmpyiptYKOJ3gKWN0oIqXLYkcyp5G+7Y6LtbRGX/wuI3ByAM1z8nr9GNmCg1qth9pPgowVJGYUU3CzmK2QAxUvOohD7CiA/3RuGuYVdKODBIdUEZXyx/j5gFkJ4qtI96IDiaSD8XwAPN7sNsUgKNLyj/PDRn+SgGXTZpSVlcu5rF0dRsdIbR2a/MDFhzzjEJVPlL+AWdDE3a4+3y8ESkBKqCZOuNDzI8I0S2zkJJW5cuD9rNImKW9gfpsj61ULps9oI23MTT3PeAH3vj1bhP+go/tqQeYAUWvmkfU9Fr4GNxJd3jZlpeFlG1PoEYf1fAFf/oBDTlRZS2mOe2yMZATQn3DTZQRhClXjajRiXLEzK4fjISZb+WzJjtnNeDK0b0uhY8NCq8FRN7WaUiZGkLNZ+M0wMx/1vFKqZuvdS39otFRMRSJzcj/GXjjTqZuhLteIvnPw9KPHxDiJz/gpktWoCUXviGeWI1mRmb9MbMmKyehPp6oXQYoPBGE6fmp74T40TDpa+TZpOa2FBvFA4DcEO94wjxTZW87RgBRuh4V4k+8Qg71W7T+xBx5L9oFIMuhzO3vrJ2A9R/WUPmlXTifFycBfizfgGGqtOQ94EojgAAAABJRU5ErkJggg==) is the longitude of the point in the center of the map. Write a program that takes ![image.png](data:image/png;base64,iVBORw0KGgoAAAANSUhEUgAAABgAAAAaCAYAAACtv5zzAAACy0lEQVRIib2WWUiUYRSGn2kKFwwLyzDEEU2nHHMpCVxQbF9oDyORUgi9EukuooKiqCAK8qKQMNGaC7MMo7LI3MbCSENtLDXMDSfH0ItJR50ZTzfuDWTO1Hv3v/zf/3znfOf9+BUiIvxDLfqXH//PgLFmtKcvk19rwOpMgkzJKqaGO5IUECcZeY1iGheniNmPJtHnHJfggINyqfq7OIPBXGN84I2ciwqUwKiz8spocT5AZEha76VKsCpIEi9WyYCDZdiZInfW7NjP5iUWuvJyKWkbduiM7Y6pwieGQwdWg62a2wW1DDoQRbsAGWjg9bNewMYPbb5DVdgBjNFT9pgnnonsSVwJtmpyiptYKOJ3gKWN0oIqXLYkcyp5G+7Y6LtbRGX/wuI3ByAM1z8nr9GNmCg1qth9pPgowVJGYUU3CzmK2QAxUvOohD7CiA/3RuGuYVdKODBIdUEZXyx/j5gFkJ4qtI96IDiaSD8XwAPN7sNsUgKNLyj/PDRn+SgGXTZpSVlcu5rF0dRsdIbR2a/MDFhzzjEJVPlL+AWdDE3a4+3y8ESkBKqCZOuNDzI8I0S2zkJJW5cuD9rNImKW9gfpsj61ULps9oI23MTT3PeAH3vj1bhP+go/tqQeYAUWvmkfU9Fr4GNxJd3jZlpeFlG1PoEYf1fAFf/oBDTlRZS2mOe2yMZATQn3DTZQRhClXjajRiXLEzK4fjISZb+WzJjtnNeDK0b0uhY8NCq8FRN7WaUiZGkLNZ+M0wMx/1vFKqZuvdS39otFRMRSJzcj/GXjjTqZuhLteIvnPw9KPHxDiJz/gpktWoCUXviGeWI1mRmb9MbMmKyehPp6oXQYoPBGE6fmp74T40TDpa+TZpOa2FBvFA4DcEO94wjxTZW87RgBRuh4V4k+8Qg71W7T+xBx5L9oFIMuhzO3vrJ2A9R/WUPmlXTifFycBfizfgGGqtOQ94EojgAAAABJRU5ErkJggg==) and the latitude and longitude of a point from the command line and prints its projection."
      ],
      "metadata": {
        "id": "FjsvXW83vu6v"
      }
    },
    {
      "cell_type": "markdown",
      "source": [
        "The Mercator projection is a conformal (angle-preserving) projection commonly used in mapping and cartography. It maps locations on the Earth's surface defined by latitude and longitude to rectangular coordinates (x, y). The projection is defined by the following equations:\n",
        "\n",
        "x = R * (λ - λ0)\n",
        "y = R * ln[tan(π/4 + φ/2)]\n",
        "\n",
        "where:\n",
        "\n",
        "- x and y are the rectangular coordinates,\n",
        "- R is the radius of the Earth (or a chosen value),\n",
        "- λ is the longitude of the location,\n",
        "- λ0 is the central meridian of the projection (usually the longitude of the map's center),\n",
        "- φ is the latitude of the location,\n",
        "- ln denotes the natural logarithm, and\n",
        "- tan is the tangent function.\n",
        "\n",
        "In these equations, latitude and longitude are measured in radians. The Mercator projection stretches the Earth's surface in the north-south direction to make lines of constant latitude appear as straight lines. This distortion increases as you move away from the equator, making areas closer to the poles appear larger than they actually are. Despite this distortion, the Mercator projection is widely used due to its ability to preserve angles, which is valuable for navigation and measuring bearings on maps.\n",
        "\n",
        "It's worth noting that there are alternative map projections that aim to reduce distortions in area, shape, or distance at the expense of conformality. Each projection has its own characteristics and is suitable for specific purposes."
      ],
      "metadata": {
        "id": "ssNjJUG8uN36"
      }
    },
    {
      "cell_type": "code",
      "source": [
        "import java.awt.geom.Point2D;\n",
        "import java.awt.image.BufferedImage;\n",
        "import java.io.File;\n",
        "import java.io.IOException;\n",
        "import javax.imageio.ImageIO;\n",
        "\n",
        "public class ImageProjection {\n",
        "\n",
        "    public static void main(String[] args) {\n",
        "        if (args.length < 3) {\n",
        "            System.out.println(\"Usage: java ImageProjection <image_path> <latitude> <longitude>\");\n",
        "            return;\n",
        "        }\n",
        "\n",
        "        String imagePath = args[0];\n",
        "        double latitude = Double.parseDouble(args[1]);\n",
        "        double longitude = Double.parseDouble(args[2]);\n",
        "\n",
        "        try {\n",
        "            BufferedImage image = ImageIO.read(new File(imagePath));\n",
        "\n",
        "            double x = longitudeToX(longitude, image.getWidth());\n",
        "            double y = latitudeToY(latitude, image.getHeight());\n",
        "\n",
        "            Point2D projection = projectPoint(x, y, image.getWidth(), image.getHeight());\n",
        "\n",
        "            System.out.println(\"Projected coordinates: (\" + projection.getX() + \", \" + projection.getY() + \")\");\n",
        "        } catch (IOException e) {\n",
        "            System.out.println(\"Error reading the image: \" + e.getMessage());\n",
        "        }\n",
        "    }\n",
        "\n",
        "    private static double longitudeToX(double longitude, int imageWidth) {\n",
        "        // Assuming the longitude ranges from -180 to 180 degrees\n",
        "        return (longitude + 180.0) * (imageWidth / 360.0);\n",
        "    }\n",
        "\n",
        "    private static double latitudeToY(double latitude, int imageHeight) {\n",
        "        // Assuming the latitude ranges from -90 to 90 degrees\n",
        "        return (90.0 - latitude) * (imageHeight / 180.0);\n",
        "    }\n",
        "\n",
        "    private static Point2D projectPoint(double x, double y, int imageWidth, int imageHeight) {\n",
        "        // Assuming the image is a Mercator projection, which preserves angles but distorts shapes near the poles\n",
        "        double projectedX = x;\n",
        "        double projectedY = Math.log(Math.tan(Math.PI / 4 + Math.toRadians(y) / 2));\n",
        "\n",
        "        // Scale the projected coordinates to fit within the image dimensions\n",
        "        projectedX = projectedX * imageWidth;\n",
        "        projectedY = projectedY * imageHeight;\n",
        "\n",
        "        return new Point2D.Double(projectedX, projectedY);\n",
        "    }\n",
        "}\n"
      ],
      "metadata": {
        "id": "7nHjBDNeypzh"
      },
      "execution_count": null,
      "outputs": []
    },
    {
      "cell_type": "markdown",
      "source": [
        "# **1.2.32**\n",
        "\n",
        "Color conversion. Several different formats are used to represent color. For example, the primary format for LCD displays, digital cameras, and web pages, known as the RGB format, specifies the level of red (R), green (G), and blue (B) on an integer scale from 0 to 255. \n",
        "\n",
        "The primary format for publishing books and magazines, known as the CMYK format, specifies the level of cyan (C), magenta (M), yellow (Y), and black (K) on a real scale from 0.0 to 1.0. Write a program RGBtoCMYK that converts RGB to CMYK. Take three integers—r, g, and b—from the command line and print the equivalent CMYK values. If the RGB values are all 0, then the CMY values are all 0 and the K value is 1; otherwise, use these formulas:\n",
        "\n",
        "![image.png](data:image/png;base64,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)"
      ],
      "metadata": {
        "id": "DpuvyuO2yyc8"
      }
    },
    {
      "cell_type": "markdown",
      "source": [
        "Python:"
      ],
      "metadata": {
        "id": "Hgu9LdZZz_EW"
      }
    },
    {
      "cell_type": "code",
      "source": [
        "import sys\n",
        "\n",
        "def RGBtoCMYK(r, g, b):\n",
        "    if r == 0 and g == 0 and b == 0:\n",
        "        # Special case: black RGB values\n",
        "        c = 0.0\n",
        "        m = 0.0\n",
        "        y = 0.0\n",
        "        k = 1.0\n",
        "    else:\n",
        "        # Convert RGB to CMY\n",
        "        c = 1 - r / 255.0\n",
        "        m = 1 - g / 255.0\n",
        "        y = 1 - b / 255.0\n",
        "        \n",
        "        # Find the minimum value in CMY\n",
        "        min_cmy = min(c, m, y)\n",
        "        \n",
        "        # Convert CMY to CMYK\n",
        "        c = (c - min_cmy) / (1 - min_cmy)\n",
        "        m = (m - min_cmy) / (1 - min_cmy)\n",
        "        y = (y - min_cmy) / (1 - min_cmy)\n",
        "        k = min_cmy\n",
        "    \n",
        "    return c, m, y, k\n",
        "\n",
        "# Get RGB values from command-line arguments\n",
        "r = int(sys.argv[1])\n",
        "g = int(sys.argv[2])\n",
        "b = int(sys.argv[3])\n",
        "\n",
        "# Convert RGB to CMYK\n",
        "c, m, y, k = RGBtoCMYK(r, g, b)\n",
        "\n",
        "# Print the CMYK values\n",
        "print(f\"CMYK: {c}, {m}, {y}, {k}\")\n"
      ],
      "metadata": {
        "id": "B9BbNe1fzkwS"
      },
      "execution_count": null,
      "outputs": []
    },
    {
      "cell_type": "markdown",
      "source": [
        "# **1.2.33**\n",
        "\n",
        "Great circle. Write a Java program GreatCircle.java that takes four double command-line arguments—x1, y1, x2, and y2—(the latitude and longitude, in degrees, of two points on the earth) and prints the great-circle distance between them. The great-circle distance (in nautical miles) is given by the following equation:\n",
        "\n",
        "![image.png](data:image/png;base64,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)\n",
        "\n",
        "Note that this equation uses degrees, whereas Java trigonometric functions use radians. Use Math.toRadians() and Math.toDegrees() to convert between the two. Use your program to compute the great-circle distance between Paris (48.87° N and 2.33° W) and San Francisco (37.8° N and 122.4° W).\n"
      ],
      "metadata": {
        "id": "KSLffO6BzlHq"
      }
    },
    {
      "cell_type": "code",
      "source": [
        "public class GreatCircle {\n",
        "    public static void main(String[] args) {\n",
        "        if (args.length < 4) {\n",
        "            System.out.println(\"Usage: java GreatCircle <x1> <y1> <x2> <y2>\");\n",
        "            return;\n",
        "        }\n",
        "\n",
        "        double x1 = Double.parseDouble(args[0]);\n",
        "        double y1 = Double.parseDouble(args[1]);\n",
        "        double x2 = Double.parseDouble(args[2]);\n",
        "        double y2 = Double.parseDouble(args[3]);\n",
        "\n",
        "        double distance = calculateGreatCircleDistance(x1, y1, x2, y2);\n",
        "        System.out.println(\"Great-circle distance: \" + distance + \" nautical miles\");\n",
        "    }\n",
        "\n",
        "    public static double calculateGreatCircleDistance(double x1, double y1, double x2, double y2) {\n",
        "        // Convert degrees to radians\n",
        "        double x1Rad = Math.toRadians(x1);\n",
        "        double y1Rad = Math.toRadians(y1);\n",
        "        double x2Rad = Math.toRadians(x2);\n",
        "        double y2Rad = Math.toRadians(y2);\n",
        "\n",
        "        // Earth's radius in nautical miles\n",
        "        double radius = 3440.065;\n",
        "\n",
        "        // Calculate the central angle between the points\n",
        "        double centralAngle = Math.acos(Math.sin(x1Rad) * Math.sin(x2Rad) +\n",
        "                Math.cos(x1Rad) * Math.cos(x2Rad) * Math.cos(y1Rad - y2Rad));\n",
        "\n",
        "        // Calculate the great-circle distance\n",
        "        double distance = radius * centralAngle;\n",
        "        return distance;\n",
        "    }\n",
        "}\n"
      ],
      "metadata": {
        "id": "4I_B11Ys09dG"
      },
      "execution_count": null,
      "outputs": []
    },
    {
      "cell_type": "markdown",
      "source": [
        "The given code is a Java program that calculates the great-circle distance between two points on the Earth's surface using their longitude and latitude coordinates. Let's go through the code step by step:\n",
        "\n",
        "1. The GreatCircle class is defined with a main method and a \n",
        "calculateGreatCircleDistance method.\n",
        "\n",
        "2. In the main method, the program checks if the command-line arguments contain four values (args.length < 4). If not, it displays a usage message and exits the program using the return statement.\n",
        "\n",
        "3. The longitude and latitude values are extracted from the command-line arguments (args) and stored in the variables x1, y1, x2, and y2, respectively, after converting them to double type using Double.parseDouble().\n",
        "\n",
        "4. The calculateGreatCircleDistance method is called with the extracted coordinates (x1, y1, x2, y2), and the returned distance value is stored in the distance variable.\n",
        "\n",
        "5. Finally, the calculated great-circle distance is displayed in nautical miles using System.out.println().\n",
        "\n",
        "6. The calculateGreatCircleDistance method takes four arguments: x1, y1, x2, and y2, representing the longitude and latitude of two points on the Earth's surface.\n",
        "\n",
        "7. The method begins by converting the given longitude and latitude values from degrees to radians using the Math.toRadians() method.\n",
        "\n",
        "8. The radius of the Earth is defined as 3440.065 nautical miles.\n",
        "\n",
        "9. The method then calculates the central angle between the two points using the Haversine formula. This formula determines the angle between two points on a sphere based on their latitude and longitude. The formula used in this code is an approximation of the Haversine formula.\n",
        "\n",
        "10. Finally, the great-circle distance is calculated by multiplying the central angle by the Earth's radius.\n",
        "\n",
        "11. The calculated distance is returned as a double value.\n",
        "\n",
        "In summary, this program calculates the great-circle distance between two points on the Earth's surface given their longitude and latitude coordinates. It uses the Haversine formula approximation to compute the central angle between the points and then multiplies it by the Earth's radius to obtain the distance in nautical miles."
      ],
      "metadata": {
        "id": "dD3mH5jM0-12"
      }
    },
    {
      "cell_type": "markdown",
      "source": [
        "# **1.2.34**\n",
        "\n",
        "**Three-sort**. Write a Java program that takes three integer command-line arguments and prints them in ascending order. Use **Math.min()** and **Math.max()**."
      ],
      "metadata": {
        "id": "AcLr7tWc1nWD"
      }
    },
    {
      "cell_type": "code",
      "source": [
        "public class ThreeSort {\n",
        "    public static void main(String[] args) {\n",
        "        if (args.length < 3) {\n",
        "            System.out.println(\"Usage: java ThreeSort <num1> <num2> <num3>\");\n",
        "            return;\n",
        "        }\n",
        "\n",
        "        int num1 = Integer.parseInt(args[0]);\n",
        "        int num2 = Integer.parseInt(args[1]);\n",
        "        int num3 = Integer.parseInt(args[2]);\n",
        "\n",
        "        int smallest = Math.min(Math.min(num1, num2), num3);\n",
        "        int largest = Math.max(Math.max(num1, num2), num3);\n",
        "        int middle = num1 + num2 + num3 - smallest - largest;\n",
        "\n",
        "        System.out.println(\"Ascending order: \" + smallest + \", \" + middle + \", \" + largest);\n",
        "    }\n",
        "}\n"
      ],
      "metadata": {
        "id": "PUl7W-_b13yB"
      },
      "execution_count": null,
      "outputs": []
    },
    {
      "cell_type": "markdown",
      "source": [
        "Let's go through the code:\n",
        "\n",
        "1. The ThreeSort class is defined with a main method.\n",
        "\n",
        "2. In the main method, the program checks if the command-line arguments contain three values (args.length < 3). If not, it displays a usage message and exits the program using the return statement.\n",
        "\n",
        "3. The integer command-line arguments are extracted from args and stored in the variables num1, num2, and num3 after converting them to int using Integer.parseInt().\n",
        "\n",
        "4. The Math.min() and Math.max() methods are used to find the smallest and largest numbers among the three input numbers.\n",
        "\n",
        "5. The middle number is calculated by subtracting the smallest and largest numbers from the sum of all three numbers.\n",
        "\n",
        "6. Finally, the three numbers are printed in ascending order using System.out.println()."
      ],
      "metadata": {
        "id": "YL6WlxJX2PDD"
      }
    },
    {
      "cell_type": "markdown",
      "source": [
        "# **1.2.35**\n",
        "\n",
        "Dragon curves. Write a Java program to print the instructions for drawing the dragon curves of order 0 through 5. The instructions are strings of F, L, and R characters, where F means “draw line while moving 1 unit forward,” L means “turn left,” and R means “turn right.” A dragon curve of order n is formed when you fold a strip of paper in half n times, then unfold to right angles. The key to solving this problem is to note that a curve of order n is a curve of order n - 1 followed by an L followed by a curve of order n - 1 traversed in reverse order, and then to figure out a similar description for the reverse curve."
      ],
      "metadata": {
        "id": "PCkjuuXD2bwr"
      }
    },
    {
      "cell_type": "code",
      "source": [
        "public class DragonCurves {\n",
        "    public static void main(String[] args) {\n",
        "        int order = 5; // Change this value to generate curves of different orders\n",
        "\n",
        "        String instructions = generateDragonCurveInstructions(order);\n",
        "        System.out.println(\"Dragon Curve of Order \" + order + \" Instructions: \");\n",
        "        System.out.println(instructions);\n",
        "    }\n",
        "\n",
        "    public static String generateDragonCurveInstructions(int order) {\n",
        "        if (order < 0) {\n",
        "            throw new IllegalArgumentException(\"Order must be non-negative\");\n",
        "        }\n",
        "\n",
        "        if (order == 0) {\n",
        "            return \"F\";\n",
        "        } else {\n",
        "            String previousInstructions = generateDragonCurveInstructions(order - 1);\n",
        "            String reversePreviousInstructions = reverseInstructions(previousInstructions);\n",
        "\n",
        "            return previousInstructions + \"L\" + reversePreviousInstructions;\n",
        "        }\n",
        "    }\n",
        "\n",
        "    public static String reverseInstructions(String instructions) {\n",
        "        StringBuilder reversed = new StringBuilder();\n",
        "\n",
        "        for (int i = instructions.length() - 1; i >= 0; i--) {\n",
        "            char c = instructions.charAt(i);\n",
        "\n",
        "            if (c == 'L') {\n",
        "                reversed.append('R');\n",
        "            } else if (c == 'R') {\n",
        "                reversed.append('L');\n",
        "            } else {\n",
        "                reversed.append(c);\n",
        "            }\n",
        "        }\n",
        "\n",
        "        return reversed.toString();\n",
        "    }\n",
        "}\n"
      ],
      "metadata": {
        "id": "s5g1vggC26TZ"
      },
      "execution_count": null,
      "outputs": []
    },
    {
      "cell_type": "markdown",
      "source": [
        "Let's go through the code:\n",
        "\n",
        "1. The DragonCurves class is defined with a main method.\n",
        "\n",
        "2. In the main method, the variable order is set to the desired order of the dragon curves. You can change this value to generate curves of different orders.\n",
        "\n",
        "3. The generateDragonCurveInstructions method is called with the order parameter to generate the instructions for the dragon curve of the specified order.\n",
        "\n",
        "4. The generateDragonCurveInstructions method takes an order parameter and returns the instructions for drawing the dragon curve of that order as a string.\n",
        "\n",
        "5. If the order is 0, the method returns the base instruction \"F\" as the curve of order 0.\n",
        "\n",
        "6. If the order is greater than 0, the method recursively calls itself with order - 1 to generate the instructions for the previous order curve.\n",
        "\n",
        "7. The reverseInstructions method is called to reverse the instructions of the previous order curve.\n",
        "\n",
        "8. The instructions for the current order curve are formed by concatenating the previous order instructions, \"L\" (to turn left), and the reverse of the previous order instructions.\n",
        "\n",
        "9. The reverseInstructions method takes a string of instructions and returns the reversed instructions as a new string. It iterates over the characters of the input instructions in reverse order and replaces \"L\" with \"R\" and \"R\" with \"L\" while keeping \"F\" unchanged.\n",
        "\n",
        "10. Finally, the generated instructions for the specified order curve are printed."
      ],
      "metadata": {
        "id": "p0oikgza3GSL"
      }
    }
  ]
}