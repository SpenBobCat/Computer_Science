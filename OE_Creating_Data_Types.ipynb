{
  "nbformat": 4,
  "nbformat_minor": 0,
  "metadata": {
    "colab": {
      "provenance": [],
      "toc_visible": true,
      "authorship_tag": "ABX9TyPly0TBqDWRaXgB4OEfwFz+",
      "include_colab_link": true
    },
    "kernelspec": {
      "name": "python3",
      "display_name": "Python 3"
    },
    "language_info": {
      "name": "python"
    }
  },
  "cells": [
    {
      "cell_type": "markdown",
      "metadata": {
        "id": "view-in-github",
        "colab_type": "text"
      },
      "source": [
        "<a href=\"https://colab.research.google.com/github/SpenBobCat/Computer_Science/blob/main/OE_Creating_Data_Types.ipynb\" target=\"_parent\"><img src=\"https://colab.research.google.com/assets/colab-badge.svg\" alt=\"Open In Colab\"/></a>"
      ]
    },
    {
      "cell_type": "markdown",
      "source": [
        "# **Computer Science: An Interdisciplinary Approach**.\n",
        "\n",
        "Princeton University - Coursera\n",
        "\n",
        "By: Michael Spencer 6/15/2023"
      ],
      "metadata": {
        "id": "BjOQ2Q-vZgUA"
      }
    },
    {
      "cell_type": "markdown",
      "source": [
        "## **Optional Enrichment on Creating Data Types:**\n",
        "\n",
        "These exercises from our book Computer Science: An Interdisciplinary Approach are an opportunity to study in further depth what you have learned from the lectures."
      ],
      "metadata": {
        "id": "Tuv8uIb9ZVKC"
      }
    },
    {
      "cell_type": "markdown",
      "source": [
        "### 3.2.8\n",
        "\n",
        "Write a data type Interval that implements the following API:\n",
        "\n",
        "|**public class Interval**|                                     |\n",
        "|-------------------------------------|:--------------------------|\n",
        "| Interval(double left, double right)|                            |\n",
        "| boolean contains(double x)          |  is x in this interval?   |\n",
        "|                                     |                            |\n",
        "| boolean intersects(Interval b)   |do this interval and b intersect?|\n",
        "|                                   |                              |\n",
        "| String toString()                  |   string representation    |\n",
        "\n",
        "\n",
        "An interval is defined to be the set of all points on the line greater than or equal to left and less than or equal to right. In particular, an interval with right less than left is empty. Write a client that is a filter that takes a floating-point command-line argument x and prints all of the intervals on standard input (each defined by a pair of double values) that contain x."
      ],
      "metadata": {
        "id": "1SUdI745Z_Pb"
      }
    },
    {
      "cell_type": "markdown",
      "source": [
        "Implementation of the **Interval** class that satisfies the provided API:\n",
        "\n",
        "```\n",
        "public class Interval {\n",
        "    private final double left;\n",
        "    private final double right;\n",
        "\n",
        "    public Interval(double left, double right) {\n",
        "        if (right < left) {\n",
        "            throw new IllegalArgumentException(\"Invalid interval: right < left\");\n",
        "        }\n",
        "        this.left = left;\n",
        "        this.right = right;\n",
        "    }\n",
        "\n",
        "    public boolean contains(double x) {\n",
        "        return x >= left && x <= right;\n",
        "    }\n",
        "\n",
        "    public boolean intersects(Interval b) {\n",
        "        return !(b.right < left || b.left > right);\n",
        "    }\n",
        "\n",
        "    @Override\n",
        "    public String toString() {\n",
        "        return \"[\" + left + \", \" + right + \"]\";\n",
        "    }\n",
        "}\n",
        "\n",
        "```\n",
        "\n",
        "Client code that filters and prints the intervals containing the command-line argument x:\n",
        "\n",
        "```\n",
        "public class IntervalFilter {\n",
        "    public static void main(String[] args) {\n",
        "        if (args.length != 1) {\n",
        "            System.out.println(\"Usage: java IntervalFilter <x>\");\n",
        "            System.exit(1);\n",
        "        }\n",
        "\n",
        "        double x = Double.parseDouble(args[0]);\n",
        "\n",
        "        Interval[] intervals = {\n",
        "                new Interval(1.0, 3.0),\n",
        "                new Interval(2.5, 4.5),\n",
        "                new Interval(0.5, 1.5),\n",
        "                new Interval(4.0, 6.0),\n",
        "                new Interval(7.0, 8.0)\n",
        "        };\n",
        "\n",
        "        for (Interval interval : intervals) {\n",
        "            if (interval.contains(x)) {\n",
        "                System.out.println(interval);\n",
        "            }\n",
        "        }\n",
        "    }\n",
        "}\n",
        "\n",
        "```"
      ],
      "metadata": {
        "id": "M4m3KFbkcOEg"
      }
    },
    {
      "cell_type": "markdown",
      "source": [
        "### 3.2.11\n",
        "\n",
        "Write a data type Point that implements the following API:\n",
        "\n",
        "|public class Point|                               |\n",
        "|-------------------------|:---------------------------|\n",
        "|Point(double x, double y)|                             |\n",
        "|double distanceTo(Point q) | Euclidean distance between this point and q|\n",
        "|String toString()|string representation|"
      ],
      "metadata": {
        "id": "Pj6iLs9jg0Yt"
      }
    },
    {
      "cell_type": "markdown",
      "source": [
        "```\n",
        "public class Point {\n",
        "    private final double x;\n",
        "    private final double y;\n",
        "\n",
        "    public Point(double x, double y) {\n",
        "        this.x = x;\n",
        "        this.y = y;\n",
        "    }\n",
        "\n",
        "    public double distanceTo(Point q) {\n",
        "        double dx = q.x - x;\n",
        "        double dy = q.y - y;\n",
        "        return Math.sqrt(dx * dx + dy * dy);\n",
        "    }\n",
        "\n",
        "    @Override\n",
        "    public String toString() {\n",
        "        return \"(\" + x + \", \" + y + \")\";\n",
        "    }\n",
        "}\n",
        "\n",
        "```\n"
      ],
      "metadata": {
        "id": "ddv7hWypiUM3"
      }
    },
    {
      "cell_type": "markdown",
      "source": [
        "With this implementation, you can create instances of the Point class with the x and y coordinates, calculate the distance between two points using the **distanceTo** method, and obtain a string representation of a point using the **toString** method."
      ],
      "metadata": {
        "id": "67G36F7eiX5X"
      }
    },
    {
      "cell_type": "markdown",
      "source": [
        "Usage of the Point class:\n",
        "\n",
        "```\n",
        "public class PointExample {\n",
        "    public static void main(String[] args) {\n",
        "        Point p1 = new Point(2.0, 3.0);\n",
        "        Point p2 = new Point(5.0, 1.0);\n",
        "\n",
        "        System.out.println(\"Point 1: \" + p1);\n",
        "        System.out.println(\"Point 2: \" + p2);\n",
        "\n",
        "        double distance = p1.distanceTo(p2);\n",
        "        System.out.println(\"Distance between p1 and p2: \" + distance);\n",
        "    }\n",
        "}\n",
        "\n",
        "```\n",
        "\n",
        "When you run the **PointExample** class, it will create two points (p1 and p2), display their string representations, and calculate the distance between them using the **distanceTo** method."
      ],
      "metadata": {
        "id": "CiG0_F6nilGg"
      }
    },
    {
      "cell_type": "markdown",
      "source": [
        "### 3.2.34\n",
        "\n",
        "Chaos with Newton’s method. The polynomial $f(z) = z^4 − 1$ has four roots: at $1, -1, i,$ and $−i$. We can find the roots using Newton’s method in the complex plane:\n",
        "\n",
        "$z_{k+1} = z_{k} - f(z_{k})/f'(z_{k})$\n",
        "\n",
        "Here $f(z) = z^4 − 1$ and $f'(z) = 4z^3$\n",
        "\n",
        "The method converges to one of the four roots, depending on the starting point $z0$. Write a Complex and Picture client NewtonChaos that takes a command-line argument $n$ and creates an $n-by-n$ picture corresponding to the square of size 2 centered at the origin. Color each pixel white, red, green, or blue according to which of the four roots the corresponding complex number converges (black if no convergence after 100 iterations)."
      ],
      "metadata": {
        "id": "C5nKOmagjIuy"
      }
    },
    {
      "cell_type": "markdown",
      "source": [
        "To solve this problem, you can create two classes: Complex and NewtonChaos. The Complex class will represent complex numbers and provide the necessary operations, while the NewtonChaos class will generate the image based on the convergence of complex numbers using Newton's method. Here's the implementation:\n",
        "\n",
        "```\n",
        "import java.awt.Color;\n",
        "import edu.princeton.cs.introcs.Picture;\n",
        "\n",
        "public class Complex {\n",
        "    private final double real;\n",
        "    private final double imaginary;\n",
        "\n",
        "    public Complex(double real, double imaginary) {\n",
        "        this.real = real;\n",
        "        this.imaginary = imaginary;\n",
        "    }\n",
        "\n",
        "    public Complex minus(Complex other) {\n",
        "        double realDiff = this.real - other.real;\n",
        "        double imagDiff = this.imaginary - other.imaginary;\n",
        "        return new Complex(realDiff, imagDiff);\n",
        "    }\n",
        "\n",
        "    public Complex divide(Complex other) {\n",
        "        double denominator = other.real * other.real + other.imaginary * other.imaginary;\n",
        "        double realResult = (this.real * other.real + this.imaginary * other.imaginary) / denominator;\n",
        "        double imagResult = (this.imaginary * other.real - this.real * other.imaginary) / denominator;\n",
        "        return new Complex(realResult, imagResult);\n",
        "    }\n",
        "\n",
        "    public double modulus() {\n",
        "        return Math.sqrt(real * real + imaginary * imaginary);\n",
        "    }\n",
        "}\n",
        "\n",
        "public class NewtonChaos {\n",
        "    private static final int MAX_ITERATIONS = 100;\n",
        "\n",
        "    private static final Complex ROOT_1 = new Complex(1, 0);\n",
        "    private static final Complex ROOT_2 = new Complex(-1, 0);\n",
        "    private static final Complex ROOT_3 = new Complex(0, 1);\n",
        "    private static final Complex ROOT_4 = new Complex(0, -1);\n",
        "\n",
        "    public static void main(String[] args) {\n",
        "        if (args.length != 1) {\n",
        "            System.out.println(\"Usage: java NewtonChaos <n>\");\n",
        "            System.exit(1);\n",
        "        }\n",
        "\n",
        "        int n = Integer.parseInt(args[0]);\n",
        "        Picture picture = new Picture(n, n);\n",
        "\n",
        "        double minX = -1.0;\n",
        "        double minY = -1.0;\n",
        "        double maxX = 1.0;\n",
        "        double maxY = 1.0;\n",
        "\n",
        "        double deltaX = (maxX - minX) / n;\n",
        "        double deltaY = (maxY - minY) / n;\n",
        "\n",
        "        for (int row = 0; row < n; row++) {\n",
        "            for (int col = 0; col < n; col++) {\n",
        "                double x = minX + col * deltaX;\n",
        "                double y = minY + row * deltaY;\n",
        "                Complex z = new Complex(x, y);\n",
        "\n",
        "                int iterations = 0;\n",
        "                while (iterations < MAX_ITERATIONS) {\n",
        "                    Complex numerator = z.minus(z.minus(z.times(z.times(z))).divide(new Complex(4.0, 0.0)));\n",
        "                    Complex denominator = new Complex(4.0, 0.0).times(z.times(z));\n",
        "\n",
        "                    Complex nextZ = z.minus(numerator.divide(denominator));\n",
        "                    double difference = nextZ.minus(z).modulus();\n",
        "\n",
        "                    if (difference < 0.001) {\n",
        "                        break;\n",
        "                    }\n",
        "\n",
        "                    z = nextZ;\n",
        "                    iterations++;\n",
        "                }\n",
        "\n",
        "                Color color = getColor(z);\n",
        "                picture.set(col, n - 1 - row, color);\n",
        "            }\n",
        "        }\n",
        "\n",
        "        picture.show();\n",
        "    }\n",
        "\n",
        "    private static Color getColor(Complex z) {\n",
        "        double tolerance = 0.001;\n",
        "\n",
        "        if (z.minus(ROOT_1).modulus() < tolerance) {\n",
        "            return Color.RED;\n",
        "        } else if (z.minus(ROOT_2).modulus() < tolerance) {\n",
        "            return Color.GREEN;\n",
        "        } else if (z.minus(ROOT_3).modulus() < tolerance) {\n",
        "            return Color.BLUE;\n",
        "        } else if (z.minus(ROOT_4).modulus() < tolerance) {\n",
        "            return Color.WHITE;\n",
        "        } else {\n",
        "            return Color.BLACK;\n",
        "        }\n",
        "    }\n",
        "}\n",
        "\n",
        "```\n",
        "\n"
      ],
      "metadata": {
        "id": "Lsj__y02mlnE"
      }
    },
    {
      "cell_type": "markdown",
      "source": [],
      "metadata": {
        "id": "KmbnYD54nqku"
      }
    }
  ]
}