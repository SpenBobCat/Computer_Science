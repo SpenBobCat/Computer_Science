{
  "nbformat": 4,
  "nbformat_minor": 0,
  "metadata": {
    "colab": {
      "provenance": [],
      "toc_visible": true,
      "authorship_tag": "ABX9TyMxQ4wcmA0qDlphNIXKt8y6",
      "include_colab_link": true
    },
    "kernelspec": {
      "name": "python3",
      "display_name": "Python 3"
    },
    "language_info": {
      "name": "python"
    }
  },
  "cells": [
    {
      "cell_type": "markdown",
      "metadata": {
        "id": "view-in-github",
        "colab_type": "text"
      },
      "source": [
        "<a href=\"https://colab.research.google.com/github/SpenBobCat/Computer_Science/blob/main/3_1_Using_Data_Types.ipynb\" target=\"_parent\"><img src=\"https://colab.research.google.com/assets/colab-badge.svg\" alt=\"Open In Colab\"/></a>"
      ]
    },
    {
      "cell_type": "markdown",
      "source": [
        "# 3.1 Using Data Types.\n",
        "\n",
        "University of Princeton - Computer Science: An Interdisciplinary Approach - Coursera\n",
        "\n",
        "By: Michael Spencer 6/23/2023"
      ],
      "metadata": {
        "id": "IsPUAqtNN6zA"
      }
    }
  ]
}