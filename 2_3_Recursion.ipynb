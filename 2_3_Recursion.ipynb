{
  "nbformat": 4,
  "nbformat_minor": 0,
  "metadata": {
    "colab": {
      "provenance": [],
      "gpuType": "T4",
      "authorship_tag": "ABX9TyP0ApkApjVmraPFXmfubadn",
      "include_colab_link": true
    },
    "kernelspec": {
      "name": "python3",
      "display_name": "Python 3"
    },
    "language_info": {
      "name": "python"
    },
    "gpuClass": "standard"
  },
  "cells": [
    {
      "cell_type": "markdown",
      "metadata": {
        "id": "view-in-github",
        "colab_type": "text"
      },
      "source": [
        "<a href=\"https://colab.research.google.com/github/SpenBobCat/Computer_Science/blob/main/2_3_Recursion.ipynb\" target=\"_parent\"><img src=\"https://colab.research.google.com/assets/colab-badge.svg\" alt=\"Open In Colab\"/></a>"
      ]
    },
    {
      "cell_type": "markdown",
      "source": [
        "# **Computer Science:**\n",
        "\n",
        "University of Princeton - Coursera\n",
        "\n",
        "**Computer Science**: **An Interdisciplinary Approach**\n",
        "\n",
        "*By: Sedgewick/Wayne*\n",
        "\n",
        "By: Michael Spencer 5/19/2023"
      ],
      "metadata": {
        "id": "X5dcvFuRIo2b"
      }
    },
    {
      "cell_type": "markdown",
      "source": [
        "# **Chapter 2.3 Recursion**\n",
        "\n",
        "Chapter Exercises: 6, 7, 8, 14"
      ],
      "metadata": {
        "id": "19H32nEg1JWo"
      }
    },
    {
      "cell_type": "markdown",
      "source": [
        "# **Chapter 2.3 Recursion**\n",
        "\n",
        "Creative Exercises: 15, 17 - 20, 22, 24, 26, 29 - 33"
      ],
      "metadata": {
        "id": "YnyCxu7H2YCA"
      }
    },
    {
      "cell_type": "markdown",
      "source": [
        "# **Chapter 2.3 Recursion**\n",
        "\n",
        "Web Exercises: 1 - 65"
      ],
      "metadata": {
        "id": "pP10Yh0B3FEY"
      }
    },
    {
      "cell_type": "markdown",
      "source": [
        "1. Does **Euclid.java** still work if the inputs can be negative? If not, fix it. Hint: Recall that **%** can return a negative integer if the first input is negative. When calling the function, take the absolute value of both inputs."
      ],
      "metadata": {
        "id": "x0aHDWXz3spH"
      }
    },
    {
      "cell_type": "code",
      "source": [
        "#public class Euclid {\n",
        "#    public static int gcd(int p, int q) {\n",
        "#        if (q == 0) {\n",
        "#            return p;\n",
        "#        }\n",
        "#        return gcd(q, p % q);\n",
        "#    }\n",
        "# }"
      ],
      "metadata": {
        "id": "SbyC3b0K50OM"
      },
      "execution_count": null,
      "outputs": []
    },
    {
      "cell_type": "markdown",
      "source": [
        "In Java, the code above is the basic **Euclidean Algorithm**. Due to the behavior of \"**%**\" with negative inputs will likely cause some issues.  To fix this, we can take the absolute value of both inputs using the **Math.abs()** function in Java:"
      ],
      "metadata": {
        "id": "0JPouPdn_0Jh"
      }
    },
    {
      "cell_type": "code",
      "source": [
        "# public class Euclid {\n",
        "#    public static int gcd(int p, int q) {\n",
        "#       p = Math.abs(p);\n",
        "#        q = Math.abs(q);\n",
        "#        if (q == 0) {\n",
        "#            return p;\n",
        "#        }\n",
        "#        return gcd(q, p % q);\n",
        "#    }\n",
        "# }\n"
      ],
      "metadata": {
        "id": "-0nE-OQ3_1B_"
      },
      "execution_count": null,
      "outputs": []
    },
    {
      "cell_type": "markdown",
      "source": [
        "The fixed code above would look like this using Python:"
      ],
      "metadata": {
        "id": "3h7sacoVBX8I"
      }
    },
    {
      "cell_type": "code",
      "source": [
        "def gcd(p, q):\n",
        "    p = abs(p)\n",
        "    q = abs(q)\n",
        "    if q == 0:\n",
        "        return p\n",
        "    else:\n",
        "        return gcd(q, p % q)\n"
      ],
      "metadata": {
        "id": "nvLFhuWaBiPn"
      },
      "execution_count": null,
      "outputs": []
    },
    {
      "cell_type": "markdown",
      "source": [
        "2. Write a recursive program **GoldenRatio.java** that takes an integer input **N** and computes an approximation to the golden ratio using the following recursive formula:\n",
        "\n",
        "$f(N) = 1$ $\\;\\;\\;\\;\\;\\;\\;\\;\\;\\;\\;\\;\\;\\;\\;\\;\\;\\;\\;\\;\\;\\;\\;\\;\\;\\;\\;\\;$  $if\\;\\;\\;\\;N = 0$\n",
        "\n",
        "$\\;\\;\\;\\;\\;\\;\\;\\;\\;\\;$$= 1 + 1/f(N - 1)$ $\\;\\;\\;\\;$ $if\\;\\;\\;N > 0$\n"
      ],
      "metadata": {
        "id": "vCRXXawaCJkm"
      }
    },
    {
      "cell_type": "code",
      "source": [
        "# public class GoldenRatio {\n",
        "#    public static double f(int N) {\n",
        "#        if (N == 0) {\n",
        "#            return 1;\n",
        "#        } else {\n",
        "#            return 1 + 1/f(N - 1);\n",
        "#        }\n",
        "#    }\n",
        "#        public static void main(String[] args) {\n",
        "#        int N = Integer.parseInt(args[0]);\n",
        "#        System.out.println(f(N));\n",
        "#    }\n",
        "# }\n"
      ],
      "metadata": {
        "id": "E-kMSA14B8qX"
      },
      "execution_count": null,
      "outputs": []
    },
    {
      "cell_type": "markdown",
      "source": [
        "In this code:\n",
        "\n",
        "- f is a recursive function that computes an approximation to the golden ratio according to the formula you provided.\n",
        "- main is the entry point for the program. It parses the command line argument as an integer N and then prints the result of f(N)."
      ],
      "metadata": {
        "id": "eIofL2gP9BRE"
      }
    },
    {
      "cell_type": "code",
      "source": [
        "def f(N):\n",
        "    if N == 0:\n",
        "        return 1\n",
        "    else:\n",
        "        return 1 + 1/f(N - 1)\n",
        "\n",
        "N = int(input())\n",
        "print(f(N))\n"
      ],
      "metadata": {
        "colab": {
          "base_uri": "https://localhost:8080/"
        },
        "id": "MDnDPH8N_FMe",
        "outputId": "480766ad-1f02-4ff9-ffc2-645517ee433e"
      },
      "execution_count": null,
      "outputs": [
        {
          "output_type": "stream",
          "name": "stdout",
          "text": [
            "7\n",
            "1.619047619047619\n"
          ]
        }
      ]
    },
    {
      "cell_type": "markdown",
      "source": [
        "Using Python:\n",
        "\n",
        "- f is a recursive function that computes an approximation to the golden ratio according to the formula you provided.\n",
        "- The line N = int(input()) reads an integer N from the user.\n",
        "- print(f(N)) prints the result of f(N)."
      ],
      "metadata": {
        "id": "27Z-7qG1_C7l"
      }
    },
    {
      "cell_type": "markdown",
      "source": [
        "3. Discover a connection between the **golden ratio** and **Fibonacci numbers**. Hint: consider the ratio of successive Fibonacci numbers: 2/1, 3/2, 8/5, 13/8, 21/13, 34/21, 55/34, 89/55, 144/89, ..."
      ],
      "metadata": {
        "id": "dUZdUpEh_lUD"
      }
    },
    {
      "cell_type": "markdown",
      "source": [
        "The **Fibonacci sequence** is a series of numbers where each number is the sum of the two preceding ones, often starting with 0 and 1. That is, the sequence goes 0, 1, 1, 2, 3, 5, 8, 13, 21, 34, and so forth.\n",
        "\n",
        "The **golden ratio**, often denoted by the **Greek letter φ (phi)**, is a mathematical constant approximately equal to 1.61803. It's defined as the positive solution of the equation φ^2 = φ + 1.\n",
        "\n",
        "Interestingly, there is a strong connection between the Fibonacci sequence and the golden ratio. **As you progress in the Fibonacci sequence, the ratio between successive Fibonacci numbers approaches the golden ratio.**\n",
        "\n",
        "Here's why: the Fibonacci sequence is defined by the recurrence relation F(n) = F(n-1) + F(n-2). When n gets large, F(n-1) and F(n-2) are very close to each other, so F(n) is approximately equal to φ*F(n-1), where φ is the golden ratio. Therefore, the ratio F(n)/F(n-1) converges to φ as n tends to infinity.\n",
        "\n",
        "You can observe this phenomenon in the Fibonacci ratios you provided: 2/1, 3/2, 8/5, 13/8, 21/13, 34/21, 55/34, 89/55, 144/89,... Each of these fractions is a ratio of two successive Fibonacci numbers, and you can see that as the numbers get larger, their ratio gets closer and closer to the golden ratio (approximately 1.61803)."
      ],
      "metadata": {
        "id": "0iMnAt94AaAS"
      }
    },
    {
      "cell_type": "markdown",
      "source": [
        "4. Consider the following recursive function. What is mystery(1, 7)?\n",
        "\n",
        "```\n",
        "\n",
        "public static int mystery(int a, int b) {\n",
        "   if (0 == b) return 0;\n",
        "   else return a + mystery(a, b-1);\n",
        "}\n",
        "```\n",
        "Will the function in the previous exercise terminate for every pair of integers a and b between 0 and 100? Give a high level description of what **mystery(a, b)** returns, given integers a and b between 0 and 100.\n",
        "\n"
      ],
      "metadata": {
        "id": "sCOfVbLUAtRx"
      }
    },
    {
      "cell_type": "markdown",
      "source": [
        "The **mystery(a, b)** function is a recursive function that continues to add a to the result of **mystery(a, b-1)** until b equals 0.\n",
        "\n",
        "1. When **mystery(1, 7)** is called, the function will add 1 to itself 7 times. The result will be 1 * 7 = 7.\n",
        "\n",
        "2. The function will terminate for every pair of integers a and b between 0 and 100, given that b is non-negative. This is because the base case for the recursion is **b == 0**, and b decreases by 1 with each recursive call. If b is negative, the function will continue to call itself indefinitely (until the stack overflows), because b will never reach 0.\n",
        "\n",
        "3. The function **mystery(a, b)** essentially multiplies a by b. If you think about it, adding a to itself b times is the same as multiplying a by b. Therefore, for integers a and b between 0 and 100, the function **mystery(a, b)** returns the product of a and b.\n",
        "\n",
        "Note: The function doesn't handle negative inputs for b properly. If b is negative, it will result in an infinite recursion as the base condition **(b == 0)** will never be met. \n",
        "\n",
        "**Possible Test:**\n",
        "\n",
        "You may want to add a condition to check if b is negative and return an appropriate response or throw an error in that case."
      ],
      "metadata": {
        "id": "cLd45V99B99S"
      }
    },
    {
      "cell_type": "markdown",
      "source": [
        "**Answer:** mystery(1, 7) = 1 + mystery(1, 6) = 1 + (1 + mystery(1, 5)) = ... 7 + mystery(1, 0) = 7.\n",
        "\n",
        "**Answer:** Yes, the base case is b = 0. Successive recursive calls reduce b by 1, driving it toward the base case. The function mystery(a, b) returns a * b. Mathematically inclined students can prove this fact via induction using the identity ab = a + a(b-1)."
      ],
      "metadata": {
        "id": "8A0bTkm1C2lo"
      }
    },
    {
      "cell_type": "markdown",
      "source": [
        "5. Consider the following function. What does **mystery(0, 8)** do?\n",
        "\n",
        "\n",
        "\n",
        "```\n",
        "public static void mystery(int a, int b) {\n",
        "   if (a != b) {\n",
        "       int m = (a + b) / 2;\n",
        "       mystery(a, m);\n",
        "       StdOut.println(m);\n",
        "       mystery(m, b);\n",
        "   }\n",
        "}\n",
        "```\n",
        "\n"
      ],
      "metadata": {
        "id": "Oq7EUDF3Cvlh"
      }
    },
    {
      "cell_type": "markdown",
      "source": [
        "**Answer:** infinite loop. ??? (My Thoughts Below)..."
      ],
      "metadata": {
        "id": "YAgwy7b4EWiP"
      }
    },
    {
      "cell_type": "markdown",
      "source": [
        "The method **mystery(a, b)** in this context does not cause an infinite loop when provided with integer inputs, such as mystery(0, 8).\n",
        "\n",
        "The function **mystery(a, b)** implements a kind of binary search algorithm, dividing the range **[a, b)** in half each time. It then recursively calls itself with the new intervals **[a, m)** and **[m, b)**, where m is the midpoint of a and b. This process continues until a equals b, at which point the recursion stops.\n",
        "\n",
        "In the case of **mystery(0, 8)**, the method will recursively divide the range [0, 8) until it reaches individual numbers. At each stage of the recursion, it will print out the midpoint m. As Java uses integer division, the result of the division (a + b) / 2 will always be a whole number, and each subsequent recursive call will be made with a smaller range.\n",
        "\n",
        "Thus, when you run **mystery(0, 8)**, it will print out numbers in a specific order, which would be the numbers 0 to 7 sorted in ascending order.\n",
        "\n",
        "**Note:  A potential infinite loop could occur if mystery(a, b) was called with a and b being equal or a being greater than b, because the base case for the recursion (a != b) would not be met. But as long as a < b, the function should not result in an infinite loop.** "
      ],
      "metadata": {
        "id": "iXAbhGOkEBpo"
      }
    },
    {
      "cell_type": "markdown",
      "source": [
        "6. Consider the following function. What does mystery(0, 8) do?\n",
        "\n",
        "```\n",
        "public static void mystery(int a, int b) {\n",
        "   if (a != b) {\n",
        "       int m = (a + b) / 2;\n",
        "       mystery(a, m - 1);\n",
        "       StdOut.println(m);\n",
        "       mystery(m + 1, b);\n",
        "   }\n",
        "}\n",
        "```\n",
        "\n",
        "Answer: stack overflow. - - Why?"
      ],
      "metadata": {
        "id": "zThGVFRKI8SW"
      }
    },
    {
      "cell_type": "markdown",
      "source": [
        "The **mystery(a, b)** function as defined, performs a binary search-like operation, recursively dividing the range **[a, b)** in half each time. The significant difference in this version compared to the previous one is the inclusion of -1 and +1 for the recursive calls. This modification ensures that m isn't included in either of the two ranges being passed to the next level of recursive calls.\n",
        "\n",
        "Now, why **mystery(0, 8)** causes a stack overflow:\n",
        "\n",
        "1. In the first call, a is 0 and b is 8, so m will be (0 + 8) / 2 = 4.\n",
        "2. The first recursive call will be mystery(0, 4 - 1), which is mystery(0, 3).\n",
        "3. In the mystery(0, 3) call, m will be (0 + 3) / 2 = 1 (because integer division truncates the decimal).\n",
        "4. This leads to another recursive call of mystery(0, 1 - 1), which is mystery(0, 0).\n",
        "5. Here's the problem: at mystery(0, 0), m is (0 + 0) / 2 = 0, which equals a.\n",
        "6. This leads to yet another call to mystery(0, 0 - 1), or mystery(0, -1).\n",
        "7. The recursion never reaches the base case of a **!= b**, because b keeps getting decremented with each recursive call, leading to infinite recursion, hence causing a stack overflow.\n",
        "8. In other words, the function fails to converge to its base case when a equals b in the first recursive call, as m - 1 results in an infinite loop.\n",
        "\n",
        "In summary, the stack overflow occurs because the bounds for the recursion aren't being correctly established. This allows for the recursion to continue indefinitely, ultimately resulting in a stack overflow error."
      ],
      "metadata": {
        "id": "qxZqHwYWI4C2"
      }
    },
    {
      "cell_type": "markdown",
      "source": [
        "7. Repeat the previous exercise, but replace if (a != b) with if (a <= b)."
      ],
      "metadata": {
        "id": "vEJWcJMuKMJc"
      }
    },
    {
      "cell_type": "markdown",
      "source": [
        "By changing the base condition from **a != b to a <= b**, the recursive calls will only continue if a is less than or equal to b. This new condition could prevent the function from entering an infinite recursion, which was the case with the previous version of the function, **mystery(0, 8)**.\n",
        "\n",
        "For the call **mystery(0, 8)**, here's what happens:\n",
        "\n",
        "1. First, m is calculated as (0 + 8) / 2 = 4.\n",
        "2. The function then calls itself with the parameters a and m - 1, or mystery(0, 3).\n",
        "3. This process continues, breaking down the range [0, 8) in a binary search-like fashion and printing m each time.\n",
        "4. Eventually, when a = b, the recursion on the left side (mystery(a, m - 1)) stops, because the condition a <= b is not satisfied when a > b.\n",
        "5. The same process occurs on the right side (mystery(m + 1, b)), and the recursion stops when a > b."
      ],
      "metadata": {
        "id": "U4GjFvWfKyl8"
      }
    },
    {
      "cell_type": "markdown",
      "source": [
        "8. What does mystery(0, 8) do?\n",
        "\n",
        "```\n",
        "\n",
        "public static int mystery(int a, int b) {\n",
        "    if (a == b) StdOut.println(a);\n",
        "    else {\n",
        "       int m1 = (a + b    ) / 2;\n",
        "       int m2 = (a + b + 1) / 2;\n",
        "       mystery(a, m1);\n",
        "       mystery(m2, b);\n",
        "    }\n",
        "}\n",
        "```\n",
        "\n"
      ],
      "metadata": {
        "id": "j2lr465NP5oo"
      }
    },
    {
      "cell_type": "markdown",
      "source": [
        "\n",
        "The **mystery(a, b)** function you've defined here is a kind of modified binary search that prints out all integers from a to b inclusive. It recursively divides the range **[a, b]** into two halves and applies the same operation on each half. The significant part here is the choice of middle points m1 and m2.\n",
        "\n",
        "In the call **mystery(0, 8)**, here's what happens:\n",
        "\n",
        "1. For the first call, m1 is (0 + 8) / 2 = 4 and m2 is (0 + 8 + 1) / 2 = 4.\n",
        "2. The function then calls itself with the parameters a and m1, or mystery(0, 4).\n",
        "3. The mystery(0, 4) call is further broken down in the same manner until it reaches a = b, at which point it prints a.\n",
        "4. Once it has completed the first half (from a to m1), it then processes the second half, mystery(m2, b) or mystery(5, 8).\n",
        "5. This same process is applied to each half until all the integers from a to b have been printed.\n",
        "6. So, mystery(0, 8) would print all integers from 0 to 8 inclusive.\n",
        "\n",
        "The function is designed this way to handle even and odd numbers of elements differently in order to avoid missing or duplicating a number. **m1 and m2** are calculated to handle the difference between odd and even numbers of elements in the range."
      ],
      "metadata": {
        "id": "_GVgyf13QH_8"
      }
    },
    {
      "cell_type": "markdown",
      "source": [
        "9. What does the following function compute?\n",
        "```\n",
        "public static int f(int n) {\n",
        "   if (n == 0) return 0;\n",
        "   if (n == 1) return 1;\n",
        "   if (n == 2) return 1;\n",
        "   return 2*f(n-2) + f(n-3);\n",
        "}\n",
        "```\n"
      ],
      "metadata": {
        "id": "GMnxSOROQsof"
      }
    },
    {
      "cell_type": "markdown",
      "source": [
        "The base cases are defined as **f(0) = 0**, **f(1) = 1**, and **f(2) = 1**.\n",
        "\n",
        "Afterwards, for n > 2, the function is defined in terms of its two preceding terms as f(n) = 2*f(n-2) + f(n-3). *This is a form of second order linear recurrence relation.*\n",
        "\n",
        "The values of the sequence for n >= 3 are therefore determined by two steps back and three steps back in the sequence. For example, f(3) will be 2*f(1) + f(0), f(4) will be 2*f(2) + f(1), and so on."
      ],
      "metadata": {
        "id": "ky7zR0d9RLge"
      }
    },
    {
      "cell_type": "markdown",
      "source": [
        "10. Write a program **Fibonacci2.java** that takes a command-line argument N and prints out the first N Fibonacci numbers using the following alternate definition:\n",
        "\n",
        "\n",
        "$F(n) = 1$ $\\;\\;\\;\\;\\;\\;\\;\\;\\;\\;\\;\\;\\;\\;\\;\\;\\;\\;\\;\\;\\;\\;\\;\\;\\;\\;\\;\\;\\;\\;\\;\\;\\;\\;\\;\\;\\;$ if $n = 1$ or $n = 2$ \\\\\n",
        "$\\;\\;\\;\\;\\;\\;\\;\\;\\;\\;$        = $F(\\frac{n+1}{2})^2$ + $F(\\frac{n-1}{2})^2$ $\\;\\;\\;\\;\\;\\;\\;\\;$ if $n$ is odd \\\\\n",
        "$\\;\\;\\;\\;\\;\\;\\;\\;\\;\\;$ = $F(\\frac{n}{2} + 1)^2$ - $F(\\frac{n}{2} - 1)^2$ $\\;\\;\\;$ if $n$ is even\n",
        "\n",
        "What is the biggest Fibonacci number you can compute in under a minute using this definition? Compare this to **Fibonacci.java**."
      ],
      "metadata": {
        "id": "Vfu01TZ2R2cP"
      }
    },
    {
      "cell_type": "code",
      "source": [
        "public class Fibonacci2 {\n",
        "    private static long[] memo;\n",
        "\n",
        "    public static long F(int n) {\n",
        "        if (n <= 2) {\n",
        "            return 1;\n",
        "        }\n",
        "        if (memo[n] != 0) {\n",
        "            return memo[n];\n",
        "        }\n",
        "        if (n % 2 == 0) {\n",
        "            long k = n / 2;\n",
        "            memo[n] = F(k + 1) * F(k + 1) - F(k - 1) * F(k - 1);\n",
        "        } else {\n",
        "            long k = (n + 1) / 2;\n",
        "            memo[n] = F(k) * F(k) + F(k - 1) * F(k - 1);\n",
        "        }\n",
        "        return memo[n];\n",
        "    }\n",
        "\n",
        "    public static void main(String[] args) {\n",
        "        int N = Integer.parseInt(args[0]);\n",
        "        memo = new long[N + 1];\n",
        "        for (int i = 1; i <= N; i++) {\n",
        "            System.out.println(F(i));\n",
        "        }\n",
        "    }\n",
        "}\n"
      ],
      "metadata": {
        "id": "9LLVK7dDX93y"
      },
      "execution_count": null,
      "outputs": []
    },
    {
      "cell_type": "markdown",
      "source": [
        "This program takes an integer $N$ as a command-line argument and prints out the first $N$ Fibonacci numbers according to the alternate definition. It uses memoization to store already computed Fibonacci numbers, which significantly speeds up the computation.\n",
        "\n",
        "However, the biggest Fibonacci number you can compute in under a minute will heavily depend on the exact hardware and Java implementation you're using.\n",
        "\n",
        "Compared to the traditional Fibonacci sequence calculation, this approach allows for more efficient computation of the Fibonacci sequence. In the traditional approach, the Fibonacci sequence has a time complexity of $O(2^n)$ if implemented naively (without dynamic programming or memoization). This alternate definition reduces the time complexity to $O(n)$, which is much faster for large values of $N$.\n",
        "\n",
        "Nevertheless, due to the rapid growth of Fibonacci numbers, the values will exceed the limits of the long data type quite quickly. Additionally, the computation time can still increase significantly for very large $N$."
      ],
      "metadata": {
        "id": "Reu7_Nt3Y7dI"
      }
    },
    {
      "cell_type": "code",
      "source": [
        "#Python Equivalent:\n",
        "\n",
        "memo = {}\n",
        "\n",
        "def F(n):\n",
        "    if n <= 2:\n",
        "        return 1\n",
        "    if n in memo:\n",
        "        return memo[n]\n",
        "    if n % 2 == 0:\n",
        "        k = n // 2\n",
        "        memo[n] = F(k + 1) ** 2 - F(k - 1) ** 2\n",
        "    else:\n",
        "        k = (n + 1) // 2\n",
        "        memo[n] = F(k) ** 2 + F(k - 1) ** 2\n",
        "    return memo[n]\n",
        "\n",
        "def main(N):\n",
        "    global memo\n",
        "    memo = {i: 0 for i in range(N + 1)}\n",
        "    for i in range(1, N + 1):\n",
        "        print(F(i))\n",
        "\n",
        "if __name__ == \"__main__\":\n",
        "    N = int(input(\"Enter a number: \"))\n",
        "    main(N)\n"
      ],
      "metadata": {
        "id": "yJT0OWM6ZxeZ"
      },
      "execution_count": null,
      "outputs": []
    },
    {
      "cell_type": "markdown",
      "source": [
        "11. Write a program that takes a command-line argument $N$ and prints out the first $N$ Fibonacci numbers using the following method proposed by Dijkstra:\n",
        "\n",
        "\n",
        "$F(0) =  0$ \\\\\n",
        "$F(1) =  1$ \\\\\n",
        "$F(2n-1) = F(n-1)^2 + F(n)^2$ \\\\\n",
        "$F(2n) = (2F(n-1) + F(n)) * F(n)$\n",
        "\n"
      ],
      "metadata": {
        "id": "VafjvyZyZ7xI"
      }
    },
    {
      "cell_type": "markdown",
      "source": [
        "```\n",
        "public class FibonacciDijkstra {\n",
        "    private static long[] memo;\n",
        "\n",
        "    public static long F(int n) {\n",
        "        if (n == 0) {\n",
        "            return 0;\n",
        "        }\n",
        "        if (n == 1) {\n",
        "            return 1;\n",
        "        }\n",
        "        if (memo[n] != 0) {\n",
        "            return memo[n];\n",
        "        }\n",
        "        if (n % 2 == 0) {\n",
        "            long k = n / 2;\n",
        "            memo[n] = (2 * F(k - 1) + F(k)) * F(k);\n",
        "        } else {\n",
        "            long k = (n + 1) / 2;\n",
        "            memo[n] = F(k - 1) * F(k - 1) + F(k) * F(k);\n",
        "        }\n",
        "        return memo[n];\n",
        "    }\n",
        "\n",
        "    public static void main(String[] args) {\n",
        "        int N = Integer.parseInt(args[0]);\n",
        "        memo = new long[N + 1];\n",
        "        for (int i = 0; i < N; i++) {\n",
        "            System.out.println(F(i));\n",
        "        }\n",
        "    }\n",
        "}\n",
        "```"
      ],
      "metadata": {
        "id": "Bu2pp4iwbEs1"
      }
    },
    {
      "cell_type": "code",
      "source": [
        "memo = {}\n",
        "\n",
        "def F(n):\n",
        "    if n == 0:\n",
        "        return 0\n",
        "    if n == 1:\n",
        "        return 1\n",
        "    if n in memo:\n",
        "        return memo[n]\n",
        "    if n % 2 == 0:\n",
        "        k = n // 2\n",
        "        memo[n] = (2 * F(k - 1) + F(k)) * F(k)\n",
        "    else:\n",
        "        k = (n + 1) // 2\n",
        "        memo[n] = F(k - 1) ** 2 + F(k) ** 2\n",
        "    return memo[n]\n",
        "\n",
        "def main(N):\n",
        "    global memo\n",
        "    memo = {i: 0 for i in range(N + 1)}\n",
        "    for i in range(N):\n",
        "        print(F(i))\n",
        "\n",
        "if __name__ == \"__main__\":\n",
        "    N = int(input(\"Enter a number: \"))\n",
        "    main(N)\n"
      ],
      "metadata": {
        "id": "8cKAdPW2bP-A"
      },
      "execution_count": null,
      "outputs": []
    },
    {
      "cell_type": "markdown",
      "source": [
        "12. Prove by **mathematical induction** that the alternate definitions of the Fibonacci function given in the previous two exercises are equivalent to the original definition.\n"
      ],
      "metadata": {
        "id": "A6P-OZy7bYRg"
      }
    },
    {
      "cell_type": "markdown",
      "source": [
        "The Fibonacci sequence is defined by the following recurrence relation:\n",
        "\n",
        "$F(0) = 0$, $F(1) = 1$, $F(n) = F(n - 1) + F(n - 2)$ for $n$ > 1\n",
        "\n",
        "For the two exercises, the following alternate definitions were given:\n",
        "\n",
        "$F(0) = 0$, $F(1) = 1$, $F(2n) = (2F(n-1) + F(n))$ * $F(n)$, $F(2n-1)$ = $F(n-1)^2 + F(n)^2$ (Dijkstra)\n",
        "\n",
        "$F(n) = 1$ if $n$ = 1 or $n$ = 2, $F(n) = F(\\frac{n + 1}{2})^2 + F(\\frac{n - 1}{2})^2$ if $n$ is odd, $F(n) = F(\\frac{n}{2} + 1)^2 - F(\\frac{n}{2} - 1)^2$ if $n$ is even\n",
        "\n",
        "To prove these definitions are equivalent to the original definition by induction, we'd proceed in two steps for each:\n",
        "\n",
        "- Base case(s): Verify the statement for the initial value(s).\n",
        "- Inductive step: Show that if the statement holds for some $n$, then it also holds for $n + 1$.\n",
        "\n",
        "**Dijkstra's Definition:**\n",
        "\n",
        "- Base Case: $F(0) = 0$, $F(1) = 1$ - This is the same as in the original definition.\n",
        "- Inductive Step: Assume that the properties hold for $n = k$ and $n = k - 1$. Then we need to show that they hold for $n = k + 1$.\n",
        "\n",
        "If $k + 1$ is even, then $k + 1 = 2m$ for some $m$. Using the Dijkstra's definition for even numbers, we can show that $F(k+1) = F(k) + F(k-1)$ which matches the original definition.\n",
        "If $k + 1$ is odd, then $k + 1 = 2m - 1$ for some $m$. Using Dijkstra's definition for odd numbers, again we can show that $F(k+1) = F(k) + F(k-1)$ which matches the original definition.\n",
        "\n",
        "**Second Definition:**\n",
        "\n",
        "- Base Case: $F(1) = 1, F(2) = 1$ - This matches with $F(1) = 1$ and $F(2) = F(1) + F(0) = 1$ from the original definition.\n",
        "- Inductive Step: Assume that the properties hold for $n = k$ and $n = k - 1$. Then we need to show that they hold for $n = k + 1$.\n",
        "\n",
        "If $k + 1$ is even, then $k + 1 = 2m$ for some $m$. Using the second definition for even numbers, we can show that $F(k+1) = F(k) + F(k-1)$ which matches the original definition.\n",
        "If $k + 1$ is odd, then $k + 1 = 2m + 1$ for some $m$. Using the second definition for odd numbers, again we can show that $F(k+1) = F(k) + F(k-1)$ which matches the original definition.\n",
        "\n",
        "Thus, we can conclude that these two alternate definitions of the Fibonacci sequence are indeed equivalent to the original definition by mathematical induction. Please note that inductive proofs involve mathematical notations and equations, and actual formal proofs can be more complicated."
      ],
      "metadata": {
        "id": "STJf31cMbje-"
      }
    },
    {
      "cell_type": "markdown",
      "source": [
        "13. Write a program Pell.java that takes a command-line argument N and prints out the first N Pell numbers: $p_0 = 0$, $p_1 = 1$, and for $n \\ge 2$, $p_n = 2p_{n-1} + p_{n-2}$. Print out the ratio of successive terms and compare to $1 + \\sqrt{2}$\n"
      ],
      "metadata": {
        "id": "zuImh0wOfcqc"
      }
    },
    {
      "cell_type": "markdown",
      "source": [
        "```\n",
        "public class Pell {\n",
        "    public static void main(String[] args) {\n",
        "        int N = Integer.parseInt(args[0]);\n",
        "        long[] p = new long[N];\n",
        "\n",
        "        p[0] = 0;\n",
        "\n",
        "        if (N > 1) {\n",
        "            p[1] = 1;\n",
        "\n",
        "            // Print first two terms\n",
        "            System.out.println(p[0]);\n",
        "            System.out.println(p[1]);\n",
        "        }\n",
        "\n",
        "        for (int i = 2; i < N; i++) {\n",
        "            p[i] = 2 * p[i - 1] + p[i - 2];\n",
        "            System.out.println(p[i]);\n",
        "        }\n",
        "\n",
        "        System.out.println(\"Ratio of successive terms:\");\n",
        "\n",
        "        for (int i = 2; i < N; i++) {\n",
        "            double ratio = (double) p[i] / p[i - 1];\n",
        "            System.out.println(ratio);\n",
        "        }\n",
        "\n",
        "        System.out.println(\"Comparison to 1 + sqrt(2):\");\n",
        "        for (int i = 2; i < N; i++) {\n",
        "            double ratio = (double) p[i] / p[i - 1];\n",
        "            System.out.println(Math.abs(ratio - (1 + Math.sqrt(2))));\n",
        "        }\n",
        "    }\n",
        "}\n",
        "```"
      ],
      "metadata": {
        "id": "yVybl2Mcgpnc"
      }
    },
    {
      "cell_type": "code",
      "source": [
        "# Python Equivalent:\n",
        "\n",
        "import math\n",
        "\n",
        "def pell(n):\n",
        "    p = [0, 1] + [0]*(n-2)\n",
        "    for i in range(2, n):\n",
        "        p[i] = 2 * p[i - 1] + p[i - 2]\n",
        "    return p\n",
        "\n",
        "N = int(input(\"Enter N: \"))\n",
        "pell_numbers = pell(N)\n",
        "\n",
        "print(pell_numbers)\n",
        "\n",
        "ratios = [pell_numbers[i] / pell_numbers[i - 1] for i in range(2, N)]\n",
        "print(\"Ratio of successive terms:\")\n",
        "print(ratios)\n",
        "\n",
        "comparison = [abs(ratio - (1 + math.sqrt(2))) for ratio in ratios]\n",
        "print(\"Comparison to 1 + sqrt(2):\")\n",
        "print(comparison)\n"
      ],
      "metadata": {
        "colab": {
          "base_uri": "https://localhost:8080/"
        },
        "id": "7v-uH0Kfg_6R",
        "outputId": "b6681403-a9ed-4276-ee5f-374e6dfa00df"
      },
      "execution_count": null,
      "outputs": [
        {
          "output_type": "stream",
          "name": "stdout",
          "text": [
            "Enter N: 4\n",
            "[0, 1, 2, 5]\n",
            "Ratio of successive terms:\n",
            "[2.0, 2.5]\n",
            "Comparison to 1 + sqrt(2):\n",
            "[0.4142135623730949, 0.08578643762690508]\n"
          ]
        }
      ]
    },
    {
      "cell_type": "markdown",
      "source": [
        "14. Consider the following function from program **Recursion.java**:\n",
        "```\n",
        "public static void mystery(int n) {\n",
        "   if (n == 0 || n == 1) return;\n",
        "   mystery(n-2);\n",
        "   StdOut.println(n);\n",
        "   mystery(n-1);\n",
        "}\n",
        "```\n",
        "\n",
        "What does mystery(6) print out? Hint: first figure out what mystery(2), mystery(3), and so forth print out."
      ],
      "metadata": {
        "id": "7c4IucwPhKFK"
      }
    },
    {
      "cell_type": "markdown",
      "source": [
        "\n",
        "The **mystery function** recursively prints numbers. It first calls mystery(n-2), then prints n, then calls mystery(n-1).\n",
        "\n",
        "For mystery(6), let's break it down:\n",
        "\n",
        "1. mystery(6) will call mystery(4) first (because of mystery(n-2)), which will itself call mystery(2) first and print out 2, and then call mystery(3), which will print 3 as mystery(1) does not print anything. After that mystery(4) will print 4.\n",
        "2. Back in mystery(6), after the call to mystery(4), it will print 6 and then call mystery(5).\n",
        "mystery(5) will call mystery(3) first (which we already know prints 3), and then it will print 5 because mystery(4) has been called before in mystery(6).\n",
        "\n",
        "So, the output of mystery(6) will be:\n",
        "\n",
        "```\n",
        "2\n",
        "3\n",
        "4\n",
        "6\n",
        "3\n",
        "5\n",
        "```\n"
      ],
      "metadata": {
        "id": "x1WnoTpqSEv6"
      }
    },
    {
      "cell_type": "markdown",
      "source": [
        "15. What would happen in the previous exercise if the base case was replaced with the following statement?\n",
        "```\n",
        "if (n == 0) return;\n",
        "```\n"
      ],
      "metadata": {
        "id": "hlnxJNn9Sbzb"
      }
    },
    {
      "cell_type": "markdown",
      "source": [
        "Replacing the base case in the mystery function with if (n == 0) return; **would remove the ability of the function to terminate when n == 1.**\n",
        "\n",
        "Here is how mystery(6) would behave:\n",
        "\n",
        "- mystery(6) will first call mystery(4).\n",
        "- mystery(4) will first call mystery(2).\n",
        "- mystery(2) will call mystery(0), which terminates because n == 0. Then it prints 2.\n",
        "- We go back to mystery(4) which then prints 4 and then calls mystery(3).\n",
        "- mystery(3) will first call mystery(1).\n",
        "- Now, because n == 1 doesn't match our base case, mystery(1) will call mystery(-1) and go into negative values, leading to an infinite recursion loop as it will keep calling mystery(n-2) and mystery(n-1) with increasingly negative values for n.\n",
        "\n",
        "\n",
        "Hence, if we replace if (n == 0 || n == 1) return; with if (n == 0) return;, it will lead to an infinite recursion loop whenever n > 1."
      ],
      "metadata": {
        "id": "ochUVgyOSrgx"
      }
    },
    {
      "cell_type": "markdown",
      "source": [
        "16. Consider the following recursive functions:\n",
        "\n",
        "```\n",
        "public static int square(int n) {\n",
        "   if (n == 0) return 0;\n",
        "   return square(n-1) + 2*n - 1;\n",
        "}\n",
        "\n",
        "\n",
        "public static int cube(int n) {\n",
        "   if (n == 0) return 0;\n",
        "   return cube(n-1) + 3*(square(n)) - 3*n + 1;\n",
        "}\n",
        "```\n",
        "\n",
        "What is the value of:\n",
        "\n",
        "- square(5)?  = $5^2$\n",
        "\n",
        "- cube(5)?    = $5^3$\n",
        "\n",
        "- cube(123)?  = $(123)^3$"
      ],
      "metadata": {
        "id": "GljIm6u0TOuy"
      }
    },
    {
      "cell_type": "markdown",
      "source": [
        "The function square(n) is calculating the square of $n$ using the formula $n^2 = (n-1)^2 + 2*n - 1$. The function cube(n) is calculating the cube of $n$ using a similar approach, with the formula $n^3 = (n-1)^3 + 3*n^2 - 3*n + 1$.\n",
        "\n",
        "Let's calculate the requested values:\n",
        "\n",
        "- square(5) would return $5^2$ = 25.\n",
        "- cube(5) would return $5^3$ = 125.\n",
        "- cube(123) would return $123^3$ = 1860867.\n",
        "\n",
        "You can prove these formulas via mathematical induction or by observing that they result from expanding the binomial $(n-1 + 1)^2$ and $(n-1 + 1)^3$ respectively."
      ],
      "metadata": {
        "id": "0CYy57KyTwPp"
      }
    },
    {
      "cell_type": "markdown",
      "source": [
        "17. Consider the following pair of mutually recursive functions. \n",
        "```\n",
        "What does g(g(2)) evaluate to?\n",
        "public static int f(int n) {     public static int g(int n) {\n",
        "   if (n == 0) return 0;            if (n == 0) return 0;\n",
        "   return f(n-1) + g(n-1);          return g(n-1) + f(n);\n",
        "}                                }\n",
        "```\n"
      ],
      "metadata": {
        "id": "IqkvB04tWzfx"
      }
    },
    {
      "cell_type": "markdown",
      "source": [
        "Let's break it down:\n",
        "\n",
        "First, let's compute $g(2)$:\n",
        "\n",
        "$g(2) = g(1) + f(2)$\n",
        "\n",
        "To compute $g(1)$, we get:\n",
        "- $g(1) = g(0) + f(1) = 0 + f(1) = f(1)$.\n",
        "\n",
        "- $f(1) = f(0) + g(0) = 0 + 0 = 0$.\n",
        "\n",
        "So, $g(1) = 0$\n",
        "\n",
        "Now, $f(2) = f(1) + g(1) = f(1) + 0 = f(1) = f(0) + g(0) = 0 + 0 = 0$.\n",
        "\n",
        "So $g(2) = g(1) + f(2) = 0 + 0 = 0$.\n",
        "\n",
        "Next, we compute $g(g(2)) = g(0) = 0$.\n",
        "\n",
        "Therefore, $g(g(2))$ evaluates to $0$."
      ],
      "metadata": {
        "id": "MV3Fb57NXEpA"
      }
    },
    {
      "cell_type": "markdown",
      "source": [
        "18. Write program to verify that (for small values of $n$) the sum of the cubes of the first $n$ Fibonacci numbers \n",
        "\n",
        "$F(0)^3 + F(1)^3 + ... + F(n)^3$ = $\\frac{(F(3n+4) + (-1)^n * 6 * f(n-1))}{10}$ \\\\\n",
        "\n",
        "\n",
        "where $F(0) = 1, F(1) = 1, F(2) = 2$, and so forth."
      ],
      "metadata": {
        "id": "7tllD982X_aS"
      }
    },
    {
      "cell_type": "markdown",
      "source": [
        "Here is a **modified** Fibonacci where $F(0) = 1$ and so forth:\n",
        "\n",
        "```\n",
        "public class FibonacciCubeSum {\n",
        "    private static long[] memo;\n",
        "\n",
        "    public static long F(int n) {\n",
        "        if (n <= 2) {\n",
        "            return n;\n",
        "        }\n",
        "        if (memo[n] != 0) {\n",
        "            return memo[n];\n",
        "        }\n",
        "        memo[n] = F(n - 1) + F(n - 2);\n",
        "        return memo[n];\n",
        "    }\n",
        "\n",
        "    public static void main(String[] args) {\n",
        "        int N = Integer.parseInt(args[0]);\n",
        "        memo = new long[N + 5];\n",
        "        long cubeSum = 0;\n",
        "        for (int i = 0; i <= N; i++) {\n",
        "            long Fi = F(i);\n",
        "            cubeSum += Fi * Fi * Fi;\n",
        "        }\n",
        "        long formulaResult = (F(3*N + 4) + ((N % 2 == 0) ? 1 : -1) * 6 * F(N - 1)) / 10;\n",
        "        System.out.println(\"Sum of cubes: \" + cubeSum);\n",
        "        System.out.println(\"Formula result: \" + formulaResult);\n",
        "        System.out.println(\"Verified: \" + (cubeSum == formulaResult));\n",
        "    }\n",
        "}\n",
        "```\n"
      ],
      "metadata": {
        "id": "DhE0roU4Y8L_"
      }
    },
    {
      "cell_type": "code",
      "source": [
        "# Python Equivalent:\n",
        "\n",
        "def F(n, memo):\n",
        "    if n <= 2:\n",
        "        return n\n",
        "    if memo[n] != 0:\n",
        "        return memo[n]\n",
        "    memo[n] = F(n - 1, memo) + F(n - 2, memo)\n",
        "    return memo[n]\n",
        "\n",
        "\n",
        "def main(N):\n",
        "    memo = [0] * (N + 5)\n",
        "    cube_sum = 0\n",
        "    for i in range(N + 1):\n",
        "        Fi = F(i, memo)\n",
        "        cube_sum += Fi ** 3\n",
        "    formula_result = (F(3*N + 4, memo) + ((1 if N % 2 == 0 else -1) * 6 * F(N - 1, memo))) // 10\n",
        "    print(\"Sum of cubes: \", cube_sum)\n",
        "    print(\"Formula result: \", formula_result)\n",
        "    print(\"Verified: \", cube_sum == formula_result)\n",
        "\n",
        "\n",
        "if __name__ == \"__main__\":\n",
        "    N = int(input(\"Enter N: \"))\n",
        "    main(N)\n"
      ],
      "metadata": {
        "colab": {
          "base_uri": "https://localhost:8080/",
          "height": 382
        },
        "id": "J7yzGkmpZrPc",
        "outputId": "cdf3ed06-a29c-4f0e-a890-0f6726a11850"
      },
      "execution_count": null,
      "outputs": [
        {
          "output_type": "error",
          "ename": "KeyboardInterrupt",
          "evalue": "ignored",
          "traceback": [
            "\u001b[0;31m---------------------------------------------------------------------------\u001b[0m",
            "\u001b[0;31mKeyboardInterrupt\u001b[0m                         Traceback (most recent call last)",
            "\u001b[0;32m<ipython-input-5-9b9bf815c948>\u001b[0m in \u001b[0;36m<cell line: 24>\u001b[0;34m()\u001b[0m\n\u001b[1;32m     23\u001b[0m \u001b[0;34m\u001b[0m\u001b[0m\n\u001b[1;32m     24\u001b[0m \u001b[0;32mif\u001b[0m \u001b[0m__name__\u001b[0m \u001b[0;34m==\u001b[0m \u001b[0;34m\"__main__\"\u001b[0m\u001b[0;34m:\u001b[0m\u001b[0;34m\u001b[0m\u001b[0;34m\u001b[0m\u001b[0m\n\u001b[0;32m---> 25\u001b[0;31m     \u001b[0mN\u001b[0m \u001b[0;34m=\u001b[0m \u001b[0mint\u001b[0m\u001b[0;34m(\u001b[0m\u001b[0minput\u001b[0m\u001b[0;34m(\u001b[0m\u001b[0;34m\"Enter N: \"\u001b[0m\u001b[0;34m)\u001b[0m\u001b[0;34m)\u001b[0m\u001b[0;34m\u001b[0m\u001b[0;34m\u001b[0m\u001b[0m\n\u001b[0m\u001b[1;32m     26\u001b[0m     \u001b[0mmain\u001b[0m\u001b[0;34m(\u001b[0m\u001b[0mN\u001b[0m\u001b[0;34m)\u001b[0m\u001b[0;34m\u001b[0m\u001b[0;34m\u001b[0m\u001b[0m\n",
            "\u001b[0;32m/usr/local/lib/python3.10/dist-packages/ipykernel/kernelbase.py\u001b[0m in \u001b[0;36mraw_input\u001b[0;34m(self, prompt)\u001b[0m\n\u001b[1;32m    849\u001b[0m                 \u001b[0;34m\"raw_input was called, but this frontend does not support input requests.\"\u001b[0m\u001b[0;34m\u001b[0m\u001b[0;34m\u001b[0m\u001b[0m\n\u001b[1;32m    850\u001b[0m             )\n\u001b[0;32m--> 851\u001b[0;31m         return self._input_request(str(prompt),\n\u001b[0m\u001b[1;32m    852\u001b[0m             \u001b[0mself\u001b[0m\u001b[0;34m.\u001b[0m\u001b[0m_parent_ident\u001b[0m\u001b[0;34m,\u001b[0m\u001b[0;34m\u001b[0m\u001b[0;34m\u001b[0m\u001b[0m\n\u001b[1;32m    853\u001b[0m             \u001b[0mself\u001b[0m\u001b[0;34m.\u001b[0m\u001b[0m_parent_header\u001b[0m\u001b[0;34m,\u001b[0m\u001b[0;34m\u001b[0m\u001b[0;34m\u001b[0m\u001b[0m\n",
            "\u001b[0;32m/usr/local/lib/python3.10/dist-packages/ipykernel/kernelbase.py\u001b[0m in \u001b[0;36m_input_request\u001b[0;34m(self, prompt, ident, parent, password)\u001b[0m\n\u001b[1;32m    893\u001b[0m             \u001b[0;32mexcept\u001b[0m \u001b[0mKeyboardInterrupt\u001b[0m\u001b[0;34m:\u001b[0m\u001b[0;34m\u001b[0m\u001b[0;34m\u001b[0m\u001b[0m\n\u001b[1;32m    894\u001b[0m                 \u001b[0;31m# re-raise KeyboardInterrupt, to truncate traceback\u001b[0m\u001b[0;34m\u001b[0m\u001b[0;34m\u001b[0m\u001b[0m\n\u001b[0;32m--> 895\u001b[0;31m                 \u001b[0;32mraise\u001b[0m \u001b[0mKeyboardInterrupt\u001b[0m\u001b[0;34m(\u001b[0m\u001b[0;34m\"Interrupted by user\"\u001b[0m\u001b[0;34m)\u001b[0m \u001b[0;32mfrom\u001b[0m \u001b[0;32mNone\u001b[0m\u001b[0;34m\u001b[0m\u001b[0;34m\u001b[0m\u001b[0m\n\u001b[0m\u001b[1;32m    896\u001b[0m             \u001b[0;32mexcept\u001b[0m \u001b[0mException\u001b[0m \u001b[0;32mas\u001b[0m \u001b[0me\u001b[0m\u001b[0;34m:\u001b[0m\u001b[0;34m\u001b[0m\u001b[0;34m\u001b[0m\u001b[0m\n\u001b[1;32m    897\u001b[0m                 \u001b[0mself\u001b[0m\u001b[0;34m.\u001b[0m\u001b[0mlog\u001b[0m\u001b[0;34m.\u001b[0m\u001b[0mwarning\u001b[0m\u001b[0;34m(\u001b[0m\u001b[0;34m\"Invalid Message:\"\u001b[0m\u001b[0;34m,\u001b[0m \u001b[0mexc_info\u001b[0m\u001b[0;34m=\u001b[0m\u001b[0;32mTrue\u001b[0m\u001b[0;34m)\u001b[0m\u001b[0;34m\u001b[0m\u001b[0;34m\u001b[0m\u001b[0m\n",
            "\u001b[0;31mKeyboardInterrupt\u001b[0m: Interrupted by user"
          ]
        }
      ]
    },
    {
      "cell_type": "markdown",
      "source": [
        "The question calls for a modified Fibonacci sequence where $F(0) = 1$, and so forth...(Above Code)\n",
        "\n",
        "The conventional method of the Fibonacci sequence where $F(0) = 0$, and so forth the code will look slightly different - (See Below):"
      ],
      "metadata": {
        "id": "dhgD0GAsawU3"
      }
    },
    {
      "cell_type": "markdown",
      "source": [
        "For the conventional Fibonacci sequence $F(0) = 0, F(1) = 1, F(2) = 1$, etc., the programs would look like the following:\n",
        "\n",
        "```\n",
        "public class FibonacciCubeSum {\n",
        "    private static long[] memo;\n",
        "\n",
        "    public static long F(int n) {\n",
        "        if (n == 0) return 0;\n",
        "        if (n == 1) return 1;\n",
        "        if (memo[n] != 0) return memo[n];\n",
        "        memo[n] = F(n - 1) + F(n - 2);\n",
        "        return memo[n];\n",
        "    }\n",
        "\n",
        "    public static void main(String[] args) {\n",
        "        int N = Integer.parseInt(args[0]);\n",
        "        memo = new long[N + 1];\n",
        "        long sumOfCubes = 0;\n",
        "        long formulaResult = 0;\n",
        "        for (int i = 0; i <= N; i++) {\n",
        "            sumOfCubes += Math.pow(F(i), 3);\n",
        "        }\n",
        "        if (N > 1) {\n",
        "            formulaResult = (F(3 * N + 2) - (long)Math.pow(-1, N) * F(N - 1)) / 5;\n",
        "        }\n",
        "        System.out.println(\"Sum of cubes: \" + sumOfCubes);\n",
        "        System.out.println(\"Formula result: \" + formulaResult);\n",
        "    }\n",
        "}\n",
        "```"
      ],
      "metadata": {
        "id": "3CQWliQxbaHm"
      }
    },
    {
      "cell_type": "code",
      "source": [
        "# Python Conventional Fibonacci Code:\n",
        "\n",
        "def F(n, memo={}):\n",
        "    if n == 0:\n",
        "        return 0\n",
        "    elif n == 1:\n",
        "        return 1\n",
        "    elif n not in memo:\n",
        "        memo[n] = F(n - 1) + F(n - 2)\n",
        "    return memo[n]\n",
        "\n",
        "N = int(input(\"Enter a value for N: \"))\n",
        "sum_of_cubes = sum([F(i)**3 for i in range(N + 1)])\n",
        "formula_result = (F(3*N + 2) - ((-1)**N) * F(N - 1))/5 if N > 1 else 0\n",
        "print(\"Sum of cubes:\", sum_of_cubes)\n",
        "print(\"Formula result:\", formula_result)\n"
      ],
      "metadata": {
        "id": "X_J48niDbnLF"
      },
      "execution_count": null,
      "outputs": []
    },
    {
      "cell_type": "markdown",
      "source": [
        "19. **Transformations by increment and unfolding**. Given two integers $a ≤ b$, write a program **Sequence.java** that transforms $a$ into $b$ by a minimum sequence of increment (add 1) and unfolding (multiply by 2) operations. \n",
        "\n",
        "For example,\n",
        "```\n",
        "% java Sequence 5 23\n",
        "23 = ((5 * 2 + 1) * 2 + 1)\n",
        "\n",
        "% java Sequence 11 113\n",
        "113 = ((((11 + 1) + 1) + 1) * 2 * 2 * 2 + 1)\n",
        "```"
      ],
      "metadata": {
        "id": "wXFcw0Jjbynd"
      }
    },
    {
      "cell_type": "markdown",
      "source": [
        "The trick here is to solve it \"backwards\", starting from the target number $b$ and going back to $a$.\n",
        "\n",
        "Here's a simple algorithm:\n",
        "\n",
        "If $b$ is even, it must have been obtained by doubling some number. So we recursively find a sequence for $\\frac{b}{2}$.\n",
        "If $b$ is odd and bigger than $a$, it must have been obtained by adding $1$ to some number. So we recursively find a sequence for $(b-1)$.\n",
        "\n",
        "If $b$ is equal to $a$, we're done!\n",
        "\n",
        "Here is a Java solution for the problem:"
      ],
      "metadata": {
        "id": "PpwkDIF0cpcE"
      }
    },
    {
      "cell_type": "markdown",
      "source": [
        "```\n",
        "public class Sequence {\n",
        "    public static void transform(int a, int b) {\n",
        "        if (a == b) {\n",
        "            System.out.print(a);\n",
        "        } else if (b % 2 == 0) {\n",
        "            transform(a, b / 2);\n",
        "            System.out.print(\" * 2\");\n",
        "        } else if (b > a) {\n",
        "            transform(a, b - 1);\n",
        "            System.out.print(\" + 1\");\n",
        "        }\n",
        "    }\n",
        "    public static void main(String[] args) {\n",
        "        int a = Integer.parseInt(args[0]);\n",
        "        int b = Integer.parseInt(args[1]);\n",
        "        System.out.print(b + \" = \");\n",
        "        transform(a, b);\n",
        "        System.out.println();\n",
        "    }\n",
        "}\n",
        "```\n"
      ],
      "metadata": {
        "id": "S4RU16Wfde6G"
      }
    },
    {
      "cell_type": "markdown",
      "source": [
        "20. **Hadamard Matrix.**\n",
        "\n",
        "Write a recursive program **Hadamard.java** that takes a command-line argument $n$ and plots an $N-by-N$ Hadamard pattern where $N = 2n$. **Do not use an array**. A $1-by-1$ Hadamard pattern is a single black square. In general a $2N-by-2N$ Hadamard pattern is obtained by aligning 4 copies of the $N-by-N$ pattern in the form of a $2-by-2$ grid, and then inverting the colors of all the squares in the lower right $N-by-N$ copy. The $N-by-N$ Hadamard $H(N)$ matrix is a boolean matrix with the remarkable property that any two rows diffe r in exactly $\\frac{N}{2}$ bits. This property makes it useful for designing error-correcting codes."
      ],
      "metadata": {
        "id": "iT__NykTd-3f"
      }
    },
    {
      "cell_type": "markdown",
      "source": [
        "```\n",
        "import edu.princeton.cs.introcs.StdDraw;\n",
        "\n",
        "public class Hadamard {\n",
        "    public static void draw(int n, boolean color, double x, double y, double size) {\n",
        "        if (n == 0) {\n",
        "            StdDraw.setPenColor(color ? StdDraw.BLACK : StdDraw.WHITE);\n",
        "            StdDraw.filledSquare(x, y, size / 2);\n",
        "        } else {\n",
        "            double halfSize = size / 2;\n",
        "            double quarterSize = size / 4;\n",
        "\n",
        "            draw(n - 1, color, x - quarterSize, y + quarterSize, halfSize); \n",
        "            draw(n - 1, color, x + quarterSize, y + quarterSize, halfSize); \n",
        "            draw(n - 1, color, x - quarterSize, y - quarterSize, halfSize); \n",
        "            draw(n - 1, !color, x + quarterSize, y - quarterSize, halfSize);\n",
        "        }\n",
        "    }\n",
        "\n",
        "    public static void main(String[] args) {\n",
        "        int n = Integer.parseInt(args[0]);\n",
        "        double size = 0.5;\n",
        "        \n",
        "        StdDraw.setXscale(0, 1);\n",
        "        StdDraw.setYscale(0, 1);\n",
        "        draw(n, true, size, size, size);\n",
        "    }\n",
        "}\n",
        "```\n"
      ],
      "metadata": {
        "id": "E8Lg5iZGl63S"
      }
    },
    {
      "cell_type": "code",
      "source": [
        "import matplotlib.pyplot as plt\n",
        "import matplotlib.patches as patches\n",
        "\n",
        "def draw(n, color, x, y, size):\n",
        "    if n == 0:\n",
        "        rectangle = patches.Rectangle((x - size / 2, y - size / 2), size, size, color=('black' if color else 'white'))\n",
        "        plt.gca().add_patch(rectangle)\n",
        "    else:\n",
        "        halfSize = size / 2\n",
        "        quarterSize = size / 4\n",
        "\n",
        "        draw(n - 1, color, x - quarterSize, y + quarterSize, halfSize)\n",
        "        draw(n - 1, color, x + quarterSize, y + quarterSize, halfSize)\n",
        "        draw(n - 1, color, x - quarterSize, y - quarterSize, halfSize)\n",
        "        draw(n - 1, not color, x + quarterSize, y - quarterSize, halfSize)\n",
        "\n",
        "def main(n):\n",
        "    size = 0.5\n",
        "    draw(n, True, size, size, size)\n",
        "    plt.xlim([0, 1])\n",
        "    plt.ylim([0, 1])\n",
        "    plt.gca().set_aspect('equal', adjustable='box')\n",
        "    plt.show()\n",
        "\n",
        "if __name__ == '__main__':\n",
        "    main(3)  # replace 3 with the power of 2 you wish to test\n"
      ],
      "metadata": {
        "colab": {
          "base_uri": "https://localhost:8080/",
          "height": 435
        },
        "id": "2X6QKoeJvNsc",
        "outputId": "ede1958f-1e93-495b-87d4-315e12e01067"
      },
      "execution_count": null,
      "outputs": [
        {
          "output_type": "display_data",
          "data": {
            "text/plain": [
              "<Figure size 640x480 with 1 Axes>"
            ],
            "image/png": "[encoded data removed]"
          },
          "metadata": {}
        }
      ]
    },
    {
      "cell_type": "markdown",
      "source": [
        "\n"
      ],
      "metadata": {
        "id": "-Eus167Iupwv"
      }
    },
    {
      "cell_type": "markdown",
      "source": [
        "21. **8 queens problem**. In this exercise, you will solve the classic 8-queens problem: place 8 queens on an 8-by-8 chess board so that no two queens are in the same row, column, or diagonal. There are 8! = 40,320 ways in which no two queens are placed in the same row or column. Any permutation $p[\\;]$ of the integers 0 to 7 gives such a placement: put queen $i$ in row $i$, column $p[i]$. Your program Queens.java should take an integer command-line argument n and enumerate all solutions to the n-queens problem by drawing the location of the queens in $ASCII$ like the two solutions below.\n",
        "\n",
        "Hint: to determine whether setting $q[n] = i$ conflicts with $q[0]$ through $q[n-1]$:\n",
        "- if $q[i]$ equals $q[n]$: two queens are placed in the same column\n",
        "- if $q[i] - q[n]$ equals $n - i$: two queens are on same major diagonal\n",
        "- if $q[n] - q[i]$ equals $n - i$: two queens are on same minor diagonal"
      ],
      "metadata": {
        "id": "93ScG-vvucgA"
      }
    },
    {
      "cell_type": "markdown",
      "source": [
        "\n",
        "The **8-queens problem** is a classic problem that involves placing 8 queens on an 8x8 chessboard such that no two queens threaten each other. It requires the use of recursive backtracking, a powerful algorithmic technique used for solving problems incrementally, by exploring all possible solutions.\n",
        "\n",
        "Here is a Java program, **Queens.java**, that solves the problem:\n",
        "\n",
        "```\n",
        "public class Queens {\n",
        "    private static boolean[] rows;\n",
        "    private static boolean[] diags1;\n",
        "    private static boolean[] diags2;\n",
        "    private static int[] board;\n",
        "    private static int n;\n",
        "\n",
        "    public static void solve(int col) {\n",
        "        if (col == n) {\n",
        "            printSolution();\n",
        "            return;\n",
        "        }\n",
        "\n",
        "        for (int row = 0; row < n; row++) {\n",
        "            if (!rows[row] && !diags1[col - row + n - 1] && !diags2[col + row]) {\n",
        "                board[col] = row;\n",
        "                rows[row] = diags1[col - row + n - 1] = diags2[col + row] = true;\n",
        "                solve(col + 1);\n",
        "                rows[row] = diags1[col - row + n - 1] = diags2[col + row] = false;\n",
        "            }\n",
        "        }\n",
        "    }\n",
        "\n",
        "    public static void printSolution() {\n",
        "        for (int i = 0; i < n; i++) {\n",
        "            for (int j = 0; j < n; j++) {\n",
        "                if (board[j] == i) System.out.print(\"Q \");\n",
        "                else System.out.print(\". \");\n",
        "            }\n",
        "            System.out.println();\n",
        "        }\n",
        "        System.out.println();\n",
        "    }\n",
        "\n",
        "    public static void main(String[] args) {\n",
        "        n = Integer.parseInt(args[0]);\n",
        "        rows = new boolean[n];\n",
        "        diags1 = new boolean[2 * n - 1];\n",
        "        diags2 = new boolean[2 * n - 1];\n",
        "        board = new int[n];\n",
        "        solve(0);\n",
        "    }\n",
        "}\n",
        "```\n",
        "\n",
        "In this code, **rows[ ], diags1[ ]** and **diags2[ ]** are used to keep track of which rows, and diagonals are occupied by queens respectively. **board[ ]** stores the column position of the queen in each row. **solve()** function is used to place the queens column by column. It uses a recursive approach and backtracks when it fails to place a queen in a column. **printSolution()** is used to print the chessboard with queens."
      ],
      "metadata": {
        "id": "wr6c5M7JxQB9"
      }
    },
    {
      "cell_type": "markdown",
      "source": [
        "22. **Another 8 queens solver**. Program **Queens2.java** solves the 8 queens problem by implicitly enumeration all $n!$ permutations (instead of the $n^n$ placements). It is based on program **Permutations.java**."
      ],
      "metadata": {
        "id": "IxprQuUEyoVG"
      }
    },
    {
      "cell_type": "markdown",
      "source": [
        "The 8-queens problem can also be solved by enumerating all permutations of the numbers 0 to 7 and then checking each one to see if it is a valid solution. This approach simplifies the problem, because we are guaranteed that no two queens are in the same row or column. We just need to check that no two queens are on the same diagonal. Here's a simple Java program, **Queens2.java**, that implements this idea:\n",
        "\n",
        "```\n",
        "public class Queens2 {\n",
        "    private static int[] a = new int[8];\n",
        "    private static int count = 0;\n",
        "\n",
        "    private static boolean isConsistent(int n) {\n",
        "        for (int i = 0; i < n; i++) {\n",
        "            if (a[i] == a[n]) return false;   \n",
        "            if ((a[i] - a[n]) == (n - i)) return false; \n",
        "            if ((a[n] - a[i]) == (n - i)) return false; \n",
        "        }\n",
        "        return true;\n",
        "    }\n",
        "\n",
        "    public static void enumerate(int n) {\n",
        "        if (n == 8) printQueens();\n",
        "        else {\n",
        "            for (int i = 0; i < 8; i++) {\n",
        "                a[n] = i;\n",
        "                if (isConsistent(n)) enumerate(n+1);\n",
        "            }\n",
        "        }\n",
        "    }\n",
        "\n",
        "    public static void printQueens() {\n",
        "        count++;\n",
        "        for (int i = 0; i < 8; i++) {\n",
        "            for (int j = 0; j < 8; j++) {\n",
        "                if (a[i] == j) System.out.print(\"Q \");\n",
        "                else           System.out.print(\"* \");\n",
        "            }\n",
        "            System.out.println();\n",
        "        }           \n",
        "        System.out.println();\n",
        "    }\n",
        "\n",
        "    public static void main(String[] args) {\n",
        "        enumerate(0);\n",
        "        System.out.println(count);\n",
        "    }\n",
        "}\n",
        "\n",
        "```\n",
        "\n",
        "This program starts with an empty solution and recursively adds a queen in each column, backtracking whenever it finds an inconsistency, i.e., two queens that can attack each other. When it reaches a valid configuration of 8 queens, it prints the board and continues searching for more solutions.\n",
        "\n",
        "Note that the main method starts the recursion by calling **enumerate(0)**.\n",
        "- The **enumerate method** checks each possible position for the next queen. \n",
        "- The **isConsistent method** checks whether it is safe to place a queen in the current position."
      ],
      "metadata": {
        "id": "8g3Dv5rVzelk"
      }
    },
    {
      "cell_type": "markdown",
      "source": [
        "23. **Euclid's algorithm and π**. The probability that two numbers chosen from a large random set of numbers have no common factors (other than 1) is $\\frac{6}{π^2}$. Use this idea to estimate $π$. Robert Matthews use the same idea to estimate $π$ by taken the set of numbers to be a function of the positions of stars in the sky."
      ],
      "metadata": {
        "id": "OJTKlEQy0MTL"
      }
    },
    {
      "cell_type": "markdown",
      "source": [
        "The method for estimating π through Euclid's algorithm is based on the idea that if you take two random positive integers, the probability that they are coprime (that is, their greatest common divisor is 1) is $\\frac{6}{π^2}$. We can use this property to estimate $π$.\n",
        "\n",
        "Here is a simple Python code to estimate $π$ using this idea:"
      ],
      "metadata": {
        "id": "T07GyKKr0sUl"
      }
    },
    {
      "cell_type": "code",
      "source": [
        "import random\n",
        "import math\n",
        "\n",
        "def gcd(a, b):\n",
        "    if b == 0:\n",
        "        return a\n",
        "    else:\n",
        "        return gcd(b, a % b)\n",
        "\n",
        "def estimate_pi(n):\n",
        "    num_coprimes = 0\n",
        "    for _ in range(n):\n",
        "        a = random.randint(1, n)\n",
        "        b = random.randint(1, n)\n",
        "        if gcd(a, b) == 1:\n",
        "            num_coprimes += 1\n",
        "\n",
        "    return math.sqrt(6 / (num_coprimes / n))\n",
        "\n",
        "print(estimate_pi(10**6))\n"
      ],
      "metadata": {
        "colab": {
          "base_uri": "https://localhost:8080/"
        },
        "id": "9L7tIK6u24zs",
        "outputId": "7db33bd3-414c-4365-ae36-c946ba363e56"
      },
      "execution_count": null,
      "outputs": [
        {
          "output_type": "stream",
          "name": "stdout",
          "text": [
            "3.140407597551818\n"
          ]
        }
      ]
    },
    {
      "cell_type": "markdown",
      "source": [
        "This program first defines a helper function $gcd(a, b)$ that computes the greatest common divisor of $a$ and $b$ using Euclid's algorithm. The function $estimate_\\pi(n)$ then estimates $π$ by generating $n$ pairs of random integers between $1$ and $n$ and counts the number of pairs that are co-prime. Finally, it returns an estimate of $π$ based on the ratio of coprime pairs to the total number of pairs.\n",
        "\n",
        "The precision of this estimate will increase as the value of $n$ increases. However, because the process involves generating $n$ pairs of random integers and computing their $gcd$, the time complexity of the function is $O(n log_2 n)$. Therefore, the computation can become quite slow for large values of $n$."
      ],
      "metadata": {
        "id": "MIqhK6aa3Rhi"
      }
    },
    {
      "cell_type": "markdown",
      "source": [
        "24. **Towers of Hanoi variant II**. (Knuth-Graham and Pathashnik) Solve the original Towers of Hanoi problem, but with the extra restriction that you are not allowed to directly transfer a disk from A to C. How many moves does it take to solve a problem with n disks? Hint: move n-1 smallest disks from A to C recursively (without any direct A to C moves), move disk n from A to B, move n-1 smallest disks from C to A (without any direct A to C moves), move disk N from B to C, and move n-1 smallest disks from A to C recursively (without any direct A to C moves)"
      ],
      "metadata": {
        "id": "CGYBdjES4jV9"
      }
    },
    {
      "cell_type": "markdown",
      "source": [
        "To solve the original Towers of Hanoi problem with the additional restriction that you cannot move a disk directly from A to C, you would need to find a way to move the disks indirectly. This approach implies that we have to move each disk from A to B, then from B to C.\n",
        "\n",
        "Here's the Python code for this problem:"
      ],
      "metadata": {
        "id": "PZHspXgy8fNh"
      }
    },
    {
      "cell_type": "code",
      "source": [
        "def hanoi(n, source, helper, target):\n",
        "    if n > 0:\n",
        "        # move n-1 disks from source to helper, so they are out of the way\n",
        "        hanoi(n - 1, source, target, helper)\n",
        "        \n",
        "        # move the nth disk from source to target\n",
        "        print('Move disk {} from {} to {}'.format(n, source, target))\n",
        "        \n",
        "        # move the n-1 disks that we left on helper to target\n",
        "        hanoi(n - 1, helper, source, target)\n",
        "\n",
        "# initiate call from source A to target C with auxiliary tower B\n",
        "hanoi(3, 'A', 'B', 'C')\n"
      ],
      "metadata": {
        "colab": {
          "base_uri": "https://localhost:8080/"
        },
        "id": "JQsHAj_147nd",
        "outputId": "82d4b10a-fc98-470a-ae58-5d1972374307"
      },
      "execution_count": null,
      "outputs": [
        {
          "output_type": "stream",
          "name": "stdout",
          "text": [
            "Move disk 1 from A to C\n",
            "Move disk 2 from A to B\n",
            "Move disk 1 from C to B\n",
            "Move disk 3 from A to C\n",
            "Move disk 1 from B to A\n",
            "Move disk 2 from B to C\n",
            "Move disk 1 from A to C\n"
          ]
        }
      ]
    },
    {
      "cell_type": "markdown",
      "source": [
        "In this code, we have to make sure that we are only moving the disks in the following order: A to B, B to C, C to A, and so on. We cannot directly move the disks from A to C.\n",
        "\n",
        "However, the number of moves required to solve this modified problem would be more than the original problem. In the classic Towers of Hanoi problem, it takes $2^n - 1$ moves to solve the problem. With the additional constraint, it would take more steps. The number of moves needed can be expressed as:\n",
        "\n",
        "$T(n) = 2T(n-1) + 2$ for $n > 0$, and $T(0) = 0$. \n",
        " \n",
        "Here, $T(n)$ is the number of moves needed to solve this problem with n disks.\n",
        "\n",
        "This recurrence relation is a little more complicated to solve than the one for the classic problem, but you can see that the number of moves grows exponentially with n. The problem becomes significantly more challenging with the additional constraint.\n",
        "\n",
        "Remember, for a disk to move from A to C, it must pass through B. Therefore, it's not simply doubling the moves. It's more complicated due to the rules of the Tower of Hanoi problem where a larger disk cannot be placed on top of a smaller disk. Hence, the careful moving back and forth between the helper peg."
      ],
      "metadata": {
        "id": "CxWZSoxj8jSR"
      }
    },
    {
      "cell_type": "markdown",
      "source": [
        "25. **Towers of Hanoi variant III**. Repeat the previous question but disallow both A to C and C to A moves. That is, each move must involve pole B.\n"
      ],
      "metadata": {
        "id": "eksILiU09CKb"
      }
    },
    {
      "cell_type": "markdown",
      "source": [
        "The new restriction means that we cannot move any disks directly from A to C or from C to A. Therefore, each move must pass through B.\n",
        "\n",
        "With this variant, each disk would have to be moved twice as much, once to get it to B and again to get it to the final location, C. This effectively doubles the number of moves from the classic problem.\n",
        "\n",
        "Here's the Python code to solve this variant of the Towers of Hanoi problem:"
      ],
      "metadata": {
        "id": "1H3PKJ7T-Vqp"
      }
    },
    {
      "cell_type": "code",
      "source": [
        "def hanoi(n, source, helper, target):\n",
        "    if n > 0:\n",
        "        # move n-1 disks from source to helper (via target)\n",
        "        hanoi(n - 1, source, target, helper)\n",
        "        \n",
        "        # move the nth disk from source to target via helper\n",
        "        print('Move disk {} from {} to {}'.format(n, source, helper))\n",
        "        print('Move disk {} from {} to {}'.format(n, helper, target))\n",
        "        \n",
        "        # move the n-1 disks that we left on helper to target (via source)\n",
        "        hanoi(n - 1, helper, target, source)\n",
        "\n",
        "# initiate call from source A to target C with auxiliary tower B\n",
        "hanoi(3, 'A', 'B', 'C')\n"
      ],
      "metadata": {
        "id": "2Zx5bvDbAtWD"
      },
      "execution_count": null,
      "outputs": []
    },
    {
      "cell_type": "markdown",
      "source": [
        "The print statements make the moves explicit, first moving from source to helper, then from helper to target.\n",
        "\n",
        "Just like the previous variant, the number of moves grows exponentially with the number of disks, but the growth is even faster because of the additional constraint. We essentially have $T(n) = 2T(n-1) + 2$ where $T(n)$ is the number of moves needed to solve the problem with $n$ disks and $T(0) = 0$.\n",
        "\n",
        "These variants of the Towers of Hanoi problem introduce additional constraints that make the problem more complex and require more moves to solve."
      ],
      "metadata": {
        "id": "kyYTk1B8Av7_"
      }
    },
    {
      "cell_type": "markdown",
      "source": [
        "26. **Towers of Hanoi with 4 pegs**. Suppose that you have a fourth peg. What is the least number of moves needed to transfer a stack of 8 disks from the leftmost peg to the rightmost peg? \n",
        "\n",
        "**Answer**: Finding the shortest such solution in general has remained an open problem for over a hundred years and is known as Reve's puzzle.\n"
      ],
      "metadata": {
        "id": "bIt0494MBiQ3"
      }
    },
    {
      "cell_type": "markdown",
      "source": [
        "**Reve's puzzle** is a variation of the Tower of Hanoi problem but with four pegs instead of three. Despite the availability of an extra peg, finding the shortest solution to this problem is indeed not straightforward and has been an open question in mathematics for a long time.\n",
        "\n",
        "However, a method was proposed by John H. Frame in the 1940s, which provides an efficient solution but is not guaranteed to be the most optimal. **Frame's algorithm** is a recursive approach based on the observation that a number of disks can be moved from one peg to another using only three pegs, as in the classic Towers of Hanoi problem, and the remaining disks can stay on the fourth peg.\n",
        "\n",
        "Following this method, an efficient algorithm to solve the problem is as follows:\n",
        "\n",
        "- Move $n - k$ disks to a single spare peg, where $k$ is the largest integer for which $2^k - 1 \\leq n$.\n",
        "- Move the remaining k disks to the target peg using the classic three-peg Tower of Hanoi solution.\n",
        "- Finally, move the $n - k$ disks from the spare peg to the target peg.\n",
        "\n",
        "This process is recursive and will yield an efficient solution, but it is currently unknown whether this is the absolute most efficient solution for any given number of disks.\n",
        "\n",
        "For 8 disks, the number of moves required according to **Frame's algorithm** is **73**, assuming the optimal value of $k$ is chosen. For $n = 8$, we take $k = 3$, since $2^3 - 1 = 7$ is the largest number less than 8 of the form $2^k - 1$. Thus, the number of moves required is:\n",
        "\n",
        " $2*(2^{n-k} - 1) + (2^k - 1) = 2*(2^{8-3} - 1) + (2^3 - 1) = 73$."
      ],
      "metadata": {
        "id": "A4KfNOONBzSn"
      }
    },
    {
      "cell_type": "markdown",
      "source": [
        "27. Another tricky recursive function. Consider the following recursive function. What is $f(0)$?\n",
        "```\n",
        "public static int f(int x) {\n",
        "   if (x > 1000) return x - 4;\n",
        "   else return f(f(x+5));\n",
        "}\n",
        "```"
      ],
      "metadata": {
        "id": "_mMEtBBCDCpw"
      }
    },
    {
      "cell_type": "markdown",
      "source": [
        "The given function $f(x)$ calls itself recursively until $x > 1000$, at which point it stops recursing and returns $x - 4$.\n",
        "\n",
        "Let's trace what happens when we call $f(0)$:\n",
        "\n",
        "We call $f(0)$, which calls $f(5)$ because $0 \\le 1000$.\n",
        "We then call $f(5)$, which calls $f(10)$ because $5 \\le 1000$.\n",
        "This process continues, each time adding $5$ to the argument, until we reach $f(1000)$.\n",
        "At $f(1000)$, we again add $5$ to the argument to reach $f(1005)$.\n",
        "Now, $1005 > 1000$, so the function returns $1005 - 4 = 1001$.\n",
        "However, this result is propagated back through the chain of function calls. Since $f(1000), f(995), ..., f(5),$ and $f(0)$ are all waiting for the result of $f(x+5)$, and each returns whatever $f(x+5)$ returns, $f(0)$ also ends up returning $1001$.\n",
        "So, $f(0)$ returns $1001$."
      ],
      "metadata": {
        "id": "w9Nbl7hVE2Du"
      }
    },
    {
      "cell_type": "markdown",
      "source": [
        "28. Checking if n is a Fibonacci number. Write a function to check if $n$ is a Fibonacci number. Hint: a positive integer is a Fibonacci number if and only if either $(5*n*n + 4)$ or $(5*n*n - 4)$ is a perfect square."
      ],
      "metadata": {
        "id": "rU_xcGS1F8iu"
      }
    },
    {
      "cell_type": "markdown",
      "source": [
        "This problem can be solved using the mathematical fact: A positive integer $n$ is a Fibonacci number if and only if either $(5*n*n + 4)$ or $(5*n*n - 4)$ is a perfect square.\n",
        "\n",
        "Here is a Java program to solve the problem:\n",
        "\n",
        "```\n",
        "public class IsFibonacci {\n",
        "    public static boolean isPerfectSquare(int x) {\n",
        "        int s = (int) Math.sqrt(x);\n",
        "        return (s*s == x);\n",
        "    }\n",
        "\n",
        "    public static boolean isFibonacci(int n) {\n",
        "        return isPerfectSquare(5*n*n + 4) || isPerfectSquare(5*n*n - 4);\n",
        "    }\n",
        "\n",
        "    public static void main(String[] args) {\n",
        "        int n = Integer.parseInt(args[0]);\n",
        "        if (isFibonacci(n)) {\n",
        "            System.out.println(n + \" is a Fibonacci number\");\n",
        "        } else {\n",
        "            System.out.println(n + \" is not a Fibonacci number\");\n",
        "        }\n",
        "    }\n",
        "}\n",
        "\n",
        "```"
      ],
      "metadata": {
        "id": "hI0ubRZWQ7iF"
      }
    },
    {
      "cell_type": "code",
      "source": [
        "# Python Equivalent:\n",
        "\n",
        "import math\n",
        "\n",
        "def isPerfectSquare(x):\n",
        "    s = int(math.sqrt(x))\n",
        "    return s*s == x\n",
        "\n",
        "def isFibonacci(n):\n",
        "    return isPerfectSquare(5*n*n + 4) or isPerfectSquare(5*n*n - 4)\n",
        "\n",
        "n = int(input(\"Enter a number: \"))\n",
        "if (isFibonacci(n) == True):\n",
        "    print(n, \"is a Fibonacci number\")\n",
        "else:\n",
        "    print(n, \"is not a Fibonacci number\")\n"
      ],
      "metadata": {
        "colab": {
          "base_uri": "https://localhost:8080/"
        },
        "id": "Ewsse1YCFwg9",
        "outputId": "0db894b6-0714-4eae-e4ce-deefd0e252d0"
      },
      "execution_count": null,
      "outputs": [
        {
          "output_type": "stream",
          "name": "stdout",
          "text": [
            "Enter a number: 1\n",
            "1 is a Fibonacci number\n"
          ]
        }
      ]
    },
    {
      "cell_type": "markdown",
      "source": [
        "29. Random infix expression generator. Run RandomExpression.java with different command-line argument $p$ between $0$ and $1$. What do you observe?\n",
        "```\n",
        "public static String expr(double p) {\n",
        "   double r = Math.random();\n",
        "   if (r <= 1*p) return \"(\" + expr(p) + \" + \" + expr(p) + \")\";\n",
        "   if (r <= 2*p) return \"(\" + expr(p) + \" * \" + expr(p) + \")\";\n",
        "   return \"\" + (int) (100 * Math.random());\n",
        "}\n",
        "```"
      ],
      "metadata": {
        "id": "kK-7LEqrRouB"
      }
    },
    {
      "cell_type": "markdown",
      "source": [
        "\n",
        "This Java code generates random infix mathematical expressions. The complexity of the generated expression is controlled by the probability p passed as a command-line argument.\n",
        "\n",
        "If a random number $r$ (between $0$ and $1$) is less than or equal to $p$, it returns an expression that is the sum of two recursive calls to the expr function.\n",
        "\n",
        "- If $r$ is greater than $p$ but less than or equal to $2*p$, it - returns an expression that is the product of two recursive calls to the expr function.\n",
        "- If $r$ is greater than $2*p$, it returns a random number between $0$ and $99$.\n",
        "\n",
        "Therefore, as $p$ increases, the expressions become more complex and nested because the probability of making a recursive call (and thus generating a more complex expression) increases. If $p$ is very close to $0$, the function will usually generate a random number without any mathematical operations.\n",
        "\n",
        "Let's analyze a few scenarios:\n",
        "\n",
        "- If $p$ is close to $$, then the generated random number $r$ will hardly be less than $p$ or $2*p$. Hence, most of the time, the function will return a random integer. The resulting expression will be simple and will hardly have any operations.\n",
        "\n",
        "- If $p$ is close to $0.5$, then there is a good chance that $r$ will fall into the first two categories, and thus the function will return more complex expressions, including addition and multiplication operations.\n",
        "\n",
        "- If $p$ is close to $1$, then almost every call will result in a more complex, nested expression because $r$ will almost always be less than $p$ or $2*p$. In this case, you should be careful with stack overflow errors, because the recursion can become very deep."
      ],
      "metadata": {
        "id": "uaEnE4_SSAWC"
      }
    },
    {
      "cell_type": "markdown",
      "source": [
        "The actual structure of the expressions depends on the successive random numbers generated in the recursive calls."
      ],
      "metadata": {
        "id": "Jf7rEeHDVRqu"
      }
    },
    {
      "cell_type": "markdown",
      "source": [
        "30. **A tricky recurrence**. Define $F(n)$ so that $F(0) = 0$ and $F(n) = n - F(F(n-1))$. What is $F(100000000)$?\n",
        "\n",
        "<br/><br/>\n",
        "\n",
        "**Solution**: The answer is related to the Fibonacci sequence and the Zeckendorf representation of a number."
      ],
      "metadata": {
        "id": "w7Z_i64MVVOV"
      }
    },
    {
      "cell_type": "markdown",
      "source": [
        "**My Thoughts:**\n",
        "\n",
        "The provided function $F(n)$ is indeed a tricky one because of the nested recursive call in $F(F(n-1))$. Moreover, it involves both subtraction and recursive calls, which makes it more challenging to analyze.\n",
        "\n",
        "Without the full context of how this function is associated with the Fibonacci sequence and the Zeckendorf representation, it is not easy to derive a formula or give a specific number for $F(100000000)$.\n",
        "\n",
        "The **Zeckendorf's theorem** states that every positive integer can be represented uniquely as the sum of one or more distinct Fibonacci numbers in such a way that the sum does not include any two consecutive Fibonacci numbers. However, to see the relationship between Zeckendorf representation and this recursive function requires a deeper analysis that isn't immediately apparent.\n",
        "\n",
        "Therefore, to get the specific value of $F(100000000)$, you might need to implement the function and run it. Note that for large numbers like $100000000$, recursion can be very costly in terms of performance and you might encounter a stack overflow error. To handle such large input, you might need to consider using an iterative approach or dynamic programming to reduce the computation time and memory usage."
      ],
      "metadata": {
        "id": "Fq2qpNyPV-A5"
      }
    },
    {
      "cell_type": "markdown",
      "source": [
        "31. **von Neumann ordinal.** \n",
        "\n",
        "The von Neumann integer $i$ is defined as follows: for $i = 0$, it is the empty set; for $i > 0$, it is the set containing the von Neumann integers $0$ to $i-1$. \n",
        "\n",
        "- $0$ = {}$\\;\\;\\;\\;\\;\\;\\;\\;\\;\\;\\;$        = {}\n",
        "- $1$ = {0}$\\;\\;\\;\\;\\;\\;\\;\\;\\;$       = {{}}\n",
        "- $2$ = {0, 1}$\\;\\;\\;\\;\\;\\;$    = {{}, {{}}}\n",
        "- $3$ = {0, 1, 2}$\\;\\;\\;$  = {{}, {{}}, {{}, {{}}}}\n",
        "\n",
        "Write a program **Ordinal.java** with a **recursive function vonNeumann()** that takes a nonnegative integer $N$ and returns a string representation of the **von Neumann integer** $N$. This is a method for defining ordinals in set theory."
      ],
      "metadata": {
        "id": "HT2sKQjbUte2"
      }
    },
    {
      "cell_type": "code",
      "source": [
        "def vonNeumann(n):\n",
        "    if n == 0:\n",
        "        return \"{}\"\n",
        "    else:\n",
        "        # Create a list of vonNeumann numbers from 0 to n-1\n",
        "        vN_list = [vonNeumann(i) for i in range(n)]\n",
        "        # Join the list into a string with comma and space separator\n",
        "        vN_str = \", \".join(vN_list)\n",
        "        # Wrap the string with brackets and return\n",
        "        return \"{\" + vN_str + \"}\"\n",
        "\n",
        "# Test the function\n",
        "N = 3\n",
        "print(vonNeumann(N))\n"
      ],
      "metadata": {
        "colab": {
          "base_uri": "https://localhost:8080/"
        },
        "id": "sOWZu9y2PQuy",
        "outputId": "a59344f3-7028-4c3d-e8c9-c2825b249e39"
      },
      "execution_count": null,
      "outputs": [
        {
          "output_type": "stream",
          "name": "stdout",
          "text": [
            "{{}, {{}}, {{}, {{}}}}\n"
          ]
        }
      ]
    },
    {
      "cell_type": "markdown",
      "source": [
        "This script defines a **recursive function vonNeumann()** that constructs the **von Neumann integer** representation for a given non-negative integer $N$. It then tests this function by computing and printing the von Neumann integer representation of $N=3$.\n",
        "\n",
        "The **vonNeumann()** function works by first checking if $n$ is zero. If it is, the function returns a string **\"{}\"** representing the empty set. If $n$ is not zero, the function constructs a list of von Neumann integer representations for all integers from $0$ to $n-1$ using a list comprehension with a recursive call to **vonNeumann()**. It then joins these representations into a single string, separated by commas and spaces, and wraps the resulting string in brackets **{}** to represent the set of all these integers. This resulting string is returned as the von Neumann integer representation of $n$."
      ],
      "metadata": {
        "id": "N5rqu5DfQeGV"
      }
    },
    {
      "cell_type": "markdown",
      "source": [
        "\n",
        "Here's a simple Java program that achieves the same goal:\n",
        "\n",
        "```\n",
        "public class Ordinal {\n",
        "    public static String vonNeumann(int n) {\n",
        "        if (n == 0) {\n",
        "            return \"{}\";\n",
        "        } else {\n",
        "            String vN_str = \"\";\n",
        "            for (int i = 0; i < n; i++) {\n",
        "                vN_str += vonNeumann(i) + \", \";\n",
        "            }\n",
        "            // Remove the trailing comma and space\n",
        "            vN_str = vN_str.substring(0, vN_str.length() - 2);\n",
        "            return \"{\" + vN_str + \"}\";\n",
        "        }\n",
        "    }\n",
        "\n",
        "    public static void main(String[] args) {\n",
        "        int N = 3;\n",
        "        System.out.println(vonNeumann(N));\n",
        "    }\n",
        "}\n",
        "\n",
        "```\n",
        "\n",
        "This Java program defines a class **Ordinal** that contains two methods: **vonNeumann()** and **main()**.\n",
        "\n",
        "- The **vonNeumann()** method is a recursive function that computes and returns the **von Neumann integer** representation for a given integer $n$. It first checks if $n$ is zero, in which case it returns an empty string {}. If $n$ is not zero, it constructs a string of **von Neumann integer** representations for all integers from $0$ to $n-1$ by recursively calling **vonNeumann()** inside a for loop. The resulting string is then wrapped in brackets **{}** to represent the set of all these integers.\n",
        "- The **main()** method tests the **vonNeumann()** function by computing and printing the **von Neumann integer** representation of $N=3$."
      ],
      "metadata": {
        "id": "lxHkF8WNRBEt"
      }
    },
    {
      "cell_type": "markdown",
      "source": [
        "32. **Subsequences of a String.**\n",
        "\n",
        "Write a program **Subsequence.java** that takes a string command-line argument $s$ and an integer command-line argument $k$ and prints out all subsequences of $s$ of length $k$.\n",
        "\n",
        "```\n",
        "% java Subsequence abcd 3\n",
        "abc abd acd bcd\n",
        "```\n"
      ],
      "metadata": {
        "id": "06Eac5GJR6FG"
      }
    },
    {
      "cell_type": "markdown",
      "source": [
        "```\n",
        "public class Subsequence {\n",
        "\n",
        "    public static void printSubsequences(String s, int k, String result) {\n",
        "        if (k == 0) {\n",
        "            System.out.println(result);\n",
        "            return;\n",
        "        }\n",
        "        \n",
        "        for (int i = 0; i < s.length(); i++) {\n",
        "            char ch = s.charAt(i);\n",
        "            String ros = s.substring(i + 1);\n",
        "            printSubsequences(ros, k - 1, result + ch);\n",
        "        }\n",
        "    }\n",
        "\n",
        "    public static void main(String[] args) {\n",
        "        String s = args[0];\n",
        "        int k = Integer.parseInt(args[1]);\n",
        "        printSubsequences(s, k, \"\");\n",
        "    }\n",
        "}\n",
        "\n",
        "```\n"
      ],
      "metadata": {
        "id": "9FZ1Y69cSmXK"
      }
    },
    {
      "cell_type": "markdown",
      "source": [
        "This Java program defines a class Subsequence that contains two methods:**printSubsequences()** and **main()**.\n",
        "\n",
        "1. The **printSubsequences()** method is a recursive function that prints all subsequences of a string $s$ of length $k$. It first checks if $k$ is zero, in which case it prints the current result string and returns. If $k$ is not zero, it iterates over the characters in the string $s$, and for each character, it forms a new string $ros$ (rest of string) by taking the substring of $s$ from $i+1$ to the end, and recursively calls **printSubsequences()** with $ros$, $k-1$, and result + $ch$ (which appends the current character $ch$ to the result).\n",
        "\n",
        "2. The **main()** method tests the **printSubsequences()** function by parsing the command-line arguments **args[0]** and **args[1]** to a string $s$ and an integer $k$, and calling **printSubsequences**$(s, k, \"\")$ to print all subsequences of $s$ of length $k$."
      ],
      "metadata": {
        "id": "MKaCfxOfSm9i"
      }
    },
    {
      "cell_type": "markdown",
      "source": [
        "33. **Interleaving Two Strings.**\n",
        "\n",
        "Given two strings s and t of distinct characters, print out all $\\frac{(M+N)!}{(M! N!)}$ interleavings, where $M$ and $N$ are the number of characters in the two strings. For example, if\n",
        "\n",
        "$s$= $\"ab\"$ $\\;\\;\\;\\;$ $t$ = $\"CD\"$ \\\\\n",
        "$abCD$ $\\;\\;\\;\\;\\;\\;\\;\\;\\;\\;\\;$  $CabD$ \\\\\n",
        "$aCbD$ $\\;\\;\\;\\;\\;\\;\\;\\;\\;\\;\\;$   $CaDb$ \\\\\n",
        "$aCDb$ $\\;\\;\\;\\;\\;\\;\\;\\;\\;\\;\\;$   $CDab$\n"
      ],
      "metadata": {
        "id": "bpoYoF9eTjyT"
      }
    },
    {
      "cell_type": "markdown",
      "source": [
        "```\n",
        "public class InterleaveStrings {\n",
        "\n",
        "    private static void interleaveStrings(String s, String t, String result) {\n",
        "        if (s.length() == 0 && t.length() == 0) {\n",
        "            System.out.println(result);\n",
        "        }\n",
        "\n",
        "        if (s.length() > 0) {\n",
        "            interleaveStrings(s.substring(1), t, result + s.charAt(0));\n",
        "        }\n",
        "\n",
        "        if (t.length() > 0) {\n",
        "            interleaveStrings(s, t.substring(1), result + t.charAt(0));\n",
        "        }\n",
        "    }\n",
        "\n",
        "    public static void main(String[] args) {\n",
        "        String s = \"ab\";\n",
        "        String t = \"CD\";\n",
        "        interleaveStrings(s, t, \"\");\n",
        "    }\n",
        "}\n",
        "\n",
        "```"
      ],
      "metadata": {
        "id": "7kXhJWpbVcYD"
      }
    },
    {
      "cell_type": "markdown",
      "source": [
        "This program uses a recursive approach to create all possible interleavings of two strings:\n",
        "- It takes two strings $s$ and $t$ and a result string as input. \n",
        "- In each recursive call, it checks if there are any characters left in the strings $s$ and $t$. \n",
        "- If there are characters left in string $s$, it makes a recursive call with the remaining string after removing the first character and appends the first character of $s$ to the result string.        \n",
        "- Similarly, if there are characters left in string $t$, it makes another recursive call with the remaining string after removing the first character and appends the first character of $t$ to the result string. \n",
        "- It prints the result when both strings $s$ and $t$ are empty.\n",
        "\n",
        "You can run this program with different strings by modifying the $s$ and $t$ variables in the **main** method."
      ],
      "metadata": {
        "id": "etFdtBy1Vj6A"
      }
    },
    {
      "cell_type": "markdown",
      "source": [
        "34. **Binary GCD.**\n",
        "\n",
        "Write a program **BinaryGCD.java** that finds the greatest common divisor of two positive integers using the binary gcd algorithm:\n",
        "\n",
        "**gcd(p, q) =**\n",
        "- $p$ if $q = 0$\n",
        "- $q$ if $p = 0$\n",
        "- $2 * gcd(\\frac{p}{2}, \\frac{q}{2})$ if $p$ and $q$ are even\n",
        "- $gcd(\\frac{p}{2}, q)$ if $p$ is even and $q$ is odd\n",
        "- $gcd(p, \\frac{q}{2})$ if $p$ is odd and $q$ is even\n",
        "- $gcd(\\frac{(p-q)}{2}, q)$ if $p$ and $q$ are odd and $p \\ge q$\n",
        "- $gcd(p, \\frac{(q-p)}{2})$ if $p$ and $q$ are odd and $p < q$\n"
      ],
      "metadata": {
        "id": "sqjlZFTaWJb8"
      }
    },
    {
      "cell_type": "markdown",
      "source": [
        "Binary GCD Algorithm:\n",
        "\n",
        "```\n",
        "public class BinaryGCD {\n",
        "    public static int gcd(int p, int q) {\n",
        "        if (q == 0) return p;\n",
        "        if (p == 0) return q;\n",
        "\n",
        "        // p and q are even\n",
        "        if ((p & 1) == 0 && (q & 1) == 0) return gcd(p >> 1, q >> 1) << 1;\n",
        "\n",
        "        // p is even, q is odd\n",
        "        else if ((p & 1) == 0) return gcd(p >> 1, q);\n",
        "\n",
        "        // p is odd, q is even\n",
        "        else if ((q & 1) == 0) return gcd(p, q >> 1);\n",
        "\n",
        "        // p and q are odd, p >= q\n",
        "        else if (p >= q) return gcd((p-q) >> 1, q);\n",
        "\n",
        "        // p and q are odd, p < q\n",
        "        else return gcd(p, (q-p) >> 1);\n",
        "    }\n",
        "\n",
        "    public static void main(String[] args) {\n",
        "        int p = Integer.parseInt(args[0]);\n",
        "        int q = Integer.parseInt(args[1]);\n",
        "        System.out.println(\"GCD of \" + p + \" and \" + q + \" is \" + gcd(p, q));\n",
        "    }\n",
        "}\n",
        "\n",
        "```"
      ],
      "metadata": {
        "id": "Y6EXiR3CYO8x"
      }
    },
    {
      "cell_type": "markdown",
      "source": [
        "This Java program defines a function $gcd(int p, int q)$ that calculates the greatest common divisor of two integers $p$ and $q$ using the binary gcd algorithm. The main function parses two command-line arguments as integers and prints the result of calling $gcd(p, q)$.\n",
        "\n",
        "In this implementation, bit-level operations are used. The $&$ operator performs a bitwise $AND$ operation, and $1$ is a mask that checks the least significant bit of a number (it's $0$ for even numbers and $1$ for odd numbers). The $>>$ operator performs a right shift operation, equivalent to division by $2$. The $<<$ operator performs a left shift operation, equivalent to multiplication by $2$."
      ],
      "metadata": {
        "id": "S-A4euUKYWWY"
      }
    },
    {
      "cell_type": "markdown",
      "source": [
        "35. **Integer Partitions.**\n",
        "\n",
        "Write a program **Partition.java** that takes a positive integer $N$ as a command-line argument and prints out all partitions of $N$. A partition of $N$ is a way to write $N$ as a sum of positive integers. Two sums are considered the same if they only differ in the order of their constituent **summands**. \n",
        "\n",
        "```\n",
        "% java Partition 4      % java Partition 6\n",
        "4                       6\n",
        "3 1                     5 1\n",
        "2 2                     4 2\n",
        "2 1 1                   4 1 1\n",
        "1 1 1 1                 3 3\n",
        "                        3 2 1\n",
        "                        3 1 1 1\n",
        "                        2 2 2\n",
        "                        2 2 1 1\n",
        "                        2 1 1 1 1\n",
        "                        1 1 1 1 1 1\n",
        "\n",
        "```"
      ],
      "metadata": {
        "id": "2lReJlYKY5_W"
      }
    },
    {
      "cell_type": "markdown",
      "source": [
        "The **main** method reads an integer from the command-line argument, then it creates an array $p$ with size $n$ to hold the current partition, and calls the **recursive partition*** method with $n, n, p,$ and $0$ as arguments.\n",
        "\n",
        "The **partition** method generates all partitions of n using integers less than or equal to max by recursive backtracking. It uses an array $p$ to hold the current partition and count to hold the current size of the partition.\n",
        "\n",
        "The **printPartitions** method prints the current partition. It uses an array $p$ to hold the current partition and $n$ to hold the current size of the partition."
      ],
      "metadata": {
        "id": "UPNgQfStZnuG"
      }
    },
    {
      "cell_type": "markdown",
      "source": [
        "36. **Johnson-Trotter Permutations.**\n",
        "\n",
        "Write a program **JohnsonTrotter.java** that takes an integer command-line argument $n$ and prints all $n!$ permutations of the integer $0$ through $n-1$ in such a way that consecutive permutations differ in only one adjacent transposition (similar to way Gray code iterates over combinations in such a way that consecutive combinations differ in only one bit).\n",
        "```\n",
        "% java JohnsonTrotter 3\n",
        "012   (2 1)\n",
        "021   (1 0)\n",
        "201   (2 1)\n",
        "210   (0 1)\n",
        "120   (1 2)\n",
        "102   (0 1)\n",
        "```"
      ],
      "metadata": {
        "id": "r86sRmjcZ8P7"
      }
    },
    {
      "cell_type": "markdown",
      "source": [
        "The **Johnson-Trotter algorithm** or the **Steinhaus–Johnson–Trotter algorithm**, also known as **plain changes**, generates all permutations of an ordered list. It is a variant of the **heaps algorithm** for generating permutations. Each permutation in the sequence that it generates differs from the previous permutation by swapping two adjacent elements of the sequence.\n",
        "\n",
        "Here is a simple implementation of Johnson-Trotter algorithm in Java:\n",
        "```\n",
        "public class JohnsonTrotter {\n",
        "    private static boolean LEFT_TO_RIGHT = true;\n",
        "    private static boolean RIGHT_TO_LEFT = false;\n",
        "\n",
        "    private static int searchArr(int a[], int n, int mobile) {\n",
        "        for (int i = 0; i < n; i++) \n",
        "            if (a[i] == mobile) \n",
        "                return i + 1; \n",
        "        return 0; \n",
        "    } \n",
        "\n",
        "    private static int getMobile(int a[], boolean dir[], int n) { \n",
        "        int mobile_prev = 0, mobile = 0; \n",
        "        for (int i = 0; i < n; i++) { \n",
        "            if (dir[a[i] - 1] == RIGHT_TO_LEFT && i != 0) { \n",
        "                if (a[i] > a[i - 1] && a[i] > mobile_prev) { \n",
        "                    mobile = a[i]; \n",
        "                    mobile_prev = mobile; \n",
        "                } \n",
        "            } \n",
        "\n",
        "            if (dir[a[i] - 1] == LEFT_TO_RIGHT && i != n - 1) { \n",
        "                if (a[i] > a[i + 1] && a[i] > mobile_prev) { \n",
        "                    mobile = a[i]; \n",
        "                    mobile_prev = mobile; \n",
        "                } \n",
        "            } \n",
        "        } \n",
        "\n",
        "        if (mobile == 0 && mobile_prev == 0) \n",
        "            return 0; \n",
        "        else\n",
        "            return mobile; \n",
        "    }\n",
        "\n",
        "    private static int printOnePerm(int a[], boolean dir[], int n) { \n",
        "        int mobile = getMobile(a, dir, n); \n",
        "        int pos = searchArr(a, n, mobile);\n",
        "\n",
        "        if (dir[a[pos - 1] - 1] ==  RIGHT_TO_LEFT) \n",
        "            swap(a, pos - 1, pos - 2); \n",
        "\n",
        "        if (dir[a[pos - 1] - 1] == LEFT_TO_RIGHT) \n",
        "            swap(a, pos, pos - 1); \n",
        "\n",
        "        for (int i = 0; i < n; i++) { \n",
        "            if (a[i] > mobile) { \n",
        "                if (dir[a[i] - 1] == LEFT_TO_RIGHT) \n",
        "                    dir[a[i] - 1] = RIGHT_TO_LEFT; \n",
        "                else if (dir[a[i] - 1] == RIGHT_TO_LEFT) \n",
        "                    dir[a[i] - 1] = LEFT_TO_RIGHT; \n",
        "            } \n",
        "        } \n",
        "\n",
        "        for (int i = 0; i < n; i++) \n",
        "            System.out.print(a[i]); \n",
        "        System.out.print(\" \"); \n",
        "    }\n",
        "\n",
        "    private static void swap(int a[], int i, int j) { \n",
        "        int temp = a[i]; \n",
        "        a[i] = a[j]; \n",
        "        a[j] = temp; \n",
        "    }\n",
        "\n",
        "    public static void main(String args[]) {\n",
        "        int n = Integer.parseInt(args[0]);\n",
        "        int a[] = new int[n];\n",
        "        boolean[] dir = new boolean[n];\n",
        "        \n",
        "        for (int i = 0; i < n; i++) {\n",
        "            a[i] = i + 1;\n",
        "            System.out.print(a[i] + \" \");\n",
        "        }\n",
        "        System.out.println();\n",
        "\n",
        "        for (int i = 0; i < n; i++)\n",
        "\n",
        "```"
      ],
      "metadata": {
        "id": "8D3I7kj8aXB_"
      }
    },
    {
      "cell_type": "markdown",
      "source": [
        "37. **Permutations in lexicographic order**. \n",
        "\n",
        "Write a program **PermutationsLex.java** that take a command-line argument $N$ and prints out all $N!$ permutations of the integer $0$ through $N-1$ in lexicographic order.\n",
        "\n",
        "```\n",
        "% java PermutationsLex 3\n",
        "012\n",
        "021\n",
        "102\n",
        "120\n",
        "201\n",
        "210\n",
        "```\n"
      ],
      "metadata": {
        "id": "DGbCxumGavKT"
      }
    },
    {
      "cell_type": "markdown",
      "source": [
        "Here is a Python program to generate all the permutations in lexicographic order:\n",
        "\n"
      ],
      "metadata": {
        "id": "7KwLJiwzbIl-"
      }
    },
    {
      "cell_type": "code",
      "source": [
        "def permutations(n):\n",
        "    def swap(arr, i, j):\n",
        "        arr[i], arr[j] = arr[j], arr[i]\n",
        "\n",
        "    def next_permutation(arr):\n",
        "        i = len(arr) - 1\n",
        "        while i > 0 and arr[i - 1] >= arr[i]:\n",
        "            i -= 1\n",
        "        if i <= 0:\n",
        "            return False\n",
        "        j = len(arr) - 1\n",
        "        while arr[j] <= arr[i - 1]:\n",
        "            j -= 1\n",
        "        swap(arr, i - 1, j)\n",
        "        arr[i:] = arr[len(arr) - 1: i - 1: -1]\n",
        "        return True\n",
        "\n",
        "    arr = list(range(n))\n",
        "    while True:\n",
        "        print(''.join(map(str, arr)))\n",
        "        if not next_permutation(arr):\n",
        "            break\n",
        "\n",
        "n = int(input())\n",
        "permutations(n)\n"
      ],
      "metadata": {
        "colab": {
          "base_uri": "https://localhost:8080/"
        },
        "id": "VYXVMmD8beTD",
        "outputId": "cf4c1a3f-5609-41cb-e3ea-333f652670a0"
      },
      "execution_count": null,
      "outputs": [
        {
          "output_type": "stream",
          "name": "stdout",
          "text": [
            "1\n",
            "0\n"
          ]
        }
      ]
    },
    {
      "cell_type": "markdown",
      "source": [
        "You can run the code with a command-line argument $N$. The output will be all $N!$ permutations of the integers $0$ through $N-1$ in lexicographic order.\n",
        "\n",
        "The algorithm is based on the following observation: for any given sequence that is in descending order, no next larger permutation is possible. If the sequence is in ascending order, the next lexicographically larger permutation is the sequence in descending order.\n",
        "\n",
        "Here's the Java version of the same:"
      ],
      "metadata": {
        "id": "bbfvaLanbhZf"
      }
    },
    {
      "cell_type": "markdown",
      "source": [
        "```\n",
        "import java.util.*;\n",
        "\n",
        "public class PermutationsLex {\n",
        "    static boolean nextPermutation(int[] array) {\n",
        "        int i = array.length - 1;\n",
        "        while (i > 0 && array[i - 1] >= array[i]) {\n",
        "            i--;\n",
        "        }\n",
        "        if (i <= 0) {\n",
        "            return false;\n",
        "        }\n",
        "        int j = array.length - 1;\n",
        "        while (array[j] <= array[i - 1]) {\n",
        "            j--;\n",
        "        }\n",
        "        int temp = array[i - 1];\n",
        "        array[i - 1] = array[j];\n",
        "        array[j] = temp;\n",
        "        j = array.length - 1;\n",
        "        while (i < j) {\n",
        "            temp = array[i];\n",
        "            array[i] = array[j];\n",
        "            array[j] = temp;\n",
        "            i++;\n",
        "            j--;\n",
        "        }\n",
        "        return true;\n",
        "    }\n",
        "\n",
        "    static void printArray(int[] array) {\n",
        "        for (int i = 0; i < array.length; i++) {\n",
        "            System.out.print(array[i]);\n",
        "        }\n",
        "        System.out.println();\n",
        "    }\n",
        "\n",
        "    public static void main(String[] args) {\n",
        "        int N = Integer.parseInt(args[0]);\n",
        "        int[] array = new int[N];\n",
        "        for (int i = 0; i < N; i++) {\n",
        "            array[i] = i;\n",
        "        }\n",
        "        do {\n",
        "            printArray(array);\n",
        "        } while (nextPermutation(array));\n",
        "    }\n",
        "}\n",
        "\n",
        "```"
      ],
      "metadata": {
        "id": "fo1T8AV8by4x"
      }
    },
    {
      "cell_type": "markdown",
      "source": [
        "38. **Derangements**. \n",
        "\n",
        "A derangement is a permutation $p[\\;]$ of the integers from $0$ to $N-1$ such that $p[i]$ doesn't equal $i$ for any $i$. \n",
        "\n",
        "For example there are 9 derangements when $N = 4: 1032, 1230, 1302, 2031, 2301, 2310, 3012, 3201, 3210$. \n",
        "\n",
        "Write a program to count the number of derangements of size $N$ using the following recurrence: $d[N] = (N-1) (d[N-1] + d[N-2])$, where $d[1] = 0, d[2] = 1$. The first few terms are $0, 1, 2, 9, 44, 265, 1854, 14833, 133496, and 1334961$."
      ],
      "metadata": {
        "id": "9m1-SLMPb3Kf"
      }
    },
    {
      "cell_type": "markdown",
      "source": [
        "Here's a Python program that calculates the number of derangements using the given recurrence relation:"
      ],
      "metadata": {
        "id": "JjGT0gmicqyD"
      }
    },
    {
      "cell_type": "code",
      "source": [
        "def count_derangements(n):\n",
        "    if n == 1:\n",
        "        return 0\n",
        "    if n == 2:\n",
        "        return 1\n",
        "    \n",
        "    derangement_prev_prev = 0\n",
        "    derangement_prev = 1\n",
        "    \n",
        "    for i in range(3, n + 1):\n",
        "        derangement = (i - 1) * (derangement_prev + derangement_prev_prev)\n",
        "        derangement_prev_prev = derangement_prev\n",
        "        derangement_prev = derangement\n",
        "    \n",
        "    return derangement_prev\n",
        "\n",
        "n = int(input())\n",
        "print(count_derangements(n))\n"
      ],
      "metadata": {
        "colab": {
          "base_uri": "https://localhost:8080/"
        },
        "id": "NnykprUlcsJg",
        "outputId": "11023004-bb0d-472a-c652-f98244c2e311"
      },
      "execution_count": null,
      "outputs": [
        {
          "output_type": "stream",
          "name": "stdout",
          "text": [
            "10\n",
            "1334961\n"
          ]
        }
      ]
    },
    {
      "cell_type": "markdown",
      "source": [
        "This script takes an integer $n$ as an input and prints the number of derangements for $n$.\n",
        "\n",
        "Similarly, here is the Java version:"
      ],
      "metadata": {
        "id": "9Ky_G5KGcw4l"
      }
    },
    {
      "cell_type": "markdown",
      "source": [
        "```\n",
        "public class Derangements {\n",
        "    public static void main(String[] args) {\n",
        "        int n = Integer.parseInt(args[0]);\n",
        "        System.out.println(countDerangements(n));\n",
        "    }\n",
        "\n",
        "    public static long countDerangements(int n) {\n",
        "        if (n == 1) {\n",
        "            return 0;\n",
        "        }\n",
        "        if (n == 2) {\n",
        "            return 1;\n",
        "        }\n",
        "\n",
        "        long derangementPrevPrev = 0;\n",
        "        long derangementPrev = 1;\n",
        "\n",
        "        for (int i = 3; i <= n; i++) {\n",
        "            long derangement = (i - 1) * (derangementPrev + derangementPrevPrev);\n",
        "            derangementPrevPrev = derangementPrev;\n",
        "            derangementPrev = derangement;\n",
        "        }\n",
        "\n",
        "        return derangementPrev;\n",
        "    }\n",
        "}\n",
        "\n",
        "```"
      ],
      "metadata": {
        "id": "lRSBjLgwc68U"
      }
    },
    {
      "cell_type": "markdown",
      "source": [
        "In this Java code, the **main** method accepts a command line argument $n$ and then calls the **countDerangements** method with $n$. The **countDerangements** method returns the number of derangements for $n$."
      ],
      "metadata": {
        "id": "LI36fCivc_EQ"
      }
    },
    {
      "cell_type": "markdown",
      "source": [
        "39. **Tribonacci Numbers.**\n",
        "\n",
        "The tribonacci numbers are similar to the Fibonacci numbers, except that each term is the sum of the three previous terms in the sequence. The first few terms are $0, 0, 1, 1, 2, 4, 7, 13, 24, 44, 81$. \n",
        "\n",
        "Write a program to compute tribonacci numbers. What is the ratio successive terms? \n",
        "\n",
        "**Answer**. $\\sqrt{x^3 - x^2 - x - 1}$, which is approximately $1.83929$."
      ],
      "metadata": {
        "id": "ARM2MEq8dKAw"
      }
    },
    {
      "cell_type": "markdown",
      "source": [
        "Here is a Python program that generates the Tribonacci sequence and calculates the ratio of successive terms."
      ],
      "metadata": {
        "id": "Qx0uUbNBd-TI"
      }
    },
    {
      "cell_type": "code",
      "source": [
        "def tribonacci(n):\n",
        "    if n==0 or n==1:\n",
        "        return 0\n",
        "    elif n==2:\n",
        "        return 1\n",
        "    else:\n",
        "        trib = [0, 0, 1]\n",
        "        for i in range(3, n+1):\n",
        "            trib.append(trib[i-1] + trib[i-2] + trib[i-3])\n",
        "        return trib\n",
        "\n",
        "n = 20  # calculate the first 20 tribonacci numbers\n",
        "trib = tribonacci(n)\n",
        "for i in range(3, n):\n",
        "    print(f\"tribonacci({i}) = {trib[i]}, ratio = {trib[i]/trib[i-1]:.5f}\")\n"
      ],
      "metadata": {
        "colab": {
          "base_uri": "https://localhost:8080/"
        },
        "id": "IJTuZMrDd_PS",
        "outputId": "996ac1be-8340-419a-a134-3deb66b5474a"
      },
      "execution_count": null,
      "outputs": [
        {
          "output_type": "stream",
          "name": "stdout",
          "text": [
            "tribonacci(3) = 1, ratio = 1.00000\n",
            "tribonacci(4) = 2, ratio = 2.00000\n",
            "tribonacci(5) = 4, ratio = 2.00000\n",
            "tribonacci(6) = 7, ratio = 1.75000\n",
            "tribonacci(7) = 13, ratio = 1.85714\n",
            "tribonacci(8) = 24, ratio = 1.84615\n",
            "tribonacci(9) = 44, ratio = 1.83333\n",
            "tribonacci(10) = 81, ratio = 1.84091\n",
            "tribonacci(11) = 149, ratio = 1.83951\n",
            "tribonacci(12) = 274, ratio = 1.83893\n",
            "tribonacci(13) = 504, ratio = 1.83942\n",
            "tribonacci(14) = 927, ratio = 1.83929\n",
            "tribonacci(15) = 1705, ratio = 1.83927\n",
            "tribonacci(16) = 3136, ratio = 1.83930\n",
            "tribonacci(17) = 5768, ratio = 1.83929\n",
            "tribonacci(18) = 10609, ratio = 1.83929\n",
            "tribonacci(19) = 19513, ratio = 1.83929\n"
          ]
        }
      ]
    },
    {
      "cell_type": "markdown",
      "source": [
        "```\n",
        "import java.util.ArrayList;\n",
        "import java.text.DecimalFormat;\n",
        "\n",
        "public class Main {\n",
        "    public static ArrayList<Double> tribonacci(int n) {\n",
        "        ArrayList<Double> trib = new ArrayList<Double>();\n",
        "        if (n == 0 || n == 1) {\n",
        "            trib.add(0.0);\n",
        "        } else if (n == 2) {\n",
        "            trib.add(1.0);\n",
        "        } else {\n",
        "            trib.add(0.0);\n",
        "            trib.add(0.0);\n",
        "            trib.add(1.0);\n",
        "            for (int i = 3; i < n; i++) {\n",
        "                trib.add(trib.get(i-1) + trib.get(i-2) + trib.get(i-3));\n",
        "            }\n",
        "        }\n",
        "        return trib;\n",
        "    }\n",
        "\n",
        "    public static void main(String[] args) {\n",
        "        int n = 20; // calculate the first 20 tribonacci numbers\n",
        "        ArrayList<Double> trib = tribonacci(n);\n",
        "        DecimalFormat df = new DecimalFormat(\"#.#####\");\n",
        "        for (int i = 3; i < n; i++) {\n",
        "            double ratio = trib.get(i) / trib.get(i - 1);\n",
        "            System.out.println(\"tribonacci(\" + i + \") = \" + trib.get(i) + \", ratio = \" + df.format(ratio));\n",
        "        }\n",
        "    }\n",
        "}\n",
        "\n",
        "```"
      ],
      "metadata": {
        "id": "vwMXkISKeY5o"
      }
    },
    {
      "cell_type": "markdown",
      "source": [
        "This Java program works in a similar way to the Python program. It calculates the Tribonacci sequence up to a given number $n$ and then prints out each Tribonacci number along with the ratio between consecutive numbers. Note that the **DecimalFormat** class is used to control the precision of the printed ratios."
      ],
      "metadata": {
        "id": "fudEDTvWeowy"
      }
    },
    {
      "cell_type": "markdown",
      "source": [
        "40. **Sum of first n Fibonacci numbers**. \n",
        "\n",
        "Prove by induction that the sum of the first $n$ Fibonacci numbers $F(1) + F(2) + ... + F(N)$ is $F(N+2) - 1$."
      ],
      "metadata": {
        "id": "V986KTQIey8b"
      }
    },
    {
      "cell_type": "markdown",
      "source": [
        "To prove this by mathematical induction, we need to prove it in two steps:\n",
        "\n",
        "1. **Base Case:** For $n = 1$ (the smallest possible value of $n$), the left side is $F(1) = 1$, and the right side is $F(1+2) - 1 = F(3) - 1 = 2 - 1 = 1$, which matches the left side. Thus, the base case holds.\n",
        "2. **Inductive Step:** We assume that the sum of the first $n$ Fibonacci numbers is $F(n+2) - 1$, i.e., $F(1) + F(2) + ... + F(n) = F(n+2) - 1$. We need to prove that this is also true for $n+1, i$.e., $F(1) + F(2) + ... + F(n) + F(n+1) = F(n+3) - 1$.\n",
        "\n",
        "Using the inductive hypothesis, we substitute $F(1) + F(2) + ... + F(n)$ with $F(n+2) - 1$. Then, we have $F(n+2) - 1 + F(n+1) = F(n+3) - 1$.\n",
        "\n",
        "Now, the left side is basically the Fibonacci definition because $F(n+3)$ is defined as $F(n+2) + F(n+1)$, so this simplifies to $F(n+3) - 1 = F(n+3) - 1$, which is obviously true.\n",
        "\n",
        "Therefore, by mathematical induction, the sum of the first $n$ Fibonacci numbers is $F(n+2) - 1$."
      ],
      "metadata": {
        "id": "74POvUOufE6U"
      }
    },
    {
      "cell_type": "markdown",
      "source": [
        "41. **Combinational Gray code**. \n",
        "\n",
        "Print out all combination of $k$ of $n$ items in such a way that consecutive combinations differ in exactly one element, e.g., if $k = 3$ and $n = 5, 123, 134, 234, 124, 145, 245, 345, 135, 235, 125$. \n",
        "\n",
        "Hint: use the Gray code, but only print out those integers with exactly $k$ $1's$ in their binary representation."
      ],
      "metadata": {
        "id": "2rPpU0fbf6tW"
      }
    },
    {
      "cell_type": "code",
      "source": [
        "def comb_gray_code(n, k):\n",
        "    def generate_gray(n):\n",
        "        if n == 0:\n",
        "            return ['']\n",
        "        first_half = generate_gray(n-1)\n",
        "        second_half = first_half.copy()\n",
        "        first_half = ['0' + code for code in first_half]\n",
        "        second_half = ['1' + code for code in reversed(second_half)]\n",
        "        return first_half + second_half\n",
        "\n",
        "    def has_k_ones(code, k):\n",
        "        return code.count('1') == k\n",
        "\n",
        "    gray_codes = generate_gray(n)\n",
        "    for code in gray_codes:\n",
        "        if has_k_ones(code, k):\n",
        "            print([i+1 for i in range(n) if code[i] == '1'])\n",
        "\n",
        "comb_gray_code(5, 3)\n"
      ],
      "metadata": {
        "colab": {
          "base_uri": "https://localhost:8080/"
        },
        "id": "IJe6cbeGgf9_",
        "outputId": "8f8d6958-3845-4770-fcd1-e18c5fb077f4"
      },
      "execution_count": null,
      "outputs": [
        {
          "output_type": "stream",
          "name": "stdout",
          "text": [
            "[3, 4, 5]\n",
            "[2, 3, 5]\n",
            "[2, 3, 4]\n",
            "[2, 4, 5]\n",
            "[1, 2, 5]\n",
            "[1, 2, 4]\n",
            "[1, 2, 3]\n",
            "[1, 3, 5]\n",
            "[1, 3, 4]\n",
            "[1, 4, 5]\n"
          ]
        }
      ]
    },
    {
      "cell_type": "markdown",
      "source": [
        "The **generate_gray** function generates the Gray code sequence of length $n$. The **has_k_ones** function checks if a binary string has exactly $k$$1's$. In the **main** function **comb_gray_code**, we generate the Gray code of length $n$ and then filter out those codes that have exactly $k$$1's$. For each such code, we print out the indices of the ones.\n",
        "\n",
        "Please note that the indices are **1-based** in the example given (i.e., we consider the items to be numbered from $1$ to $n$, not from $0$ to $n-1$), so we add $1$ to the indices when printing them out.\n",
        "\n",
        "This program generates the combinations in the order that meets the requirement: each consecutive combination differs by exactly one element."
      ],
      "metadata": {
        "id": "vJbCkOY6ggYu"
      }
    },
    {
      "cell_type": "markdown",
      "source": [
        "42. **Maze Generation.**\n",
        "\n",
        "Create a maze using **divide-and-conquer**: Begin with a rectangular region with no walls. Choose a random gridpoint in the rectangle and construct two perpendicular walls, dividing the square into 4 subregions. Choose 3 of the four regions at random and open a one cell hole at a random point in each of the 3. Recur until each subregion has width or height 1."
      ],
      "metadata": {
        "id": "3W5WYhLJhN-B"
      }
    },
    {
      "cell_type": "code",
      "source": [
        "import numpy as np\n",
        "import random\n",
        "\n",
        "# Represents wall as '#'\n",
        "def create_maze(x, y, height, width):\n",
        "    global maze\n",
        "    if height <= 2 or width <= 2:\n",
        "        return\n",
        "    # Construct two perpendicular walls\n",
        "    horizontal_wall = random.randint(x+1, x+height-2)\n",
        "    vertical_wall = random.randint(y+1, y+width-2)\n",
        "    maze[horizontal_wall, y:y+width] = '#'\n",
        "    maze[x:x+height, vertical_wall] = '#'\n",
        "\n",
        "    # Create holes in 3 of the 4 walls.\n",
        "    walls_with_holes = random.sample(['N', 'S', 'E', 'W'], 3)\n",
        "    for wall in walls_with_holes:\n",
        "        if wall == 'N':\n",
        "            hole = random.randint(y+1, vertical_wall)\n",
        "            maze[horizontal_wall, hole] = ' '\n",
        "        if wall == 'S':\n",
        "            hole = random.randint(vertical_wall+1, y+width-1)\n",
        "            maze[horizontal_wall, hole] = ' '\n",
        "        if wall == 'E':\n",
        "            hole = random.randint(x+1, horizontal_wall)\n",
        "            maze[hole, vertical_wall] = ' '\n",
        "        if wall == 'W':\n",
        "            hole = random.randint(horizontal_wall+1, x+height-1)\n",
        "            maze[hole, vertical_wall] = ' '\n",
        "\n",
        "    # Recurse on the four rooms created.\n",
        "    create_maze(x, y, horizontal_wall-x, vertical_wall-y)\n",
        "    create_maze(horizontal_wall+1, y, x+height-horizontal_wall-1, vertical_wall-y)\n",
        "    create_maze(x, vertical_wall+1, horizontal_wall-x, y+width-vertical_wall-1)\n",
        "    create_maze(horizontal_wall+1, vertical_wall+1, x+height-horizontal_wall-1, y+width-vertical_wall-1)\n",
        "\n",
        "n, m = 20, 40  # dimensions of the maze\n",
        "maze = np.full((n, m), ' ')\n",
        "create_maze(0, 0, n, m)\n",
        "for row in maze:\n",
        "    print(''.join(row))\n"
      ],
      "metadata": {
        "colab": {
          "base_uri": "https://localhost:8080/"
        },
        "id": "sHK45tx9hs6n",
        "outputId": "31af0fef-1c06-476f-c0b0-cf842322844d"
      },
      "execution_count": null,
      "outputs": [
        {
          "output_type": "stream",
          "name": "stdout",
          "text": [
            "  #                   #      # #   # #  \n",
            "  ######### ############# ####  ###  #  \n",
            "  #                          # #     #  \n",
            "  ############### ###########  ## #### #\n",
            "  #                          # #        \n",
            "   ### #################################\n",
            "  #     #          #  #  #   # #   # #  \n",
            "  ###### # ########      #     #   # #  \n",
            "  #     #          #  #  #####  ###     \n",
            "  #     #          #  #  #   # # # # #  \n",
            "  ################# ###  #     ## ## #  \n",
            "  #                   ## #### ## # # #  \n",
            "  #                #  #        #   # #  \n",
            "  ########### ########## ####### # # #  \n",
            "  #                   #        ## #### #\n",
            "  #                   #        #     #  \n",
            "## #################################### \n",
            "  #                                   # \n",
            "  ################## ################# #\n",
            "  #                                     \n"
          ]
        }
      ]
    },
    {
      "cell_type": "markdown",
      "source": [
        "In the above Python code, we start by creating a rectangle full of spaces. The **create_maze** function chooses a random grid point and constructs two perpendicular walls. It then creates 3 holes in randomly chosen walls. This process is repeated recursively for the four rooms created by the two new walls.\n",
        "\n",
        "The resulting maze is printed out in **ASCII**, where the empty space represents a path and **'#'** represents a wall."
      ],
      "metadata": {
        "id": "OwtC7Qn2haVJ"
      }
    },
    {
      "cell_type": "markdown",
      "source": [
        "43. **Plasma Clouds.**\n",
        "\n",
        "Program **PlasmaCloud.java** takes a command-line argument $N$ and produces a random $N-by-N$ plasma fractal using the **midpoint displacement** method."
      ],
      "metadata": {
        "id": "KZDxpSsLh9jS"
      }
    },
    {
      "cell_type": "markdown",
      "source": [
        "```\n",
        "import java.awt.image.BufferedImage;\n",
        "import java.io.File;\n",
        "import javax.imageio.ImageIO;\n",
        "\n",
        "public class PlasmaCloud {\n",
        "    private static final int MAX_COLOR = 256;\n",
        "    private static final int MAX_RGB_COLOR = 255;\n",
        "\n",
        "    public static void main(String[] args) throws Exception {\n",
        "        int N = Integer.parseInt(args[0]);\n",
        "        BufferedImage image = new BufferedImage(N, N, BufferedImage.TYPE_INT_RGB);\n",
        "\n",
        "        double[][] displacement = new double[N][N];\n",
        "        // Initialize corners\n",
        "        displacement[0][0] = Math.random();\n",
        "        displacement[0][N - 1] = Math.random();\n",
        "        displacement[N - 1][0] = Math.random();\n",
        "        displacement[N - 1][N - 1] = Math.random();\n",
        "\n",
        "        // Perform midpoint displacement\n",
        "        displace(N, displacement);\n",
        "\n",
        "        // Color each pixel\n",
        "        for (int i = 0; i < N; i++) {\n",
        "            for (int j = 0; j < N; j++) {\n",
        "                int color = (int) (MAX_COLOR * displacement[i][j]);\n",
        "                int rgb = color | (color << 8) | (color << 16);\n",
        "                image.setRGB(i, j, rgb);\n",
        "            }\n",
        "        }\n",
        "\n",
        "        // Output the image\n",
        "        ImageIO.write(image, \"png\", new File(\"PlasmaCloud.png\"));\n",
        "    }\n",
        "\n",
        "    private static void displace(int N, double[][] displacement) {\n",
        "        // This is where the midpoint displacement algorithm would be implemented.\n",
        "        // It would involve a recursive process of dividing the grid into smaller\n",
        "        // squares and displacing the midpoint of each square by a random amount.\n",
        "    }\n",
        "}\n",
        "```"
      ],
      "metadata": {
        "id": "cumGWvtniSLL"
      }
    },
    {
      "cell_type": "markdown",
      "source": [
        "Here's an [800-by-800 example](https://introcs.cs.princeton.edu/java/23recursion/images/plasma-big.png). Note: some visual artifacts are noticeable parallel to the x and y axes. Doesn't have all of the statistical properties of 2D fractional Brownian motion."
      ],
      "metadata": {
        "id": "59kTYyOJiSuT"
      }
    },
    {
      "cell_type": "markdown",
      "source": [
        "This algorithm is represented below using two functions: **plasmaFractal()**, and **midDisp2D()**. The first function, **plasmaFractal()**, sets up the random variables in Step 1, initializes a call to **randVal()**, calls **midDisp2D()**, and generates the grayscale pixel image. The image created is 256×256 pixels in size."
      ],
      "metadata": {
        "id": "faWHIoZbmUGc"
      }
    },
    {
      "cell_type": "markdown",
      "source": [
        "- **plasmaFractal(int w, int h, float r)**: This is the main function where the fractal generation begins. It accepts width $w$, height $h$, and roughness $r$ as parameters. It initializes the corners with random values, calls the **midDisp2D** function to fill the rest of the pixels, and then maps the final color values to the corresponding pixels.\n",
        "\n",
        "- **midDisp2D(float[ ][ ] R, int x, int y, int w, int h, float c1, float c2, float c3, float c4, float std):** This function performs the midpoint displacement. It accepts a 2D array $R$ to hold the final color values, coordinates $(x, y)$, dimensions $(w, h)$, corner values $(c1, c2, c3, c4)$, and the standard deviation **std**. It calculates the midpoints and edges, adjusts them to fit into $[0.0, 1.0]$ using the rectify function, and then recursively calls itself for the four sub-rectangles until it reaches the base case where it assigns the color value to the pixel."
      ],
      "metadata": {
        "id": "Dc_oObX0nuPf"
      }
    },
    {
      "cell_type": "markdown",
      "source": [
        "```\n",
        "void plasmaFractal(int w, int h, float r){\n",
        "   \n",
        "  float c1, c2, c3, c4;\n",
        "  int p;\n",
        "  float [][] pixmap = new float[256][256];\n",
        "  // Assign random values between 0 and 1 to corners.\n",
        "  c1 = random(0,1.0);\n",
        "  c2 = random(0,1.0);\n",
        "  c3 = random(0,1.0);\n",
        "  c4 = random(0,1.0);\n",
        "  // Set up global variables\n",
        "  roughness = r;\n",
        "  // Apply the midDisp2D subprogram to the initial 4 corners.\n",
        "  randVal((int)random(1,100));\n",
        "  midDisp2D(pixmap, 0,0,256,256,c1,c2,c3,c4,1.0);\n",
        "   \n",
        "  for (int i=0; i<w; i=i+1)\n",
        "    for (int j=0; j<h; j=j+1){\n",
        "      p = (int)pixmap[i][j];\n",
        "      map.set(i,j,color(p,p,p));\n",
        "    }\n",
        "  image(map,100,100);\n",
        "}\n",
        "```"
      ],
      "metadata": {
        "id": "DSTb1bsVkwDL"
      }
    },
    {
      "cell_type": "markdown",
      "source": [
        "The input variable **r** represents the roughness of the fractal surface – the closer to **0**, the smoother the surface, the further from **0**, the “rougher” it appears (roughness is a global variable). The implementation uses the functions **randVal()**, and **randomGauss()** which were previously described. The second function, **midDisp2D()**, performs the recursive **2D midpoint displacement**."
      ],
      "metadata": {
        "id": "2ZRPa09JlEPU"
      }
    },
    {
      "cell_type": "markdown",
      "source": [
        "```\n",
        "void midDisp2D(float [][] R, int x, int y, int w, int h, \n",
        "                 float c1, float c2, float c3, float c4, float std){\n",
        "   \n",
        "  float e1, e2, e3, e4, mid, disp;\n",
        "  int newW, newH;\n",
        "  newW = w/2;\n",
        "  newH = h/2;\n",
        "  if (w > 1 || h > 1){\n",
        "    disp = randomGauss(0.0,std) * roughness;\n",
        "    // calculate the edges and midpoint\n",
        "    mid = ((c1 + c2 + c3 + c4)/4) + disp;\n",
        "    e1 = (c1 + c2) / 2;\n",
        "    e2 = (c2 + c3) / 2;\n",
        "    e3 = (c3 + c4) / 2;\n",
        "    e4 = (c4 + c1) / 2;\n",
        "    // Avoid random displacement beyond constraints\n",
        "    mid = rectify(mid);\n",
        "    e1 = rectify(e1);\n",
        "    e2 = rectify(e2);\n",
        "    e3 = rectify(e3);\n",
        "    e4 = rectify(e4);\n",
        "    // Recurse over the four sub-rectangle's\n",
        "    midDisp2D(R, x, y,newW, newH, c1,e1,mid,e4,std/2);\n",
        "    midDisp2D(R, x+newW, y, w-newW, newH, e1,c2,e2,mid,std/2);\n",
        "    midDisp2D(R, x+newW, y+newH, w-newW, h-newH, mid,e2,c3,e3,std/2);\n",
        "    midDisp2D(R, x, y+newH, newW, h-newH, e4,mid,e3,c4,std/2);\n",
        "  }\n",
        "  else { // base case = assign a value to the image\n",
        "    float p = (c1 + c2 + c3 + c4) / 4;\n",
        "    R[x][y] = p*255;\n",
        "    if (w == 2) R[x+1][y] = p*255;\n",
        "    if (h == 2) R[x][y+1] = p*255;\n",
        "    if (w == 2 && h == 2) R[x+1][y+1] = p*255;\n",
        "  }\n",
        "}\n",
        "```\n"
      ],
      "metadata": {
        "id": "CIVdjTozkwza"
      }
    },
    {
      "cell_type": "markdown",
      "source": [
        "Here are some global parameters:\n",
        "```\n",
        "int wd=256, ht=256;\n",
        "PImage map = createImage(wd,ht,RGB);\n",
        "float roughness;\n",
        "```"
      ],
      "metadata": {
        "id": "ahFdcQf8lZWD"
      }
    },
    {
      "cell_type": "markdown",
      "source": [
        "With a few changes to the code, we can generate them in blue. In the Processing **setup()** function the colour mode is changed to HSB, by adding: $colorMode(HSB, 360, 255, 100)$;. \n",
        "  - This basically sets the values to be used for HSB: Hue = 0..360, Saturation = 0..255, and Brightness = 0..100. \n",
        "  - The line setting the pixel in the function **plasmaFractal()** is then modified to:\n",
        "```\n",
        "map.set(i,j,color(210,p,100));\n",
        "```"
      ],
      "metadata": {
        "id": "WcvH8XBKledS"
      }
    },
    {
      "cell_type": "markdown",
      "source": [
        "Miscellaneous subprograms:\n",
        "```\n",
        "float rectify(float n){\n",
        "  if (n < 0) return 0.0;\n",
        "  else if (n > 1.0) return 1.0;\n",
        "  else return n;\n",
        "}\n",
        "/*  Multiplicative LCG for generating uniform (0.0,1.0) random numbers\n",
        "    based on Schrage's Method.\n",
        "    a (multiplier), m (modulus), q (m div a), r (m mod a)\n",
        "*/\n",
        " \n",
        "float randVal(int seed){\n",
        "  long a=16807, m=2147483647, q=127773, r=2836;\n",
        "  long xDivq, xModq, gX;\n",
        "   \n",
        "  if (seed > 0) {\n",
        "    xN = seed;\n",
        "    return 0.0;\n",
        "  }\n",
        "  // RNG using integer arithmetic\n",
        "  xDivq = xN / q;\n",
        "  xModq = xN % q;\n",
        "  gX = (a * xModq) - (r * xDivq);\n",
        "  if (gX > 0) xN = gX;\n",
        "  else xN = gX + m;\n",
        "  return (float)xN / m;\n",
        "}\n",
        "/*  Function to generate a normally distributed random variable using \n",
        "    the Box-Muller method. Input is mean and stdev.\n",
        "*/\n",
        " \n",
        "float randomGauss(float mean, float stdev){\n",
        "  float u, r, theta; // variables for Box-Muller\n",
        "  float x, normRV;\n",
        "   \n",
        "  u = 0.0;\n",
        "  while (almostEqual(u,0.0))\n",
        "    u = randVal(0);\n",
        "  r = sqrt(-2.0 * log(u));\n",
        "  theta = 0.0;\n",
        "  while (almostEqual(theta,0.0))\n",
        "    theta = 2.0 * 3.14159 * randVal(0);\n",
        "  x = r * cos(theta);\n",
        "  normRV = (x * stdev) + mean;\n",
        "   \n",
        "  return normRV;\n",
        "}\n",
        " \n",
        "boolean almostEqual(float a, float b){\n",
        "  return abs(a-b) <= FLT_EPSILON;\n",
        "}\n",
        "```"
      ],
      "metadata": {
        "id": "VDT9mJCfl-zj"
      }
    },
    {
      "cell_type": "markdown",
      "source": [
        "This code contains some functions:\n",
        "\n",
        "- **rectify(float n)**: This function rectifies the given float $n$ to the range $[0.0, 1.0]$. If $n$ is less than 0, it returns 0.0. If $n$ is greater than 1, it returns 1.0. Otherwise, it returns $n$ itself.\n",
        "\n",
        "- **randVal(int seed)**: This function implements a multiplicative **linear congruential generator (LCG)** for generating uniformly distributed random numbers in the range **(0.0,1.0)**. It uses **Schrage's** method, where $a$ is the multiplier, $m$ is the **modulus**, $q$ is $m$ $div$ $a$, and $r$ is $m$ $mod$ $a$.\n",
        "\n",
        "- **randomGauss(float mean, float stdev):** This function generates a normally distributed random variable using the **Box-Muller** method. The input parameters are **mean** and **stdev**, which represent the mean and standard deviation of the desired normal distribution.\n",
        "\n",
        "- **almostEqual(float a, float b):** This function checks if the absolute difference between two float numbers a and b is less than or equal to **FLT_EPSILON**, which is a very small number **(usually 1E-5 or 1E-6)**. If the condition is true, it returns true; otherwise, it returns false. This function is used to check the equality of two float numbers with a certain tolerance due to the imprecision of float numbers."
      ],
      "metadata": {
        "id": "_-2UiakimxeN"
      }
    },
    {
      "cell_type": "markdown",
      "source": [
        "44. **Fern Fractal.**\n",
        "\n",
        "Write a recursive program to draw a fern or tree, as in this [fern fractal demo](https://rosettacode.org/wiki/File:Barnsley_fern_java.png)."
      ],
      "metadata": {
        "id": "t2Nz-haLm_in"
      }
    },
    {
      "cell_type": "markdown",
      "source": [
        "My Implementation:\n",
        "```\n",
        "import javax.swing.*;\n",
        "import java.awt.*;\n",
        "\n",
        "public class Tree extends JFrame {\n",
        "\n",
        "    public Tree() {\n",
        "        setBounds(100, 100, 800, 600);\n",
        "        setDefaultCloseOperation(WindowConstants.EXIT_ON_CLOSE);\n",
        "    }\n",
        "\n",
        "    private void drawTree(Graphics g, int x1, int y1, double angle, int depth) {\n",
        "        if (depth == 0) return;\n",
        "        int x2 = x1 + (int) (Math.cos(Math.toRadians(angle)) * depth * 10.0);\n",
        "        int y2 = y1 + (int) (Math.sin(Math.toRadians(angle)) * depth * 10.0);\n",
        "        g.drawLine(x1, y1, x2, y2);\n",
        "        drawTree(g, x2, y2, angle - 20, depth - 1);\n",
        "        drawTree(g, x2, y2, angle + 20, depth - 1);\n",
        "    }\n",
        "\n",
        "    @Override\n",
        "    public void paint(Graphics g) {\n",
        "        g.setColor(Color.BLACK);\n",
        "        drawTree(g, 400, 500, -90, 9);\n",
        "    }\n",
        "\n",
        "    public static void main(String[] args) {\n",
        "        new Tree().setVisible(true);\n",
        "    }\n",
        "}\n",
        "\n",
        "```"
      ],
      "metadata": {
        "id": "opVfLI8Cq1Gd"
      }
    },
    {
      "cell_type": "markdown",
      "source": [
        "Found Online:"
      ],
      "metadata": {
        "id": "Q34Yu9kcq7KV"
      }
    },
    {
      "cell_type": "markdown",
      "source": [
        "```\n",
        "import java.awt.*;\n",
        "import java.awt.image.BufferedImage;\n",
        "import javax.swing.*;\n",
        "\n",
        "public class BarnsleyFern extends JPanel {\n",
        "\n",
        "    BufferedImage img;\n",
        "\n",
        "    public BarnsleyFern() {\n",
        "        final int dim = 640;\n",
        "        setPreferredSize(new Dimension(dim, dim));\n",
        "        setBackground(Color.white);\n",
        "        img = new BufferedImage(dim, dim, BufferedImage.TYPE_INT_ARGB);\n",
        "        createFern(dim, dim);\n",
        "    }\n",
        "\n",
        "    void createFern(int w, int h) {\n",
        "        double x = 0;\n",
        "        double y = 0;\n",
        "\n",
        "        for (int i = 0; i < 200_000; i++) {\n",
        "            double tmpx, tmpy;\n",
        "            double r = Math.random();\n",
        "\n",
        "            if (r <= 0.01) {\n",
        "                tmpx = 0;\n",
        "                tmpy = 0.16 * y;\n",
        "            } else if (r <= 0.08) {\n",
        "                tmpx = 0.2 * x - 0.26 * y;\n",
        "                tmpy = 0.23 * x + 0.22 * y + 1.6;\n",
        "            } else if (r <= 0.15) {\n",
        "                tmpx = -0.15 * x + 0.28 * y;\n",
        "                tmpy = 0.26 * x + 0.24 * y + 0.44;\n",
        "            } else {\n",
        "                tmpx = 0.85 * x + 0.04 * y;\n",
        "                tmpy = -0.04 * x + 0.85 * y + 1.6;\n",
        "            }\n",
        "            x = tmpx;\n",
        "            y = tmpy;\n",
        "\n",
        "            img.setRGB((int) Math.round(w / 2 + x * w / 11),\n",
        "                    (int) Math.round(h - y * h / 11), 0xFF32CD32);\n",
        "        }\n",
        "    }\n",
        "\n",
        "    @Override\n",
        "    public void paintComponent(Graphics gg) {\n",
        "        super.paintComponent(gg);\n",
        "        Graphics2D g = (Graphics2D) gg;\n",
        "        g.setRenderingHint(RenderingHints.KEY_ANTIALIASING,\n",
        "                RenderingHints.VALUE_ANTIALIAS_ON);\n",
        "\n",
        "        g.drawImage(img, 0, 0, null);\n",
        "    }\n",
        "\n",
        "    public static void main(String[] args) {\n",
        "        SwingUtilities.invokeLater(() -> {\n",
        "            JFrame f = new JFrame();\n",
        "            f.setDefaultCloseOperation(JFrame.EXIT_ON_CLOSE);\n",
        "            f.setTitle(\"Barnsley Fern\");\n",
        "            f.setResizable(false);\n",
        "            f.add(new BarnsleyFern(), BorderLayout.CENTER);\n",
        "            f.pack();\n",
        "            f.setLocationRelativeTo(null);\n",
        "            f.setVisible(true);\n",
        "        });\n",
        "    }\n",
        "}\n",
        "```"
      ],
      "metadata": {
        "id": "0WpDNP4pqdWF"
      }
    },
    {
      "cell_type": "markdown",
      "source": [
        "My Python Implemtentation:\n"
      ],
      "metadata": {
        "id": "2GKzTXc2rZLt"
      }
    },
    {
      "cell_type": "code",
      "source": [
        "import matplotlib.pyplot as plt\n",
        "import numpy as np\n",
        "\n",
        "def draw_tree(x1, y1, angle, depth):\n",
        "    if depth:\n",
        "        x2 = x1 + np.cos(angle) * depth\n",
        "        y2 = y1 + np.sin(angle) * depth\n",
        "        plt.plot([x1, x2], [y1, y2], color='green', linewidth=depth/2)\n",
        "        draw_tree(x2, y2, angle - 0.3, depth - 1)\n",
        "        draw_tree(x2, y2, angle + 0.3, depth - 1)\n",
        "\n",
        "plt.figure(figsize=(10, 10))\n",
        "plt.axis('off')\n",
        "draw_tree(0, 0, np.pi/2, 10)\n",
        "plt.show()\n"
      ],
      "metadata": {
        "colab": {
          "base_uri": "https://localhost:8080/",
          "height": 807
        },
        "id": "ef1Az2oSrdRk",
        "outputId": "25fbbce9-87ce-492c-b528-9c3d16329cd5"
      },
      "execution_count": null,
      "outputs": [
        {
          "output_type": "display_data",
          "data": {
            "text/plain": [
              "<Figure size 1000x1000 with 1 Axes>"
            ],
            "image/png": "[encoded data removed]"
          },
          "metadata": {}
        }
      ]
    },
    {
      "cell_type": "code",
      "source": [
        "pip install pillow"
      ],
      "metadata": {
        "colab": {
          "base_uri": "https://localhost:8080/"
        },
        "id": "dM9q12JYr-0e",
        "outputId": "41954eff-6316-4d14-ec13-40b42fef33b8"
      },
      "execution_count": null,
      "outputs": [
        {
          "output_type": "stream",
          "name": "stdout",
          "text": [
            "Looking in indexes: https://pypi.org/simple, https://us-python.pkg.dev/colab-wheels/public/simple/\n",
            "Requirement already satisfied: pillow in /usr/local/lib/python3.10/dist-packages (8.4.0)\n"
          ]
        }
      ]
    },
    {
      "cell_type": "code",
      "source": [
        "import random\n",
        "from PIL import Image\n",
        "\n",
        "\n",
        "class BarnsleyFern(object):\n",
        "    def __init__(self, img_width, img_height, paint_color=(0, 150, 0),\n",
        "                 bg_color=(255, 255, 255)):\n",
        "        self.img_width, self.img_height = img_width, img_height\n",
        "        self.paint_color = paint_color\n",
        "        self.x, self.y = 0, 0\n",
        "        self.age = 0\n",
        "\n",
        "        self.fern = Image.new('RGB', (img_width, img_height), bg_color)\n",
        "        self.pix = self.fern.load()\n",
        "        self.pix[self.scale(0, 0)] = paint_color\n",
        "\n",
        "    def scale(self, x, y):\n",
        "        h = (x + 2.182)*(self.img_width - 1)/4.8378\n",
        "        k = (9.9983 - y)*(self.img_height - 1)/9.9983\n",
        "        return h, k\n",
        "\n",
        "    def transform(self, x, y):\n",
        "        rand = random.uniform(0, 100)\n",
        "        if rand < 1:\n",
        "            return 0, 0.16*y\n",
        "        elif 1 <= rand < 86:\n",
        "            return 0.85*x + 0.04*y, -0.04*x + 0.85*y + 1.6\n",
        "        elif 86 <= rand < 93:\n",
        "            return 0.2*x - 0.26*y, 0.23*x + 0.22*y + 1.6\n",
        "        else:\n",
        "            return -0.15*x + 0.28*y, 0.26*x + 0.24*y + 0.44\n",
        "\n",
        "    def iterate(self, iterations):\n",
        "        for _ in range(iterations):\n",
        "            self.x, self.y = self.transform(self.x, self.y)\n",
        "            self.pix[self.scale(self.x, self.y)] = self.paint_color\n",
        "        self.age += iterations\n",
        "\n",
        "fern = BarnsleyFern(500, 500)\n",
        "fern.iterate(1000000)\n",
        "fern.fern.show()"
      ],
      "metadata": {
        "colab": {
          "base_uri": "https://localhost:8080/",
          "height": 517
        },
        "id": "VsbSR9qgqhCG",
        "outputId": "8cca798f-0b07-40d4-ff19-41bf6ef2f5af"
      },
      "execution_count": null,
      "outputs": [
        {
          "output_type": "display_data",
          "data": {
            "text/plain": [
              "<PIL.Image.Image image mode=RGB size=500x500 at 0x7FF0843463B0>"
            ],
            "image/png": "[encoded data removed]"
          },
          "metadata": {}
        }
      ]
    },
    {
      "cell_type": "markdown",
      "source": [
        "45. **Integer Set Partition.**\n",
        "\n",
        "Use memoization to develop a program that solves the set partition problem for positive integer values. You may use an array whose size is the sum of the input values."
      ],
      "metadata": {
        "id": "WIWWtGk-tGD_"
      }
    },
    {
      "cell_type": "code",
      "source": [
        "def set_partition(numbers):\n",
        "    total_sum = sum(numbers)\n",
        "    if total_sum % 2 != 0:\n",
        "        return False\n",
        "\n",
        "    target_sum = total_sum // 2\n",
        "    memo = [[None] * (target_sum + 1) for _ in range(len(numbers))]\n",
        "\n",
        "    def partition_helper(idx, curr_sum):\n",
        "        if curr_sum == target_sum:\n",
        "            return True\n",
        "        if idx == len(numbers) or curr_sum > target_sum:\n",
        "            return False\n",
        "\n",
        "        if memo[idx][curr_sum] is not None:\n",
        "            return memo[idx][curr_sum]\n",
        "\n",
        "        # Include the current number in the partition\n",
        "        if partition_helper(idx + 1, curr_sum + numbers[idx]):\n",
        "            memo[idx][curr_sum] = True\n",
        "            return True\n",
        "\n",
        "        # Exclude the current number from the partition\n",
        "        if partition_helper(idx + 1, curr_sum):\n",
        "            memo[idx][curr_sum] = True\n",
        "            return True\n",
        "\n",
        "        memo[idx][curr_sum] = False\n",
        "        return False\n",
        "\n",
        "    return partition_helper(0, 0)\n",
        "\n",
        "# Example usage\n",
        "numbers = [1, 5, 11, 5]\n",
        "print(set_partition(numbers))  # Output: True\n"
      ],
      "metadata": {
        "colab": {
          "base_uri": "https://localhost:8080/"
        },
        "id": "ZQOd-pLytcK-",
        "outputId": "85f8ea87-45ca-43ad-fa27-66d189f49e71"
      },
      "execution_count": null,
      "outputs": [
        {
          "output_type": "stream",
          "name": "stdout",
          "text": [
            "True\n"
          ]
        }
      ]
    },
    {
      "cell_type": "markdown",
      "source": [
        "The **set_partition** function takes a list of positive integer values as input and returns True if it is possible to partition the set into two subsets with equal sums, and False otherwise. The program uses **memoization** to avoid redundant calculations and improve the efficiency of the algorithm."
      ],
      "metadata": {
        "id": "g2j2FpjxtgZQ"
      }
    },
    {
      "cell_type": "markdown",
      "source": [
        "46. **Voting Power.**\n",
        "\n",
        "John F. Banzhaf III proposed a ranking system for each coalition in a block voting system. Suppose party $i$ control $w[i]$ votes. A strict majority of the votes is needed to accept or reject a proposal. The voting power of party $i$ is the number of minority coalitions it can join and turn it into a winning majority coalition. \n",
        "- Write a program **VotingPower.java** that takes in a list of coalition weights as command-line argument and prints out the voting power of each coalition. \n",
        "- Hint: use **Schedule.java** as a starting point.\n"
      ],
      "metadata": {
        "id": "ZzNVAM3TtoCH"
      }
    },
    {
      "cell_type": "markdown",
      "source": [
        "Here's an implementation of the **VotingPower.java** program that calculates the voting power of each coalition based on the weights provided:"
      ],
      "metadata": {
        "id": "VPSO_28BuAFw"
      }
    },
    {
      "cell_type": "markdown",
      "source": [
        "```\n",
        "public class VotingPower {\n",
        "    public static void main(String[] args) {\n",
        "        int[] weights = new int[args.length];\n",
        "        for (int i = 0; i < args.length; i++) {\n",
        "            weights[i] = Integer.parseInt(args[i]);\n",
        "        }\n",
        "\n",
        "        int totalVotes = 0;\n",
        "        for (int weight : weights) {\n",
        "            totalVotes += weight;\n",
        "        }\n",
        "\n",
        "        int[] votingPower = new int[weights.length];\n",
        "        for (int i = 0; i < weights.length; i++) {\n",
        "            int minorityVotes = totalVotes - weights[i];\n",
        "            int power = 0;\n",
        "            for (int j = 0; j < (1 << weights.length); j++) {\n",
        "                int coalitionVotes = 0;\n",
        "                for (int k = 0; k < weights.length; k++) {\n",
        "                    if ((j & (1 << k)) != 0) {\n",
        "                        coalitionVotes += weights[k];\n",
        "                    }\n",
        "                }\n",
        "                if (coalitionVotes < (totalVotes / 2) && coalitionVotes + minorityVotes >= (totalVotes / 2)) {\n",
        "                    power++;\n",
        "                }\n",
        "            }\n",
        "            votingPower[i] = power;\n",
        "        }\n",
        "\n",
        "        for (int i = 0; i < weights.length; i++) {\n",
        "            System.out.println(\"Coalition \" + (i + 1) + \": \" + votingPower[i]);\n",
        "        }\n",
        "    }\n",
        "}\n",
        "\n",
        "```"
      ],
      "metadata": {
        "id": "Lin22TRAuKUw"
      }
    },
    {
      "cell_type": "markdown",
      "source": [
        "You can run the program by providing the coalition weights as command-line arguments. For example:\n",
        "\n",
        "```\n",
        "java VotingPower 5 3 2 4\n",
        "```"
      ],
      "metadata": {
        "id": "cEkj9COGuOSL"
      }
    },
    {
      "cell_type": "markdown",
      "source": [
        "47. **Scheduling on two parallel machines.** Program **Schedule.java** takes a command-line argument $N$, reads in $N$ real number of standard input, and partitions them into two groups so that their difference is minimized."
      ],
      "metadata": {
        "id": "iYa5wIiRuWYR"
      }
    },
    {
      "cell_type": "markdown",
      "source": [
        "Here's an implementation of the **Schedule.java** program that partitions the input numbers into two groups in such a way that the difference between the sums of the two groups is minimized:"
      ],
      "metadata": {
        "id": "4FUDvyRxuryh"
      }
    },
    {
      "cell_type": "markdown",
      "source": [
        "```\n",
        "import java.util.ArrayList;\n",
        "import java.util.List;\n",
        "import java.util.Scanner;\n",
        "\n",
        "public class Schedule {\n",
        "    public static void main(String[] args) {\n",
        "        int N = Integer.parseInt(args[0]);\n",
        "\n",
        "        List<Double> numbers = new ArrayList<>();\n",
        "        Scanner scanner = new Scanner(System.in);\n",
        "        for (int i = 0; i < N; i++) {\n",
        "            double number = scanner.nextDouble();\n",
        "            numbers.add(number);\n",
        "        }\n",
        "\n",
        "        List<Double> group1 = new ArrayList<>();\n",
        "        List<Double> group2 = new ArrayList<>();\n",
        "\n",
        "        partition(numbers, group1, group2);\n",
        "\n",
        "        System.out.println(\"Group 1: \" + group1);\n",
        "        System.out.println(\"Group 2: \" + group2);\n",
        "    }\n",
        "\n",
        "    private static void partition(List<Double> numbers, List<Double> group1, List<Double> group2) {\n",
        "        int N = numbers.size();\n",
        "        int[] dp = new int[N + 1];\n",
        "        double sum = 0;\n",
        "\n",
        "        for (double number : numbers) {\n",
        "            sum += number;\n",
        "        }\n",
        "\n",
        "        double targetSum = sum / 2;\n",
        "\n",
        "        for (int i = 0; i < N; i++) {\n",
        "            for (int j = N; j >= 1; j--) {\n",
        "                if (j >= numbers.get(i)) {\n",
        "                    dp[j] = Math.max(dp[j], dp[j - (int) numbers.get(i)] + (int) numbers.get(i));\n",
        "                }\n",
        "            }\n",
        "        }\n",
        "\n",
        "        double diff = Math.abs(targetSum - dp[N]);\n",
        "        double currentSum = dp[N];\n",
        "        int i = N;\n",
        "\n",
        "        while (i >= 0 && currentSum != targetSum) {\n",
        "            if (currentSum > targetSum) {\n",
        "                currentSum -= numbers.get(i - 1);\n",
        "                group2.add(numbers.get(i - 1));\n",
        "            } else {\n",
        "                group1.add(numbers.get(i - 1));\n",
        "            }\n",
        "            i--;\n",
        "        }\n",
        "    }\n",
        "}\n",
        "\n",
        "```"
      ],
      "metadata": {
        "id": "wtF9S2c3uuAB"
      }
    },
    {
      "cell_type": "markdown",
      "source": [
        "You can run the program by providing the number of input values $N$ and then entering the $N$ real numbers separated by spaces. For example:\n",
        "\n",
        "```\n",
        "java Schedule 6\n",
        "4.5 2.1 3.7 6.2 1.9 5.4\n",
        "```\n",
        "\n",
        "This will partition the numbers into two groups and print the contents of each group. The program uses dynamic programming to find the partition with the minimum difference between the sums of the two groups."
      ],
      "metadata": {
        "id": "Ivd4VBGBuyL4"
      }
    },
    {
      "cell_type": "markdown",
      "source": [
        "48. **Hofstadter–Conway $10,000 sequence**. \n",
        "\n",
        "Consider the following recursive function. $f(n) = f(f(n-1)) + f(n-f(n-1))$ for $n > 2$ and $f(1) = f(2) = 1$. Compute $f(3)$. Write a Java program to compute the first $50$ values of $f(n)$ in the Hofstadter–Conway $10,000 sequence. Use dynamic programming. This sequence has many fascinating properties and connects with Pascal's triangle, the Gaussian distribution, Fibonacci numbers, and Catalan numbers."
      ],
      "metadata": {
        "id": "5bk-mN25u-HZ"
      }
    },
    {
      "cell_type": "markdown",
      "source": [
        "Here's a Java program that computes the first 50 values of the Hofstadter–Conway 10,000 sequence using dynamic programming:"
      ],
      "metadata": {
        "id": "aJBeVT9MvRFw"
      }
    },
    {
      "cell_type": "markdown",
      "source": [
        "```\n",
        "public class HofstadterConwaySequence {\n",
        "    public static void main(String[] args) {\n",
        "        int n = 50;\n",
        "        int[] sequence = new int[n + 1];\n",
        "        sequence[1] = sequence[2] = 1;\n",
        "\n",
        "        for (int i = 3; i <= n; i++) {\n",
        "            sequence[i] = sequence[sequence[i - 1]] + sequence[i - sequence[i - 1]];\n",
        "        }\n",
        "\n",
        "        for (int i = 1; i <= n; i++) {\n",
        "            System.out.println(\"f(\" + i + \") = \" + sequence[i]);\n",
        "        }\n",
        "    }\n",
        "}\n",
        "\n",
        "```"
      ],
      "metadata": {
        "id": "0tNj2JLbvhUz"
      }
    },
    {
      "cell_type": "markdown",
      "source": [
        "This program uses an array sequence to store the values of the sequence. It starts with $sequence[1]$ and $sequence[2]$ initialized to $1$. Then, it uses a loop to compute the values of $sequence[i]$ for $i$ from $3$ to $50$ using the recursive formula $f(n) = f(f(n-1)) + f(n-f(n-1))$.\n",
        "\n",
        "Finally, it prints the computed values of $f(n)$ for $n$ from $1$ to $50$.\n",
        "\n",
        "You can run the program and observe the first $50$ values of the **Hofstadter–Conway 10,000 sequence**."
      ],
      "metadata": {
        "id": "Wfjx0qIbvl9-"
      }
    },
    {
      "cell_type": "markdown",
      "source": [
        "49. **Running time recurrences.** \n",
        "\n",
        "Use dynamic programming to compute a table of values $T(N)$, where $T(N)$ is the solution to the following divide-and-conquer recurrence. $T(1) = 0$, $T(N) = N + T(\\frac{N}{2}) + T(N - \\frac{N}{2})$ if $N > 1$."
      ],
      "metadata": {
        "id": "6AXZPV2rv6d0"
      }
    },
    {
      "cell_type": "markdown",
      "source": [
        "To compute the table of values $T(N)$ using dynamic programming, you can use an array to store the computed values and build up the table iteratively. Here's a Java program that computes the table of values $T(N)$ for a given input value $N$:"
      ],
      "metadata": {
        "id": "b6a_xRckweeV"
      }
    },
    {
      "cell_type": "markdown",
      "source": [
        "```\n",
        "public class DivideAndConquerTable {\n",
        "    public static void main(String[] args) {\n",
        "        int N = 10; // The input value\n",
        "        int[] table = new int[N + 1];\n",
        "\n",
        "        table[1] = 0;\n",
        "\n",
        "        for (int i = 2; i <= N; i++) {\n",
        "            table[i] = i + table[i / 2] + table[i - i / 2];\n",
        "        }\n",
        "\n",
        "        for (int i = 1; i <= N; i++) {\n",
        "            System.out.println(\"T(\" + i + \") = \" + table[i]);\n",
        "        }\n",
        "    }\n",
        "}\n",
        "\n",
        "```"
      ],
      "metadata": {
        "id": "-jPrC9HswlrV"
      }
    },
    {
      "cell_type": "markdown",
      "source": [
        "In this program, the array table is used to store the computed values of $T(N)$. It starts with $table[1]$ initialized to $0$.\n",
        "\n",
        "Then, it iteratively computes the values of $T(N)$ for $N$ from $2$ to the given input value $N$ using the recurrence relation $T(N) = N + T\\frac{N}{2} + T(N - \\frac{N}{2})$.\n",
        "\n",
        "Finally, it prints the computed values of $T(N)$ for $N$ from $1$ to the given input value $N$.\n",
        "\n",
        "You can modify the value of $N$ in the program to compute the table of values for different input values."
      ],
      "metadata": {
        "id": "W5wnc2BNwpi-"
      }
    },
    {
      "cell_type": "markdown",
      "source": [
        "50. **Gas station optimization**. \n",
        "\n",
        "You are driving from Princeton to San Francisco in a car that gets 25 miles per gallon and has a gas tank capacity of 15 gallons. Along the way, there are N gas stations where you can stop for gas. Gas station $i$ is $d[i]$ miles into the trip and sells gas for $p[i]$ dollars per gallon. If you stop at station $i$ for gas, you must completely fill up your tank. Assume that you start with a full tank and that the $d[i]$ are integers. Use dynamic programming to find a minimum cost sequence of stops."
      ],
      "metadata": {
        "id": "elfMPULvxJai"
      }
    },
    {
      "cell_type": "markdown",
      "source": [
        "\n",
        "To solve the gas station optimization problem using dynamic programming, we can use the following approach:\n",
        "\n",
        "- Initialize an array $dp$ of size $N+1$ to store the minimum cost to reach each gas station.\n",
        "- Set $dp[0]$ to $0$, representing the cost to reach the starting point (Princeton) is $0$.\n",
        "- For each gas station $i$ from $1$ to $N$, calculate the minimum cost $dp[i]$ by considering all possible previous stops. Iterate from $j = i-1$ to $0$ and compute the cost of stopping at each previous gas station $j$. The cost is the sum of the cost to reach station $j$ plus the cost of the gas needed to travel from station $j$ to station $i$.\n",
        "- Choose the minimum cost among all possible previous stops and assign it to $dp[i]$.\n",
        "- Finally, the minimum cost to reach the destination (San Francisco) is given by $dp[N]$.\n",
        "\n",
        "Here's a Java program that implements the above approach:"
      ],
      "metadata": {
        "id": "SI0LPaujxjnB"
      }
    },
    {
      "cell_type": "markdown",
      "source": [
        "```\n",
        "public class GasStationOptimization {\n",
        "    public static void main(String[] args) {\n",
        "        int[] d = {0, 100, 200, 300, 400}; // distances to gas stations\n",
        "        double[] p = {0, 3.5, 3.2, 3.7, 3.1}; // gas prices at each station\n",
        "        int N = d.length - 1; // number of gas stations\n",
        "        int tankCapacity = 15; // gas tank capacity\n",
        "        double mpg = 25; // miles per gallon\n",
        "\n",
        "        double[] dp = new double[N + 1];\n",
        "        dp[0] = 0.0;\n",
        "\n",
        "        for (int i = 1; i <= N; i++) {\n",
        "            dp[i] = Double.POSITIVE_INFINITY;\n",
        "            for (int j = i - 1; j >= 0; j--) {\n",
        "                double distance = d[i] - d[j];\n",
        "                double gallonsNeeded = distance / mpg;\n",
        "                double cost = dp[j] + gallonsNeeded * p[i];\n",
        "\n",
        "                dp[i] = Math.min(dp[i], cost);\n",
        "            }\n",
        "        }\n",
        "\n",
        "        System.out.println(\"Minimum cost to reach San Francisco: $\" + dp[N]);\n",
        "    }\n",
        "}\n",
        "\n",
        "```"
      ],
      "metadata": {
        "id": "UjITHQJCyXQF"
      }
    },
    {
      "cell_type": "markdown",
      "source": [
        "In this program, we have an example with $5$ gas stations $(N = 4)$. The distances to the gas stations are stored in the $d$ array, and the gas prices are stored in the p array.\n",
        "\n",
        "The program calculates the minimum cost to reach each gas station using the dynamic programming approach described above. The final minimum cost to reach San Francisco is printed as the output.\n",
        "\n",
        "You can modify the values of $d, p, tankCapacity$, and $mpg$ in the program to solve the gas station optimization problem for different scenarios."
      ],
      "metadata": {
        "id": "PwDeNyl8ycbM"
      }
    },
    {
      "cell_type": "markdown",
      "source": [
        "51. "
      ],
      "metadata": {
        "id": "5TQq9XKHyrqg"
      }
    }
  ]
}