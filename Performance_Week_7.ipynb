{
  "nbformat": 4,
  "nbformat_minor": 0,
  "metadata": {
    "colab": {
      "provenance": [],
      "collapsed_sections": [
        "7r-trvbVCtKR",
        "qIsDCgT5Kvu4"
      ],
      "toc_visible": true,
      "authorship_tag": "ABX9TyMpEvwBuyrTFd5U8wmLERYE",
      "include_colab_link": true
    },
    "kernelspec": {
      "name": "python3",
      "display_name": "Python 3"
    },
    "language_info": {
      "name": "python"
    }
  },
  "cells": [
    {
      "cell_type": "markdown",
      "metadata": {
        "id": "view-in-github",
        "colab_type": "text"
      },
      "source": [
        "<a href=\"https://colab.research.google.com/github/SpenBobCat/Computer_Science/blob/main/Performance_Week_7.ipynb\" target=\"_parent\"><img src=\"https://colab.research.google.com/assets/colab-badge.svg\" alt=\"Open In Colab\"/></a>"
      ]
    },
    {
      "cell_type": "markdown",
      "source": [
        "Computer Science: An Interdisciplinary Approach\n",
        "\n",
        "Chapter 4.1 - Analysis of Algorithms - Week_7\n",
        "\n",
        "# **Performance**\n",
        "\n",
        "By: Michael Spencer 5/29/2023"
      ],
      "metadata": {
        "id": "Zt9NIUiOBt1Y"
      }
    },
    {
      "cell_type": "markdown",
      "source": [
        "# **Optional Enrichment on Performance:**\n",
        "\n",
        "*These exercises from our book Computer Science: An Interdisciplinary Approach are an opportunity to study in further depth what you have learned from the lectures.*"
      ],
      "metadata": {
        "id": "7r-trvbVCtKR"
      }
    },
    {
      "cell_type": "markdown",
      "source": [
        "## 4.1.28 **Three-sum analysis.** \n",
        "\n",
        "Calculate the probability that no triple among n random 32-bit integers sums to 0. Extra credit: Give an approximate formula for the expected number of such triples (as a function of n), and run experiments to validate your estimate"
      ],
      "metadata": {
        "id": "zm2f5PabC7-w"
      }
    },
    {
      "cell_type": "markdown",
      "source": [
        "This problem is rather complex and does not have an exact solution. However, we can approximate the solutions based on some assumptions.\n",
        "\n",
        "- Probability that no triple among $n$ random 32-bit integers sums to $0$:\n",
        "We can assume that the integers are uniformly distributed across the 32-bit integer range. Then, for any given triple, the probability that they sum to zero is approximately $\\frac{1}{2^{32}}$. Since there are about $\\frac{n^3}{6}$ distinct triples, we would expect about $\\frac{n^3}{6*2^{32}}$ of them to sum to zero.\n",
        "\n",
        "Therefore, the probability that none of them sum to zero is approximately:\n",
        "\n",
        "$P = (1 - \\frac{1}{2^{32}}^\\frac{n^3}{6})$\n",
        "\n",
        "As $n$ gets large, this will become very small.\n",
        "\n",
        "Expected number of triples that sum to 0:\n",
        "\n",
        "As per the above argument, the expected number of triples that sum to zero is about $\\frac{n^3}{6*2^{32}}$.\n",
        "\n",
        "You can write a program to test these hypotheses by generating random triples and checking whether they sum to zero. However, you will need a large number of trials (ideally on the order of $2^{32}$ to get an accurate result. Due to the computational intensity of this task, it's advisable to use a statistical sampling approach or to conduct the experiment with smaller numbers (e.g., 16-bit integers) to validate the approximation."
      ],
      "metadata": {
        "id": "Z8D-VcSQDePZ"
      }
    },
    {
      "cell_type": "markdown",
      "source": [
        "Here's a simple Python program using random module to generate 32-bit integers and count the number of triples that sum to zero. This code generates 1000 random integers and checks every triple, so it will be quite slow for larger inputs, but it can be useful to get an intuition for smaller inputs:"
      ],
      "metadata": {
        "id": "OqIxQ2CaFwJC"
      }
    },
    {
      "cell_type": "code",
      "source": [
        "import random\n",
        "\n",
        "def count_zero_sum_triples(n):\n",
        "    # Generate list of n random 32-bit integers\n",
        "    ints = [random.randint(-2**31, 2**31 - 1) for _ in range(n)]\n",
        "\n",
        "    # Count triples that sum to zero\n",
        "    zero_sum_triples = 0\n",
        "    for i in range(n):\n",
        "        for j in range(i + 1, n):\n",
        "            for k in range(j + 1, n):\n",
        "                if ints[i] + ints[j] + ints[k] == 0:\n",
        "                    zero_sum_triples += 1\n",
        "\n",
        "    return zero_sum_triples\n",
        "\n",
        "n = 1000  # Adjust this value to test with different number of integers\n",
        "print(\"Number of zero-sum triples:\", count_zero_sum_triples(n))\n"
      ],
      "metadata": {
        "colab": {
          "base_uri": "https://localhost:8080/"
        },
        "id": "QxZp7Yx9Bus_",
        "outputId": "651afdcd-42ec-4c48-e603-5b2be5ab3e3c"
      },
      "execution_count": null,
      "outputs": [
        {
          "output_type": "stream",
          "name": "stdout",
          "text": [
            "Number of zero-sum triples: 0\n"
          ]
        }
      ]
    },
    {
      "cell_type": "markdown",
      "source": [
        "This code generates a list of $n$ random integers and then checks each possible triple to see if it sums to zero. It counts the number of such triples and returns this count."
      ],
      "metadata": {
        "id": "yj7n2M7LF2D6"
      }
    },
    {
      "cell_type": "markdown",
      "source": [
        "## 4.1.33 **Array rotation.** \n",
        "\n",
        "Given an array of $n$ elements, give a linear-time algorithm to rotate the array k positions. That is, if the array contains $a[0], a[1], …, a[n–1]$ , the rotated array is $a[k], a[k+1], …, a[n–1], a[0], …, a[k–1]$. Use at most a constant amount of extra memory. Hint : Reverse three subarrays."
      ],
      "metadata": {
        "id": "q9MZC-9JF8pi"
      }
    },
    {
      "cell_type": "markdown",
      "source": [
        "Given an array a, we can achieve a rotation by k positions using a linear-time algorithm with constant extra memory by applying the reversal operation three times. Here are the steps:\n",
        "\n",
        "- Reverse the entire array.\n",
        "- Reverse the first k elements.\n",
        "- Reverse the remaining n-k elements.\n",
        "\n",
        "Here is a Python function implementing this method:"
      ],
      "metadata": {
        "id": "Ymg2lEG1GhM9"
      }
    },
    {
      "cell_type": "code",
      "execution_count": null,
      "metadata": {
        "colab": {
          "base_uri": "https://localhost:8080/"
        },
        "id": "j4AbU799Br4x",
        "outputId": "c78e719a-30bb-485c-bc09-ee18af5a38c9"
      },
      "outputs": [
        {
          "output_type": "stream",
          "name": "stdout",
          "text": [
            "[5, 6, 7, 1, 2, 3, 4]\n"
          ]
        }
      ],
      "source": [
        "def rotate_array(a, k):\n",
        "    n = len(a)\n",
        "    k %= n  # Adjust for k >= n\n",
        "\n",
        "    # Reverse entire array\n",
        "    a = a[::-1]\n",
        "\n",
        "    # Reverse first k elements\n",
        "    a[:k] = a[:k][::-1]\n",
        "\n",
        "    # Reverse remaining n-k elements\n",
        "    a[k:] = a[k:][::-1]\n",
        "\n",
        "    return a\n",
        "\n",
        "# Usage\n",
        "a = [1, 2, 3, 4, 5, 6, 7]\n",
        "k = 3\n",
        "print(rotate_array(a, k))  # Output: [5, 6, 7, 1, 2, 3, 4]\n"
      ]
    },
    {
      "cell_type": "markdown",
      "source": [
        "**In this code:**\n",
        "\n",
        "- $a[::-1]$ creates a reversed copy of $a$.\n",
        "- $a[:k][::-1]$ creates a reversed copy of the first $k$ elements of $a$.\n",
        "- $a[k:][::-1]$ creates a reversed copy of the remaining $n-k$ elements of $a$.\n",
        "\n",
        "The function first reverses the entire array, then reverses the first $k$ elements and the last $n-k$ elements. The resulting array is a rotation of the original array by $k$ positions.\n",
        "\n",
        "The time complexity of this algorithm is $O(n)$ because each reversal operation takes linear time. The space complexity is $O(1)$ because the reversal operations are performed in-place, using a constant amount of extra memory."
      ],
      "metadata": {
        "id": "8ve746kdG2Et"
      }
    },
    {
      "cell_type": "markdown",
      "source": [
        " ## 4.1.34 **Finding a repeated integer.** \n",
        " \n",
        " (a) Given an array of n integers from $1$ to $n$ with one value repeated twice and one missing, design an algorithm that finds the duplicated value, in linear time and constant extra memory. Integer overflow is not allowed. \n",
        " \n",
        " (b) Given a read-only array of $n$ integers, where each value from $1$ to $n–1$ occurs once and one occurs twice, design an algorithm that finds the duplicated value, in linear time and constant extra memory. \n",
        " \n",
        " (c) Given a read-only array of n integers with values between $1$ and $n–1$, design an algorithm that finds a duplicated value, in linear time and constant extra memory."
      ],
      "metadata": {
        "id": "jmjizhbJHSd0"
      }
    },
    {
      "cell_type": "markdown",
      "source": [
        "(a) Here's an algorithm that uses the properties of arithmetic series to solve this problem:\n",
        "\n",
        "- Calculate the expected sum of numbers from 1 to n using the formula n*(n+1)/2.\n",
        "- Calculate the actual sum of the array.\n",
        "- Calculate the expected sum of squares from 1 to n using the formula n*(n+1)*(2*n+1)/6.\n",
        "- Calculate the actual sum of squares of the array.\n",
        "- Use the difference between the expected and actual sums and the difference between the expected and actual sum of squares to solve for the repeated and missing numbers.\n",
        "\n",
        "This algorithm works because the repeated number contributes an extra repeated to the actual sum and an extra repeated*repeated to the actual sum of squares. Similarly, the missing number contributes less missing to the actual sum and less missing*missing to the actual sum of squares. Solving these equations gives the repeated and missing numbers.\n",
        "\n",
        "(b) This can be solved by the Floyd's Tortoise and Hare (Cycle Detection) algorithm:\n",
        "\n",
        "- Initialize two pointers, slow and fast, to point to the first element of the array.\n",
        "- Move slow one step at a time, and fast two steps at a time, until they meet. Because there's a duplicate, they're guaranteed to meet.\n",
        "- Once they've met, reinitialize the slow pointer to the first element of the array, and leave the fast pointer at the meeting point.\n",
        "- Move slow and fast one step at a time until they meet again. The point where they meet is the duplicated number.\n",
        "\n",
        "(c) This problem is similar to (b), and can be solved by the same Floyd's Tortoise and Hare (Cycle Detection) algorithm. The reason it still works is that the values in the array can be used as indices, and the duplicated value will create a cycle in this \"index graph\". The algorithm finds this cycle and therefore the duplicated number."
      ],
      "metadata": {
        "id": "UYz16ebMH7HU"
      }
    },
    {
      "cell_type": "markdown",
      "source": [
        "(a) Algorithm using properties of arithmetic series:"
      ],
      "metadata": {
        "id": "1NjZdPQ8KVQn"
      }
    },
    {
      "cell_type": "code",
      "source": [
        "def find_duplicate_and_missing(nums):\n",
        "    n = len(nums)\n",
        "    \n",
        "    expected_sum = n*(n+1)//2\n",
        "    actual_sum = sum(nums)\n",
        "    \n",
        "    expected_sq_sum = n*(n+1)*(2*n+1)//6\n",
        "    actual_sq_sum = sum(i**2 for i in nums)\n",
        "    \n",
        "    diff = expected_sum - actual_sum\n",
        "    diff_sq = expected_sq_sum - actual_sq_sum\n",
        "    \n",
        "    missing = (diff_sq // diff + diff) // 2\n",
        "    duplicate = diff_sq // diff - missing\n",
        "    \n",
        "    return duplicate, missing\n",
        "\n",
        "nums = [1, 2, 3, 4, 4, 6]  # Example usage\n",
        "print(find_duplicate_and_missing(nums))  # Output: (4, 5)\n"
      ],
      "metadata": {
        "colab": {
          "base_uri": "https://localhost:8080/"
        },
        "id": "rO8gTNreKX7J",
        "outputId": "df6efcfd-209a-4f93-838c-33fecad1d2f3"
      },
      "execution_count": null,
      "outputs": [
        {
          "output_type": "stream",
          "name": "stdout",
          "text": [
            "(4, 5)\n"
          ]
        }
      ]
    },
    {
      "cell_type": "markdown",
      "source": [
        "(b) Floyd's Tortoise and Hare (Cycle Detection) algorithm:"
      ],
      "metadata": {
        "id": "Oaz61LShKbI_"
      }
    },
    {
      "cell_type": "code",
      "source": [
        "def find_duplicate(nums):\n",
        "    slow = fast = nums[0]\n",
        "    \n",
        "    while True:\n",
        "        slow = nums[slow]\n",
        "        fast = nums[nums[fast]]\n",
        "        if slow == fast:\n",
        "            break\n",
        "\n",
        "    slow = nums[0]\n",
        "    while slow != fast:\n",
        "        slow = nums[slow]\n",
        "        fast = nums[fast]\n",
        "    \n",
        "    return fast\n",
        "\n",
        "nums = [1, 3, 4, 2, 2]  # Example usage\n",
        "print(find_duplicate(nums))  # Output: 2\n"
      ],
      "metadata": {
        "colab": {
          "base_uri": "https://localhost:8080/"
        },
        "id": "Ch-dWAxEKePP",
        "outputId": "1c183389-436a-4801-a67d-ba9c37ecda04"
      },
      "execution_count": null,
      "outputs": [
        {
          "output_type": "stream",
          "name": "stdout",
          "text": [
            "2\n"
          ]
        }
      ]
    },
    {
      "cell_type": "markdown",
      "source": [
        "(c) For the problem in (c), the implementation will be the same as in (b) because the algorithm doesn't change:"
      ],
      "metadata": {
        "id": "3vStL8RjKhZn"
      }
    },
    {
      "cell_type": "code",
      "source": [
        "def find_duplicate(nums):\n",
        "    slow = fast = nums[0]\n",
        "    \n",
        "    while True:\n",
        "        slow = nums[slow]\n",
        "        fast = nums[nums[fast]]\n",
        "        if slow == fast:\n",
        "            break\n",
        "\n",
        "    slow = nums[0]\n",
        "    while slow != fast:\n",
        "        slow = nums[slow]\n",
        "        fast = nums[fast]\n",
        "    \n",
        "    return fast\n",
        "\n",
        "nums = [3, 1, 3, 4, 2]  # Example usage\n",
        "print(find_duplicate(nums))  # Output: 3\n"
      ],
      "metadata": {
        "colab": {
          "base_uri": "https://localhost:8080/"
        },
        "id": "YrU64Ab8KkDY",
        "outputId": "b8b0a984-410f-4cba-eee5-9c1db66d6d48"
      },
      "execution_count": null,
      "outputs": [
        {
          "output_type": "stream",
          "name": "stdout",
          "text": [
            "3\n"
          ]
        }
      ]
    },
    {
      "cell_type": "markdown",
      "source": [
        "# **Exercises:** 1, 3, 7, 9, 12, 16, 20 "
      ],
      "metadata": {
        "id": "qIsDCgT5Kvu4"
      }
    },
    {
      "cell_type": "markdown",
      "source": [
        "## 1. **ThreeSum.java - printAll() method.**\n",
        "\n",
        "Implement the method printAll() for ThreeSum.java, which prints all of the triples that sum to zero."
      ],
      "metadata": {
        "id": "NR0GjrInLMon"
      }
    },
    {
      "cell_type": "markdown",
      "source": [
        "```\n",
        "public class ThreeSum {\n",
        "    public static void printAll(int[] arr) {\n",
        "        int n = arr.length;\n",
        "\n",
        "        for (int i = 0; i < n - 2; i++) {\n",
        "            // To find the two other elements, start two index variables from \n",
        "            // two corners of the array and move them toward each other\n",
        "            int l = i + 1; // index of the first element in the remaining elements\n",
        "            int r = n - 1; // index of the last element\n",
        "            int x = arr[i];\n",
        "            while (l < r) {\n",
        "                if (x + arr[l] + arr[r] == 0) {\n",
        "                    // Print elements if sum is zero\n",
        "                    System.out.println(x + \" \" + arr[l] + \" \" + arr[r]);\n",
        "                    l++;\n",
        "                    r--;\n",
        "                }\n",
        "                // If sum of three elements is less than zero,\n",
        "                // then increment in left\n",
        "                else if (x + arr[l] + arr[r] < 0)\n",
        "                    l++;\n",
        "                // if sum is greater than zero, then decrement in right side\n",
        "                else\n",
        "                    r--;\n",
        "            }\n",
        "        }\n",
        "    }\n",
        "\n",
        "    public static void main(String[] args) {\n",
        "        int arr[] = {-1, 0, 1, 2, -1, -4};\n",
        "        Arrays.sort(arr);\n",
        "        printAll(arr);\n",
        "    }\n",
        "}\n",
        "\n",
        "```"
      ],
      "metadata": {
        "id": "akCn6gntLmwA"
      }
    },
    {
      "cell_type": "markdown",
      "source": [
        "## 3. **FourSum.java.**\n",
        "\n",
        "Write a program FourSum.java that takes an integer reads long integers from standard input, and counts the number of 4-tuples that sum to zero. Use a quadruple nested loop. What is the order of growth of the running time of your program? Estimate the largest input size that your program can handle in an hour. Then, run your program to validate your hypothesis."
      ],
      "metadata": {
        "id": "XCrGsz6uL_Lo"
      }
    },
    {
      "cell_type": "markdown",
      "source": [
        "```\n",
        "public class FourSum {\n",
        "    public static int count(int[] a) {\n",
        "        int N = a.length;\n",
        "        int count = 0;\n",
        "        for (int i = 0; i < N; i++) {\n",
        "            for (int j = i+1; j < N; j++) {\n",
        "                for (int k = j+1; k < N; k++) {\n",
        "                    for (int l = k+1; l < N; l++) {\n",
        "                        if (a[i] + a[j] + a[k] + a[l] == 0) {\n",
        "                            count++;\n",
        "                        }\n",
        "                    }\n",
        "                }\n",
        "            }\n",
        "        }\n",
        "        return count;\n",
        "    }\n",
        "\n",
        "    public static void main(String[] args) {\n",
        "        int[] a = In.readInts(args[0]);\n",
        "        StdOut.println(count(a));\n",
        "    }\n",
        "}\n",
        "\n",
        "```"
      ],
      "metadata": {
        "id": "1vWpHFMBMPJP"
      }
    },
    {
      "cell_type": "markdown",
      "source": [
        "## 7. **Variable Count Value.**\n",
        "\n",
        "What is the value of the variable count, as a function of $n$\n",
        ", after running the following code fragment?\n",
        "\n",
        "```\n",
        "int count = 0;\n",
        "for (int i = 0; i < n; i++)\n",
        "    for (int j = i+1; j < n; j++)\n",
        "        for (int k = j+1; k < n; k++)\n",
        "            count++;\n",
        "```\n",
        "\n"
      ],
      "metadata": {
        "id": "6UFzeBUlMTKA"
      }
    },
    {
      "cell_type": "markdown",
      "source": [
        "The variable count increments every time the innermost loop executes. The innermost loop (with $k$) executes once for each distinct ordered pair $(i, j)$ where $i$ and $j$ are distinct and $i < j$. This is equivalent to selecting 3 items out of $n$, without regard to the order of selection, also known as \"$n$ choose 3\".\n",
        "\n",
        "The number of such combinations is given by the binomial coefficient formula:\n",
        "\n",
        "```\n",
        "C(n, 3) = n! / [(n-3)! * 3!]\n",
        "\n",
        "```\n",
        "\n",
        "So, count would be equal to the number of ways to choose 3 items out of $n$. Note that this formula is valid only for $n \\ge 3$. If $n < 3$, count will remain 0 because the loops won't execute.\n",
        "\n",
        "In other words, the value of count as a function of $n$ would be count$(n)$ = $\\frac{n*(n-1)*(n-2)}{6}$ for $n \\ge 3$, and count$(n) = 0$ for $n < 3$."
      ],
      "metadata": {
        "id": "tq4JtHO0OWR8"
      }
    },
    {
      "cell_type": "markdown",
      "source": [
        "**Solution:** $\\dbinom{n}{3}$ = $\\frac{n(n − 1)(n-2)}{6}$"
      ],
      "metadata": {
        "id": "NWSNmJxGM7Wq"
      }
    },
    {
      "cell_type": "markdown",
      "source": [
        "## 9. **Order of Growth - ThreeSum.** \n",
        "\n",
        "Determine the order of growth of the running time of this statement in ThreeSum as a function of the number of integers n on standard input:\n",
        "\n",
        "```\n",
        "int[] a = StdIn.readAllInts(); \n",
        "```"
      ],
      "metadata": {
        "id": "gROXY3fDPHKt"
      }
    },
    {
      "cell_type": "markdown",
      "source": [
        "Reading integers from standard input is a **linear operation**. That is, the running time of StdIn.readAllInts() is proportional to the number of integers $n$ on standard input. Therefore, the order of growth of the running time of this statement is $O(n)$.\n",
        "\n",
        "The reasoning behind this is straightforward: the function needs to process each integer exactly once. This holds true regardless of the actual values of the integers."
      ],
      "metadata": {
        "id": "rH3nJXmnPfuM"
      }
    },
    {
      "cell_type": "markdown",
      "source": [
        "**Solution**: Linear. The bottlenecks are the array initialization and the input loop. Depending on your system, however, the cost of an input loop like this might dominate in a linearithmic-time or even a quadratic-time program unless the input size is sufficiently large."
      ],
      "metadata": {
        "id": "59GpNQdxPaiM"
      }
    },
    {
      "cell_type": "markdown",
      "source": [
        "## 12. **Which would you prefer: a quadratic, linearithmic, or linear algorithm?**"
      ],
      "metadata": {
        "id": "I_Z0u_TmPvHE"
      }
    },
    {
      "cell_type": "markdown",
      "source": [
        "When choosing an algorithm based on its time complexity, it is typically best to prefer the algorithm with the lowest order of growth in its running time, because this means it will scale best with increasing input size. So, between a quadratic, linearithmic, and linear algorithm, the linear algorithm would generally be the preferred choice.\n",
        "\n",
        "Here's a quick rundown of these time complexities:\n",
        "\n",
        "1. Linear $(O(n))$: The running time increases proportionally with the input size. This is the most ideal situation among the three mentioned, as it signifies that the algorithm handles larger inputs efficiently.\n",
        "\n",
        "2. Linearithmic $(O(n log n))$: The running time increases proportionally with the input size and the logarithm of the input size. This is typically seen in algorithms that use a divide-and-conquer strategy, such as mergesort or heapsort. It's less efficient than a linear algorithm, but still scales quite well with large inputs.\n",
        "\n",
        "3. Quadratic $(O(n^2))$: The running time increases with the square of the input size. Quadratic algorithms, such as bubble sort or insertion sort, can be very slow on large inputs and are generally not suitable for large datasets.\n",
        "\n",
        "However, these are not the only factors to consider when choosing an algorithm. For instance, an algorithm's space complexity (how much memory it uses) is also important, as is its simplicity, its constant factors (which can make a big difference for small inputs, even if they don't affect the order of growth), and how well it fits the specific requirements of your task."
      ],
      "metadata": {
        "id": "cCITTvzJQBJN"
      }
    },
    {
      "cell_type": "markdown",
      "source": [
        "**Solution:** While it is tempting to make a quick decision based on the order of growth, it is very easy to be misled by doing so. You need to have some idea of the problem size and of the relative value of the leading coefficients of the running time. For example, suppose that the running times are $n^2$ seconds, $100n log_2n$ seconds, and $10000n$ seconds. The quadratic algorithm will be fastest for $n$ up to about $1000$, and the linear algorithm will never be faster than the linearithmic one ($n$ would have to be greater than $2100$, far too large to bother considering)."
      ],
      "metadata": {
        "id": "vjsX6eB_QBr9"
      }
    },
    {
      "cell_type": "markdown",
      "source": [
        "## 16. **Scientific Method.**\n",
        "\n",
        "Apply the scientific method to develop and validate a hypothesis about order of growth of the running time of each of the following two code fragments as a function of $n$:\n",
        "\n",
        "```\n",
        "String s = \"\"; \n",
        "for (int i = 0; i < n; i++) {\n",
        "    if (StdRandom.bernoulli(0.5)) s += \"0\"; \n",
        "    else                          s += \"1\"; \n",
        "}\n",
        " \n",
        "StringBuilder sb = new StringBuilder(); \n",
        "for (int i = 0; i < n; i++) {\n",
        "    if (StdRandom.bernoulli(0.5)) sb.append(\"0\"); \n",
        "    else                          sb.append(\"1\"); \n",
        "}\n",
        "String s = sb.toString();\n",
        "```\n"
      ],
      "metadata": {
        "id": "J1MRUtpWQGOd"
      }
    },
    {
      "cell_type": "markdown",
      "source": [
        "The scientific method can be applied in the following way to hypothesize and validate the order of growth of the running time of these code fragments:\n",
        "\n",
        "1. **Observation:** Each of these code fragments appears to have a loop that runs n times, but the operations inside the loop may have different time complexities.\n",
        "\n",
        "2. **Hypothesis**: \n",
        "  - For the first code fragment, each concatenation operation (s += \"0\" or s += \"1\") involves creating a new String object because String is immutable in Java. This means that the time complexity of the concatenation operation is proportional to the length of the string, which grows with each iteration. Therefore, we can hypothesize that the order of growth of the running time for the first code fragment is quadratic, or $O(n^2)$.\n",
        "\n",
        "  - For the second code fragment, it uses a StringBuilder object. The append() operation on a StringBuilder has an average time complexity of $O(1)$. Thus, we can hypothesize that the order of growth of the running time for the second code fragment is linear, or $O(n)$.\n",
        "\n",
        "3. **Experimentation**: We can validate these hypotheses by running the code fragments with different values of n and measuring the running times. This can be done using Java's System.nanoTime() function to measure the time before and after each code fragment, and repeating this with different n values. It's important to run these tests in a controlled environment, ensuring that the CPU is not under heavy load from other processes which could skew the results.\n",
        "\n",
        "4. **Analysis**: After collecting the running times, plot them against n on a log-log scale. If the first code fragment has a quadratic time complexity, its plot should form a straight line with a slope of 2. If the second code fragment has a linear time complexity, its plot should form a straight line with a slope of 1.\n",
        "\n",
        "5. **Conclusion**: The slopes of the lines in the log-log plots will confirm or refute the hypotheses. If the slopes match our hypotheses, we can conclude that they were correct. If not, we would need to reevaluate and form new hypotheses."
      ],
      "metadata": {
        "id": "Jl3TF9rFRd1m"
      }
    },
    {
      "cell_type": "markdown",
      "source": [
        "**Solution**: The first is quadratic; the second is linear."
      ],
      "metadata": {
        "id": "XgcaMaicRaPQ"
      }
    },
    {
      "cell_type": "markdown",
      "source": [
        "## 20. **linear-time algorithm**\n",
        "\n",
        "Give a linear-time algorithm for reversing a string."
      ],
      "metadata": {
        "id": "bOWOzqDrSS4A"
      }
    },
    {
      "cell_type": "code",
      "source": [
        "def reverse_string(s):\n",
        "    s = list(s)  # Convert string to list because strings are immutable in Python\n",
        "    start = 0\n",
        "    end = len(s) - 1\n",
        "\n",
        "    while start < end:\n",
        "        # Swap characters\n",
        "        s[start], s[end] = s[end], s[start]\n",
        "        # Move pointers\n",
        "        start += 1\n",
        "        end -= 1\n",
        "\n",
        "    return ''.join(s)  # Convert list back to string\n"
      ],
      "metadata": {
        "id": "tNkNWwt2TH8b"
      },
      "execution_count": null,
      "outputs": []
    },
    {
      "cell_type": "markdown",
      "source": [
        "```\n",
        "public static String reverseString(String s) {\n",
        "    char[] sArray = s.toCharArray();\n",
        "    int start = 0;\n",
        "    int end = sArray.length - 1;\n",
        "\n",
        "    while (start < end) {\n",
        "        // Swap characters\n",
        "        char temp = sArray[start];\n",
        "        sArray[start] = sArray[end];\n",
        "        sArray[end] = temp;\n",
        "        // Move pointers\n",
        "        start++;\n",
        "        end--;\n",
        "    }\n",
        "\n",
        "    return new String(sArray);\n",
        "}\n",
        "\n",
        "```"
      ],
      "metadata": {
        "id": "cRFKsmGtS3sI"
      }
    },
    {
      "cell_type": "markdown",
      "source": [
        "**Solution**: \n",
        "\n",
        "```\n",
        "public static String reverse(String s) {\n",
        "    int n = s.length();\n",
        "    char[] a = new char[n];\n",
        "    for (int i = 0; i < n; i++)\n",
        "       a[i] = s.charAt(n-i-1);\n",
        "    String reverse = new String(a);\n",
        "    return reverse;\n",
        "}\n",
        "```"
      ],
      "metadata": {
        "id": "Bi2MFaMMSr6w"
      }
    },
    {
      "cell_type": "markdown",
      "source": [
        "# **Creative Exercises:** 31, 39"
      ],
      "metadata": {
        "id": "0uIvj-VrTiep"
      }
    },
    {
      "cell_type": "markdown",
      "source": [
        "## 31. "
      ],
      "metadata": {
        "id": "HTTDsjluTtpQ"
      }
    }
  ]
}