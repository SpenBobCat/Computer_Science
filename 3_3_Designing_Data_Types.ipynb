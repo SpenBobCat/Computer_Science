{
  "nbformat": 4,
  "nbformat_minor": 0,
  "metadata": {
    "colab": {
      "provenance": [],
      "toc_visible": true,
      "authorship_tag": "ABX9TyMZUjY/j0B7kD0Bq2gLSAXp",
      "include_colab_link": true
    },
    "kernelspec": {
      "name": "python3",
      "display_name": "Python 3"
    },
    "language_info": {
      "name": "python"
    }
  },
  "cells": [
    {
      "cell_type": "markdown",
      "metadata": {
        "id": "view-in-github",
        "colab_type": "text"
      },
      "source": [
        "<a href=\"https://colab.research.google.com/github/SpenBobCat/Computer_Science/blob/main/3_3_Designing_Data_Types.ipynb\" target=\"_parent\"><img src=\"https://colab.research.google.com/assets/colab-badge.svg\" alt=\"Open In Colab\"/></a>"
      ]
    },
    {
      "cell_type": "markdown",
      "source": [
        "# 3.3 Designing Data Types.\n",
        "\n",
        "University of Princeton - Computer Science: An Interdisciplinary Approach - Coursera\n",
        "\n",
        "By: Michael Spencer 6/19/2023"
      ],
      "metadata": {
        "id": "hGZ46u52b-w6"
      }
    },
    {
      "cell_type": "markdown",
      "source": [
        "## Exercises.\n"
      ],
      "metadata": {
        "id": "mDElN325ca3_"
      }
    },
    {
      "cell_type": "markdown",
      "source": [
        "### 4. Vector.java\n",
        "\n",
        "Give an implementation of minus() for Vector.java solely in terms of the other Vector methods, such as direction() and magnitude().\n",
        "\n",
        "Solution:\n",
        "\n",
        "```\n",
        "public Vector minus(Vector that) {\n",
        "    return this.plus(that.scale(-1.0));\n",
        "}\n",
        "```\n"
      ],
      "metadata": {
        "id": "qCpZawnIcsXL"
      }
    },
    {
      "cell_type": "markdown",
      "source": [
        "```\n",
        "public Vector minus(Vector that) {\n",
        "    return this.plus(that.scale(-1.0));\n",
        "}\n",
        "```\n"
      ],
      "metadata": {
        "id": "jhuczF3WdGjj"
      }
    },
    {
      "cell_type": "code",
      "source": [
        "# Python Equivalent of Vector.java:\n",
        "\n",
        "def minus(self, that):\n",
        "    return self.plus(that.scale(-1.0))\n"
      ],
      "metadata": {
        "id": "BRe-uRLLdVJV"
      },
      "execution_count": 1,
      "outputs": []
    },
    {
      "cell_type": "markdown",
      "source": [
        "### 14. Add toString() method.\n",
        "\n",
        "Add a toString() method to Vector.java that returns the vector components, separated by commas, and enclosed in matching parentheses."
      ],
      "metadata": {
        "id": "Q9Tm2t-fdeaT"
      }
    },
    {
      "cell_type": "markdown",
      "source": [
        "```\n",
        "public class Vector {\n",
        "    private double x;\n",
        "    private double y;\n",
        "    private double z;\n",
        "\n",
        "    // Constructor and other methods...\n",
        "\n",
        "    @Override\n",
        "    public String toString() {\n",
        "        return \"(\" + x + \", \" + y + \", \" + z + \")\";\n",
        "    }\n",
        "}\n",
        "```"
      ],
      "metadata": {
        "id": "g-m_DIzud_td"
      }
    },
    {
      "cell_type": "markdown",
      "source": [
        "In this implementation, the toString() method is overridden from the Object class to provide a customized string representation for the Vector class. It concatenates the vector components x, y, and z with commas and encloses them within parentheses, resulting in a string in the format (x, y, z).\n",
        "\n",
        "By overriding the toString() method, you can now call it on a Vector object to obtain its string representation. For example:\n",
        "\n",
        "```\n",
        "Vector vector = new Vector(1.0, 2.0, 3.0);\n",
        "System.out.println(vector.toString()); // Output: (1.0, 2.0, 3.0)\n",
        "\n",
        "```"
      ],
      "metadata": {
        "id": "9a4LTPJqeMEO"
      }
    },
    {
      "cell_type": "markdown",
      "source": [
        "In Python, there is no explicit equivalent to the @Override annotation used in Java. However, you can achieve the same functionality by defining the __str__() method within the Vector class.\n",
        "\n",
        "Here's the Python equivalent code:"
      ],
      "metadata": {
        "id": "0ZnQ46oQeYRW"
      }
    },
    {
      "cell_type": "code",
      "source": [
        "class Vector:\n",
        "    def __init__(self, x, y, z):\n",
        "        self.x = x\n",
        "        self.y = y\n",
        "        self.z = z\n",
        "\n",
        "    # Other methods...\n",
        "\n",
        "    def __str__(self):\n",
        "        return f\"({self.x}, {self.y}, {self.z})\"\n"
      ],
      "metadata": {
        "id": "h-F9_4ZEeDD0"
      },
      "execution_count": 2,
      "outputs": []
    },
    {
      "cell_type": "markdown",
      "source": [
        "In this implementation, the __str__() method is defined to return a string representation of the Vector object. It uses f-string formatting to concatenate the x, y, and z components with commas and encloses them within parentheses.\n",
        "\n",
        "You can now create a Vector object and call the __str__() method to obtain its string representation. For example:\n"
      ],
      "metadata": {
        "id": "mBx2SV1Aeknn"
      }
    },
    {
      "cell_type": "code",
      "source": [
        "vector = Vector(1.0, 2.0, 3.0)\n",
        "print(vector)  # Output: (1.0, 2.0, 3.0)\n"
      ],
      "metadata": {
        "colab": {
          "base_uri": "https://localhost:8080/"
        },
        "id": "5TAsUK-Cenlf",
        "outputId": "0d3eeb02-19e8-4587-992e-b518a69e3e5f"
      },
      "execution_count": 3,
      "outputs": [
        {
          "output_type": "stream",
          "name": "stdout",
          "text": [
            "(1.0, 2.0, 3.0)\n"
          ]
        }
      ]
    },
    {
      "cell_type": "markdown",
      "source": [
        "When you print the vector object or explicitly convert it to a string, it will use the __str__() method to provide the desired string representation."
      ],
      "metadata": {
        "id": "jPDAlHfyer99"
      }
    },
    {
      "cell_type": "markdown",
      "source": [
        "## Creative Exercises."
      ],
      "metadata": {
        "id": "g2164-b_exwW"
      }
    },
    {
      "cell_type": "markdown",
      "source": [
        "### 19. Statistics.\n",
        "\n",
        "Develop a data type for maintaining statistics for a set of real numbers. Provide a method to add data points and methods that return the number of points, the mean, the standard deviation, and the variance.\n",
        "\n",
        "$\\overline{x} = \\frac{1}{n}\\sum_{i}x_i$\n",
        "\n",
        "$s^2 = \\frac{\\sum_{i}(x_i - \\mu)^2}{n-1}$ = $\\frac{n\\sum_{i}x^{2}_i - (\\sum_{i}x_i)^2}{n(n-1)}$\n",
        "\n",
        "Develop two implementations: **OnePass.java** whose instance values are the number of points and the sum of the values, and the sum of the squares of the values, **TwoPass.java** that keeps an array containing all the points. For simplicity, you may take the maximum number of points in the constructor. Your first implementation is likely to be faster and use substantially less space, but is also likely to be susceptible to roundoff error."
      ],
      "metadata": {
        "id": "og8D1ouoe5P0"
      }
    },
    {
      "cell_type": "markdown",
      "source": [
        "By: Michael Spencer \\\\\n",
        "**OnePass.java**\n",
        "```\n",
        "public class OnePass {\n",
        "    private int n;           // Number of data points\n",
        "    private double sum;      // Sum of values\n",
        "    private double sumSquares;  // Sum of squares of values\n",
        "\n",
        "    public OnePass() {\n",
        "        n = 0;\n",
        "        sum = 0.0;\n",
        "        sumSquares = 0.0;\n",
        "    }\n",
        "\n",
        "    public void addDataPoint(double x) {\n",
        "        n++;\n",
        "        sum += x;\n",
        "        sumSquares += x * x;\n",
        "    }\n",
        "\n",
        "    public int getNumberOfPoints() {\n",
        "        return n;\n",
        "    }\n",
        "\n",
        "    public double getMean() {\n",
        "        return sum / n;\n",
        "    }\n",
        "\n",
        "    public double getStandardDeviation() {\n",
        "        double mean = getMean();\n",
        "        double variance = (sumSquares - (sum * sum) / n) / (n - 1);\n",
        "        return Math.sqrt(variance);\n",
        "    }\n",
        "\n",
        "    public double getVariance() {\n",
        "        double mean = getMean();\n",
        "        return (sumSquares - (sum * sum) / n) / (n - 1);\n",
        "    }\n",
        "}\n",
        "\n",
        "```"
      ],
      "metadata": {
        "id": "WiwruUoqpUls"
      }
    },
    {
      "cell_type": "markdown",
      "source": [
        "By: Michael Spencer \\\\\n",
        "**TwoPass.java**\n",
        "\n",
        "```\n",
        "public class TwoPass {\n",
        "    private int n;           // Number of data points\n",
        "    private double[] data;   // Array to store data points\n",
        "\n",
        "    public TwoPass(int maxPoints) {\n",
        "        n = 0;\n",
        "        data = new double[maxPoints];\n",
        "    }\n",
        "\n",
        "    public void addDataPoint(double x) {\n",
        "        data[n++] = x;\n",
        "    }\n",
        "\n",
        "    public int getNumberOfPoints() {\n",
        "        return n;\n",
        "    }\n",
        "\n",
        "    public double getMean() {\n",
        "        double sum = 0.0;\n",
        "        for (int i = 0; i < n; i++) {\n",
        "            sum += data[i];\n",
        "        }\n",
        "        return sum / n;\n",
        "    }\n",
        "\n",
        "    public double getStandardDeviation() {\n",
        "        double mean = getMean();\n",
        "        double sumSquares = 0.0;\n",
        "        for (int i = 0; i < n; i++) {\n",
        "            sumSquares += (data[i] - mean) * (data[i] - mean);\n",
        "        }\n",
        "        double variance = sumSquares / (n - 1);\n",
        "        return Math.sqrt(variance);\n",
        "    }\n",
        "\n",
        "    public double getVariance() {\n",
        "        double mean = getMean();\n",
        "        double sumSquares = 0.0;\n",
        "        for (int i = 0; i < n; i++) {\n",
        "            sumSquares += (data[i] - mean) * (data[i] - mean);\n",
        "        }\n",
        "        return sumSquares / (n - 1);\n",
        "    }\n",
        "}\n",
        "\n",
        "```"
      ],
      "metadata": {
        "id": "H_uA91nxph08"
      }
    },
    {
      "cell_type": "markdown",
      "source": [
        "**Implementations:**\n",
        "\n",
        "```\n",
        "OnePass onePassStats = new OnePass();\n",
        "onePassStats.addDataPoint(10.0);\n",
        "onePassStats.addDataPoint(20.0);\n",
        "onePassStats.addDataPoint(30.0);\n",
        "\n",
        "System.out.println(\"Number of points: \" + onePassStats.getNumberOfPoints());\n",
        "System.out.println(\"Mean: \" + onePassStats.getMean());\n",
        "System.out.println(\"Standard Deviation: \" + onePassStats.getStandardDeviation());\n",
        "System.out.println(\"Variance: \" + onePassStats.getVariance());\n",
        "\n",
        "TwoPass twoPassStats = new TwoPass(100);\n",
        "twoPassStats.addDataPoint(10.0);\n",
        "twoPassStats.addDataPoint(20.0);\n",
        "twoPassStats.addDataPoint(30.0);\n",
        "\n",
        "System.out.println(\"Number of points: \" + twoPassStats.getNumberOfPoints());\n",
        "System.out.println(\"Mean: \" + twoPassStats.getMean());\n",
        "System.out.println(\"Standard Deviation: \" + twoPassStats.getStandardDeviation());\n",
        "System.out.println(\"Variance: \" + twoPassStats.getVariance());\n",
        "\n",
        "```"
      ],
      "metadata": {
        "id": "X3QVUesLp3km"
      }
    },
    {
      "cell_type": "markdown",
      "source": [
        "(Book) Solution:\n",
        "\n",
        "$m_0 = 0$ \\\\\n",
        "$s_0 = 0$ \\\\\n",
        "$m_n = m_{n-1} + \\frac{1}{n}(x_n - m_{n-1})$ \\\\\n",
        "\n",
        "\n",
        "$s_n = s_{n-1} + \\frac{n-1}{n}(x_n - m_{n-1})^2$ \\\\\n",
        "\n",
        "$\\overline{x} = m_n$ \\\\\n",
        "\n",
        "$s^2 = \\frac{1}{n-1}s_n$\n"
      ],
      "metadata": {
        "id": "VbsmzycLmtpo"
      }
    },
    {
      "cell_type": "markdown",
      "source": [
        "/* By: Michael Spencer */\n",
        "```\n",
        "public class OnePass {\n",
        "    private int n;          // Number of data points\n",
        "    private double mean;    // Mean\n",
        "    private double variance;    // Variance\n",
        "\n",
        "    public OnePass() {\n",
        "        n = 0;\n",
        "        mean = 0.0;\n",
        "        variance = 0.0;\n",
        "    }\n",
        "\n",
        "    public void addDataPoint(double x) {\n",
        "        n++;\n",
        "        double delta = x - mean;\n",
        "        mean += delta / n;\n",
        "        variance += (n - 1) * delta * delta / n;\n",
        "    }\n",
        "\n",
        "    public int getNumberOfPoints() {\n",
        "        return n;\n",
        "    }\n",
        "\n",
        "    public double getMean() {\n",
        "        return mean;\n",
        "    }\n",
        "\n",
        "    public double getStandardDeviation() {\n",
        "        return Math.sqrt(variance / (n - 1));\n",
        "    }\n",
        "\n",
        "    public double getVariance() {\n",
        "        return variance / (n - 1);\n",
        "    }\n",
        "}\n",
        "\n",
        "```\n",
        "\n",
        "This implementation utilizes the incremental update formulas to calculate the mean and variance. The **addDataPoint()** method updates the mean and variance using these formulas based on the new data point. The **getNumberOfPoints()**, **getMean()**, **getStandardDeviation()**, and **getVariance()** methods return the respective statistics based on the accumulated data."
      ],
      "metadata": {
        "id": "VrCen91mocJL"
      }
    },
    {
      "cell_type": "markdown",
      "source": [
        "### 20. Genome.\n",
        "\n",
        "Develop a data type to store the genome of an organism. Biologists often abstract away the genome to a sequence of nucleotides (A, C, G, or T). The data type should support the method **addNucleotide()**, **nucleotideAt()**, as well as **isPotentialGene().** Develop three implementations.\n",
        "\n",
        "- Use one instance variable of type String, implementing **addCodon()** with string concatenation. Each method call takes time proportional to the length of the current genome.\n",
        "- Use an array of characters, doubling the length of the array each time it fills up.\n",
        "- Use a boolean array, using two bits to encode each codon, and doubling the length of the array each time it fills up."
      ],
      "metadata": {
        "id": "bGYyL4Dbo03T"
      }
    },
    {
      "cell_type": "markdown",
      "source": [
        "1. **StringGenome:** This implementation uses a single instance variable of type String to represent the genome. Each nucleotide is appended to the end of the string using string concatenation.\n",
        "\n",
        "```\n",
        "public class StringGenome {\n",
        "    private String genome;\n",
        "\n",
        "    public StringGenome() {\n",
        "        genome = \"\";\n",
        "    }\n",
        "\n",
        "    public void addNucleotide(char nucleotide) {\n",
        "        genome += nucleotide;\n",
        "    }\n",
        "\n",
        "    public char nucleotideAt(int index) {\n",
        "        return genome.charAt(index);\n",
        "    }\n",
        "\n",
        "    public boolean isPotentialGene() {\n",
        "        // Check if the genome matches the criteria for a potential gene\n",
        "        // Implement your logic here\n",
        "    }\n",
        "}\n",
        "\n",
        "```"
      ],
      "metadata": {
        "id": "suPO_TpOq6zv"
      }
    },
    {
      "cell_type": "markdown",
      "source": [
        "2. **ArrayGenome:** This implementation uses an array of characters to store the genome. The array is resized by doubling its length whenever it becomes full.\n",
        "\n",
        "```\n",
        "public class ArrayGenome {\n",
        "    private char[] genome;\n",
        "    private int size;\n",
        "\n",
        "    public ArrayGenome() {\n",
        "        genome = new char[1];\n",
        "        size = 0;\n",
        "    }\n",
        "\n",
        "    public void addNucleotide(char nucleotide) {\n",
        "        if (size == genome.length) {\n",
        "            resize(genome.length * 2);\n",
        "        }\n",
        "        genome[size++] = nucleotide;\n",
        "    }\n",
        "\n",
        "    public char nucleotideAt(int index) {\n",
        "        return genome[index];\n",
        "    }\n",
        "\n",
        "    public boolean isPotentialGene() {\n",
        "        // Check if the genome matches the criteria for a potential gene\n",
        "        // Implement your logic here\n",
        "    }\n",
        "\n",
        "    private void resize(int capacity) {\n",
        "        char[] newGenome = new char[capacity];\n",
        "        System.arraycopy(genome, 0, newGenome, 0, size);\n",
        "        genome = newGenome;\n",
        "    }\n",
        "}\n",
        "\n",
        "```"
      ],
      "metadata": {
        "id": "DcjOc-qurE5u"
      }
    },
    {
      "cell_type": "markdown",
      "source": [
        "3. **BitArrayGenome:** This implementation uses a boolean array, encoding each nucleotide with two bits. The array is resized by doubling its length whenever it becomes full.\n",
        "\n",
        "```\n",
        "public class BitArrayGenome {\n",
        "    private boolean[] genome;\n",
        "    private int size;\n",
        "\n",
        "    public BitArrayGenome() {\n",
        "        genome = new boolean[1];\n",
        "        size = 0;\n",
        "    }\n",
        "\n",
        "    public void addNucleotide(char nucleotide) {\n",
        "        if (size + 1 > genome.length * 4) {\n",
        "            resize(genome.length * 2);\n",
        "        }\n",
        "        encodeNucleotide(nucleotide);\n",
        "    }\n",
        "\n",
        "    public char nucleotideAt(int index) {\n",
        "        return decodeNucleotide(index);\n",
        "    }\n",
        "\n",
        "    public boolean isPotentialGene() {\n",
        "        // Check if the genome matches the criteria for a potential gene\n",
        "        // Implement your logic here\n",
        "    }\n",
        "\n",
        "    private void resize(int capacity) {\n",
        "        boolean[] newGenome = new boolean[capacity];\n",
        "        System.arraycopy(genome, 0, newGenome, 0, size);\n",
        "        genome = newGenome;\n",
        "    }\n",
        "\n",
        "    private void encodeNucleotide(char nucleotide) {\n",
        "        int startIndex = size * 2;\n",
        "        switch (nucleotide) {\n",
        "            case 'A':\n",
        "                genome[startIndex] = false;\n",
        "                genome[startIndex + 1] = false;\n",
        "                break;\n",
        "            case 'C':\n",
        "                genome[startIndex] = false;\n",
        "                genome[startIndex + 1] = true;\n",
        "                break;\n",
        "            case 'G':\n",
        "                genome[startIndex] = true;\n",
        "                genome[startIndex + 1] = false;\n",
        "                break;\n",
        "            case 'T':\n",
        "                genome[startIndex] = true;\n",
        "                genome[startIndex + 1] = true;\n",
        "                break;\n",
        "            default:\n",
        "                throw new IllegalArgumentException(\"Invalid nucleotide: \" + nucleotide);\n",
        "        }\n",
        "        size++;\n",
        "    }\n",
        "\n",
        "    private char decodeNucleotide(int index) {\n",
        "        int startIndex = index * 2;\n",
        "        boolean firstBit = genome[startIndex];\n",
        "        boolean secondBit = genome[startIndex + 1];\n",
        "        if (!firstBit && !secondBit) {\n",
        "            return 'A';\n",
        "        } else if (!firstBit && secondBit) {\n",
        "            return 'C';\n",
        "        } else if (firstBit && !secondBit) {\n",
        "            return 'G';\n",
        "        } else {\n",
        "            return 'T';\n",
        "        }\n",
        "    }\n",
        "}\n",
        "\n",
        "```"
      ],
      "metadata": {
        "id": "PXidCOdorZTX"
      }
    },
    {
      "cell_type": "markdown",
      "source": [
        "(Book) Solution:\n",
        "\n",
        "**StringGenome.java, Genome.java**, and **CompactGenome.java.**"
      ],
      "metadata": {
        "id": "4hw0Pv1-rpwY"
      }
    },
    {
      "cell_type": "markdown",
      "source": [
        "### 24. Encapsulation.\n",
        "\n",
        "Is the following class immutable?\n",
        "\n",
        "```\n",
        "import java.util.Date\n",
        "\n",
        "public class Appointment {\n",
        "    private Date date;\n",
        "    private String contact;\n",
        "\n",
        "    public Appointment(Date date) {\n",
        "        this.date = date;\n",
        "        this.contact = contact;\n",
        "    }\n",
        "\n",
        "    public Date getDate() {\n",
        "        return date;\n",
        "    }\n",
        "```"
      ],
      "metadata": {
        "id": "5786o4CXsRTo"
      }
    },
    {
      "cell_type": "markdown",
      "source": [
        "**No,** the given Appointment class is not immutable. To make the class immutable, you need to follow these guidelines:\n",
        "\n",
        "- Declare all instance variables as private and final to prevent modification after object creation.\n",
        "\n",
        "- Do not provide any public methods that can modify the state of the object.\n",
        "\n",
        "- Ensure that mutable objects referenced by the class are not exposed or are safely copied.\n",
        "\n",
        "```\n",
        "import java.util.Date;\n",
        "\n",
        "public final class Appointment {\n",
        "    private final Date date;\n",
        "    private final String contact;\n",
        "\n",
        "    public Appointment(Date date, String contact) {\n",
        "        this.date = new Date(date.getTime()); // Create a defensive copy of the Date object\n",
        "        this.contact = contact; // String is immutable, so no need to make a defensive copy\n",
        "    }\n",
        "\n",
        "    public Date getDate() {\n",
        "        return new Date(date.getTime()); // Return a defensive copy of the Date object\n",
        "    }\n",
        "\n",
        "    public String getContact() {\n",
        "        return contact;\n",
        "    }\n",
        "}\n",
        "\n",
        "```"
      ],
      "metadata": {
        "id": "rKhjlZSrtu2r"
      }
    },
    {
      "cell_type": "markdown",
      "source": [
        "In this updated version, the date and contact variables are declared as private final, making them unmodifiable after object creation. The date variable is defensively copied in the constructor and when returning the value from the **getDate()** method to prevent external modification of the internal Date object.\n",
        "\n",
        "By following these modifications, the Appointment class is now immutable since its state cannot be changed once the object is created."
      ],
      "metadata": {
        "id": "QFAkzoersifx"
      }
    },
    {
      "cell_type": "markdown",
      "source": [
        "(Book) Solution:\n",
        "\n",
        "**No,** because Java's **java.util.Date** is mutable. To correct, make a defensive copy of the date in the constructor and make a defensive copy of the date before returning to the client."
      ],
      "metadata": {
        "id": "jxgL-F9OuPEN"
      }
    },
    {
      "cell_type": "markdown",
      "source": [
        "### 25. Date.\n",
        "\n",
        "Design an implementation of Java's **java.util.Date** API that is immutable and therefore corrects the defects of the previous exercise."
      ],
      "metadata": {
        "id": "nStt3ddMuh_M"
      }
    },
    {
      "cell_type": "markdown",
      "source": [
        "To design an implementation of Java's java.util.Date API that is immutable, you can create a new class **ImmutableDate** that encapsulates a java.util.Date object and provides a set of methods to access and manipulate the date values in an immutable manner.\n",
        "\n",
        "Here's an example implementation:\n",
        "\n",
        "```\n",
        "import java.util.Date;\n",
        "\n",
        "public final class ImmutableDate {\n",
        "    private final Date date;\n",
        "\n",
        "    public ImmutableDate(Date date) {\n",
        "        this.date = new Date(date.getTime()); // Create a defensive copy of the Date object\n",
        "    }\n",
        "\n",
        "    public long getTime() {\n",
        "        return date.getTime();\n",
        "    }\n",
        "\n",
        "    // Additional methods for accessing and manipulating date values as needed\n",
        "\n",
        "    @Override\n",
        "    public boolean equals(Object obj) {\n",
        "        if (this == obj) {\n",
        "            return true;\n",
        "        }\n",
        "        if (obj == null || getClass() != obj.getClass()) {\n",
        "            return false;\n",
        "        }\n",
        "        ImmutableDate other = (ImmutableDate) obj;\n",
        "        return date.equals(other.date);\n",
        "    }\n",
        "\n",
        "    @Override\n",
        "    public int hashCode() {\n",
        "        return date.hashCode();\n",
        "    }\n",
        "\n",
        "    @Override\n",
        "    public String toString() {\n",
        "        return date.toString();\n",
        "    }\n",
        "}\n",
        "\n",
        "```\n",
        "\n",
        "In this implementation, the ImmutableDate class wraps a java.util.Date object and makes it immutable by creating a defensive copy of the Date object in the constructor. This ensures that the internal Date object cannot be modified externally.\n",
        "\n",
        "The class provides a **getTime()** method to access the underlying time value and can include additional methods as needed for accessing and manipulating other date-related values.\n",
        "\n",
        "To ensure correctness, the **equals()**, **hashCode()**, and **toString()** methods are overridden to properly compare and represent the ImmutableDate objects based on the underlying Date object.\n",
        "\n",
        "By using this ImmutableDate class instead of java.util.Date, you can have an immutable representation of dates, addressing the defects associated with the mutable nature of java.util.Date."
      ],
      "metadata": {
        "id": "ZJ-67wFRu2WO"
      }
    },
    {
      "cell_type": "markdown",
      "source": [
        "(Book) Partial solution: **Date.java**."
      ],
      "metadata": {
        "id": "EDFtFB26vSz3"
      }
    },
    {
      "cell_type": "markdown",
      "source": [
        "## Web Exercises.\n"
      ],
      "metadata": {
        "id": "Ky_wvrZKvbBE"
      }
    },
    {
      "cell_type": "markdown",
      "source": [
        "### 1. Genome.java\n",
        "\n",
        "Add methods to **Genome.java** to test for equality and return the reverse-complemented genome.\n"
      ],
      "metadata": {
        "id": "6W6WebVRvmGt"
      }
    },
    {
      "cell_type": "markdown",
      "source": [
        "```\n",
        "public class Genome {\n",
        "    private char[] genome;\n",
        "    private int size;\n",
        "\n",
        "    public Genome() {\n",
        "        genome = new char[1];\n",
        "        size = 0;\n",
        "    }\n",
        "\n",
        "    public void addNucleotide(char nucleotide) {\n",
        "        if (size == genome.length) {\n",
        "            resize(genome.length * 2);\n",
        "        }\n",
        "        genome[size++] = nucleotide;\n",
        "    }\n",
        "\n",
        "    public char nucleotideAt(int index) {\n",
        "        return genome[index];\n",
        "    }\n",
        "\n",
        "    public boolean isPotentialGene() {\n",
        "        // Check if the genome matches the criteria for a potential gene\n",
        "        // Implement your logic here\n",
        "    }\n",
        "\n",
        "    public boolean equals(Genome other) {\n",
        "        if (other == this) {\n",
        "            return true;\n",
        "        }\n",
        "        if (other == null || getClass() != other.getClass()) {\n",
        "            return false;\n",
        "        }\n",
        "        if (size != other.size) {\n",
        "            return false;\n",
        "        }\n",
        "        for (int i = 0; i < size; i++) {\n",
        "            if (genome[i] != other.genome[i]) {\n",
        "                return false;\n",
        "            }\n",
        "        }\n",
        "        return true;\n",
        "    }\n",
        "\n",
        "    public Genome reverseComplement() {\n",
        "        Genome reverse = new Genome();\n",
        "        for (int i = size - 1; i >= 0; i--) {\n",
        "            char nucleotide = genome[i];\n",
        "            char complement = getComplement(nucleotide);\n",
        "            reverse.addNucleotide(complement);\n",
        "        }\n",
        "        return reverse;\n",
        "    }\n",
        "\n",
        "    private void resize(int capacity) {\n",
        "        char[] newGenome = new char[capacity];\n",
        "        System.arraycopy(genome, 0, newGenome, 0, size);\n",
        "        genome = newGenome;\n",
        "    }\n",
        "\n",
        "    private char getComplement(char nucleotide) {\n",
        "        switch (nucleotide) {\n",
        "            case 'A':\n",
        "                return 'T';\n",
        "            case 'T':\n",
        "                return 'A';\n",
        "            case 'G':\n",
        "                return 'C';\n",
        "            case 'C':\n",
        "                return 'G';\n",
        "            default:\n",
        "                throw new IllegalArgumentException(\"Invalid nucleotide: \" + nucleotide);\n",
        "        }\n",
        "    }\n",
        "}\n",
        "\n",
        "```\n",
        "\n",
        "In this updated Genome class, two new methods are added:\n",
        "\n",
        "**equals()**: This method takes another Genome object as a parameter and checks for equality by comparing the size and the nucleotides at each position. It returns true if the genomes are equal, and false otherwise.\n",
        "\n",
        "**reverseComplement()**: This method returns a new Genome object that represents the reverse complement of the current genome. It iterates over the nucleotides in reverse order, finds the complement for each nucleotide using the **getComplement()** method, and adds the complement nucleotide to the new Genome object.\n",
        "\n",
        "With these additions, you can now compare two Genome objects for equality using the **equals()** method and obtain the reverse complement of a Genome object using the **reverseComplement()** method."
      ],
      "metadata": {
        "id": "0dH3_Xp4v9FG"
      }
    },
    {
      "cell_type": "markdown",
      "source": [
        "### 2. Date.java\n",
        "\n",
        "Add methods to Date.java to check which season (Spring, Summer, Fall, Winter) or astrological sign (Pisces, Libra, ...) a given date lies. Be careful about events that span December to January.\n"
      ],
      "metadata": {
        "id": "RaI20gSVwiR-"
      }
    },
    {
      "cell_type": "markdown",
      "source": [
        "To add methods to the **Date.java** class to determine the season and astrological sign corresponding to a given date, we need to consider the specific rules and definitions for each of these categories. Below is an example implementation that assumes the following definitions:\n",
        "\n",
        "**Seasons**:\n",
        "\n",
        "- Spring: March 20th to June 20th\n",
        "- Summer: June 21st to September 21st\n",
        "- Fall: September 22nd to December 20th\n",
        "- Winter: December 21st to March 19th\n",
        "\n",
        "**Astrological Signs**:\n",
        "\n",
        "- Pisces: February 19th to March 20th\n",
        "- Aries: March 21st to April 19th\n",
        "- Taurus: April 20th to May 20th\n",
        "- Gemini: May 21st to June 20th\n",
        "- Cancer: June 21st to July 22nd\n",
        "- Leo: July 23rd to August 22nd\n",
        "- Virgo: August 23rd to September 22nd\n",
        "- Libra: September 23rd to October 22nd\n",
        "- Scorpio: October 23rd to November 21st\n",
        "- Sagittarius: November 22nd to December 21st\n",
        "- Capricorn: December 22nd to January 19th\n",
        "- Aquarius: January 20th to February 18th\n",
        "\n",
        "```\n",
        "import java.util.Calendar;\n",
        "import java.util.Date;\n",
        "\n",
        "public class Date {\n",
        "    private Calendar calendar;\n",
        "\n",
        "    public Date() {\n",
        "        calendar = Calendar.getInstance();\n",
        "        calendar.setLenient(false);\n",
        "    }\n",
        "\n",
        "    // Other methods...\n",
        "\n",
        "    public String getSeason() {\n",
        "        int month = calendar.get(Calendar.MONTH);\n",
        "        int day = calendar.get(Calendar.DAY_OF_MONTH);\n",
        "\n",
        "        if ((month == Calendar.MARCH && day >= 20) || month == Calendar.APRIL || month == Calendar.MAY ||\n",
        "                (month == Calendar.JUNE && day < 20)) {\n",
        "            return \"Spring\";\n",
        "        } else if ((month == Calendar.JUNE && day >= 21) || month == Calendar.JULY || month == Calendar.AUGUST ||\n",
        "                (month == Calendar.SEPTEMBER && day < 21)) {\n",
        "            return \"Summer\";\n",
        "        } else if ((month == Calendar.SEPTEMBER && day >= 22) || month == Calendar.OCTOBER ||\n",
        "                month == Calendar.NOVEMBER || (month == Calendar.DECEMBER && day < 21)) {\n",
        "            return \"Fall\";\n",
        "        } else {\n",
        "            return \"Winter\";\n",
        "        }\n",
        "    }\n",
        "\n",
        "    public String getAstrologicalSign() {\n",
        "        int month = calendar.get(Calendar.MONTH);\n",
        "        int day = calendar.get(Calendar.DAY_OF_MONTH);\n",
        "\n",
        "        if ((month == Calendar.JANUARY && day >= 20) || (month == Calendar.FEBRUARY && day <= 18)) {\n",
        "            return \"Aquarius\";\n",
        "        } else if ((month == Calendar.FEBRUARY && day >= 19) || (month == Calendar.MARCH && day <= 20)) {\n",
        "            return \"Pisces\";\n",
        "        } else if ((month == Calendar.MARCH && day >= 21) || (month == Calendar.APRIL && day <= 19)) {\n",
        "            return \"Aries\";\n",
        "        } else if ((month == Calendar.APRIL && day >= 20) || (month == Calendar.MAY && day <= 20)) {\n",
        "            return \"Taurus\";\n",
        "        } else if ((month == Calendar.MAY && day >= 21) || (month == Calendar.JUNE && day <= 20)) {\n",
        "            return \"Gemini\";\n",
        "        } else if ((month == Calendar.JUNE && day >= 21) || (month == Calendar.JULY && day <= 22)) {\n",
        "            return \"Cancer\";\n",
        "        } else if ((month == Calendar.JULY && day >= 23) || (month == Calendar.AUGUST && day <= 22)) {\n",
        "            return \"Leo\";\n",
        "        } else if ((month == Calendar.AUGUST && day >= 23) || (month == Calendar.SEPTEMBER && day <= 22)) {\n",
        "            return \"Virgo\";\n",
        "        } else if ((month == Calendar.SEPTEMBER && day >= 23) || (month == Calendar.OCTOBER && day <= 22)) {\n",
        "            return \"Libra\";\n",
        "        } else if ((month == Calendar.OCTOBER && day >= 23) || (month == Calendar.NOVEMBER && day <= 21)) {\n",
        "            return \"Scorpio\";\n",
        "        } else if ((month == Calendar.NOVEMBER && day >= 22) || (month == Calendar.DECEMBER && day <= 21)) {\n",
        "            return \"Sagittarius\";\n",
        "        } else {\n",
        "            return \"Capricorn\";\n",
        "        }\n",
        "    }\n",
        "}\n",
        "\n",
        "```\n",
        "\n"
      ],
      "metadata": {
        "id": "xgPsqM__wsN3"
      }
    },
    {
      "cell_type": "markdown",
      "source": [],
      "metadata": {
        "id": "UkUldY74xymR"
      }
    }
  ]
}